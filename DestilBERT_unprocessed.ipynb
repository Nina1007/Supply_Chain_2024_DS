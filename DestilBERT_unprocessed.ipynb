{
 "cells": [
  {
   "cell_type": "code",
   "execution_count": 1,
   "metadata": {},
   "outputs": [
    {
     "name": "stdout",
     "output_type": "stream",
     "text": [
      "Collecting transformers\n",
      "  Downloading transformers-4.46.3-py3-none-any.whl.metadata (44 kB)\n",
      "Collecting datasets\n",
      "  Downloading datasets-3.1.0-py3-none-any.whl.metadata (20 kB)\n",
      "Collecting torch\n",
      "  Downloading torch-2.5.1-cp312-cp312-win_amd64.whl.metadata (28 kB)\n",
      "Collecting filelock (from transformers)\n",
      "  Downloading filelock-3.16.1-py3-none-any.whl.metadata (2.9 kB)\n",
      "Collecting huggingface-hub<1.0,>=0.23.2 (from transformers)\n",
      "  Downloading huggingface_hub-0.26.2-py3-none-any.whl.metadata (13 kB)\n",
      "Requirement already satisfied: numpy>=1.17 in c:\\users\\admin\\.conda\\envs\\supply_chain\\lib\\site-packages (from transformers) (1.26.4)\n",
      "Requirement already satisfied: packaging>=20.0 in c:\\users\\admin\\.conda\\envs\\supply_chain\\lib\\site-packages (from transformers) (24.1)\n",
      "Requirement already satisfied: pyyaml>=5.1 in c:\\users\\admin\\.conda\\envs\\supply_chain\\lib\\site-packages (from transformers) (6.0.2)\n",
      "Requirement already satisfied: regex!=2019.12.17 in c:\\users\\admin\\.conda\\envs\\supply_chain\\lib\\site-packages (from transformers) (2024.9.11)\n",
      "Requirement already satisfied: requests in c:\\users\\admin\\.conda\\envs\\supply_chain\\lib\\site-packages (from transformers) (2.32.3)\n",
      "Collecting tokenizers<0.21,>=0.20 (from transformers)\n",
      "  Downloading tokenizers-0.20.3-cp312-none-win_amd64.whl.metadata (6.9 kB)\n",
      "Collecting safetensors>=0.4.1 (from transformers)\n",
      "  Downloading safetensors-0.4.5-cp312-none-win_amd64.whl.metadata (3.9 kB)\n",
      "Requirement already satisfied: tqdm>=4.27 in c:\\users\\admin\\.conda\\envs\\supply_chain\\lib\\site-packages (from transformers) (4.66.5)\n",
      "Collecting pyarrow>=15.0.0 (from datasets)\n",
      "  Downloading pyarrow-18.0.0-cp312-cp312-win_amd64.whl.metadata (3.4 kB)\n",
      "Collecting dill<0.3.9,>=0.3.0 (from datasets)\n",
      "  Downloading dill-0.3.8-py3-none-any.whl.metadata (10 kB)\n",
      "Requirement already satisfied: pandas in c:\\users\\admin\\.conda\\envs\\supply_chain\\lib\\site-packages (from datasets) (2.2.2)\n",
      "Collecting xxhash (from datasets)\n",
      "  Downloading xxhash-3.5.0-cp312-cp312-win_amd64.whl.metadata (13 kB)\n",
      "Collecting multiprocess<0.70.17 (from datasets)\n",
      "  Downloading multiprocess-0.70.16-py312-none-any.whl.metadata (7.2 kB)\n",
      "Collecting fsspec<=2024.9.0,>=2023.1.0 (from fsspec[http]<=2024.9.0,>=2023.1.0->datasets)\n",
      "  Downloading fsspec-2024.9.0-py3-none-any.whl.metadata (11 kB)\n",
      "Collecting aiohttp (from datasets)\n",
      "  Downloading aiohttp-3.11.7-cp312-cp312-win_amd64.whl.metadata (8.0 kB)\n",
      "Requirement already satisfied: typing-extensions>=4.8.0 in c:\\users\\admin\\.conda\\envs\\supply_chain\\lib\\site-packages (from torch) (4.11.0)\n",
      "Collecting networkx (from torch)\n",
      "  Downloading networkx-3.4.2-py3-none-any.whl.metadata (6.3 kB)\n",
      "Requirement already satisfied: jinja2 in c:\\users\\admin\\.conda\\envs\\supply_chain\\lib\\site-packages (from torch) (3.1.4)\n",
      "Requirement already satisfied: setuptools in c:\\users\\admin\\.conda\\envs\\supply_chain\\lib\\site-packages (from torch) (75.1.0)\n",
      "Collecting sympy==1.13.1 (from torch)\n",
      "  Downloading sympy-1.13.1-py3-none-any.whl.metadata (12 kB)\n",
      "Collecting mpmath<1.4,>=1.1.0 (from sympy==1.13.1->torch)\n",
      "  Downloading mpmath-1.3.0-py3-none-any.whl.metadata (8.6 kB)\n",
      "Collecting aiohappyeyeballs>=2.3.0 (from aiohttp->datasets)\n",
      "  Downloading aiohappyeyeballs-2.4.3-py3-none-any.whl.metadata (6.1 kB)\n",
      "Collecting aiosignal>=1.1.2 (from aiohttp->datasets)\n",
      "  Downloading aiosignal-1.3.1-py3-none-any.whl.metadata (4.0 kB)\n",
      "Requirement already satisfied: attrs>=17.3.0 in c:\\users\\admin\\.conda\\envs\\supply_chain\\lib\\site-packages (from aiohttp->datasets) (23.1.0)\n",
      "Collecting frozenlist>=1.1.1 (from aiohttp->datasets)\n",
      "  Downloading frozenlist-1.5.0-cp312-cp312-win_amd64.whl.metadata (14 kB)\n",
      "Collecting multidict<7.0,>=4.5 (from aiohttp->datasets)\n",
      "  Downloading multidict-6.1.0-cp312-cp312-win_amd64.whl.metadata (5.1 kB)\n",
      "Collecting propcache>=0.2.0 (from aiohttp->datasets)\n",
      "  Downloading propcache-0.2.0-cp312-cp312-win_amd64.whl.metadata (7.9 kB)\n",
      "Collecting yarl<2.0,>=1.17.0 (from aiohttp->datasets)\n",
      "  Downloading yarl-1.18.0-cp312-cp312-win_amd64.whl.metadata (69 kB)\n",
      "Requirement already satisfied: charset-normalizer<4,>=2 in c:\\users\\admin\\.conda\\envs\\supply_chain\\lib\\site-packages (from requests->transformers) (3.3.2)\n",
      "Requirement already satisfied: idna<4,>=2.5 in c:\\users\\admin\\.conda\\envs\\supply_chain\\lib\\site-packages (from requests->transformers) (3.7)\n",
      "Requirement already satisfied: urllib3<3,>=1.21.1 in c:\\users\\admin\\.conda\\envs\\supply_chain\\lib\\site-packages (from requests->transformers) (2.2.3)\n",
      "Requirement already satisfied: certifi>=2017.4.17 in c:\\users\\admin\\.conda\\envs\\supply_chain\\lib\\site-packages (from requests->transformers) (2024.8.30)\n",
      "Requirement already satisfied: colorama in c:\\users\\admin\\.conda\\envs\\supply_chain\\lib\\site-packages (from tqdm>=4.27->transformers) (0.4.6)\n",
      "Requirement already satisfied: MarkupSafe>=2.0 in c:\\users\\admin\\.conda\\envs\\supply_chain\\lib\\site-packages (from jinja2->torch) (2.1.3)\n",
      "Requirement already satisfied: python-dateutil>=2.8.2 in c:\\users\\admin\\.conda\\envs\\supply_chain\\lib\\site-packages (from pandas->datasets) (2.9.0.post0)\n",
      "Requirement already satisfied: pytz>=2020.1 in c:\\users\\admin\\.conda\\envs\\supply_chain\\lib\\site-packages (from pandas->datasets) (2024.1)\n",
      "Requirement already satisfied: tzdata>=2022.7 in c:\\users\\admin\\.conda\\envs\\supply_chain\\lib\\site-packages (from pandas->datasets) (2023.3)\n",
      "Requirement already satisfied: six>=1.5 in c:\\users\\admin\\.conda\\envs\\supply_chain\\lib\\site-packages (from python-dateutil>=2.8.2->pandas->datasets) (1.16.0)\n",
      "Downloading transformers-4.46.3-py3-none-any.whl (10.0 MB)\n",
      "   ---------------------------------------- 0.0/10.0 MB ? eta -:--:--\n",
      "   ----- ---------------------------------- 1.3/10.0 MB 6.7 MB/s eta 0:00:02\n",
      "   ---------- ----------------------------- 2.6/10.0 MB 6.6 MB/s eta 0:00:02\n",
      "   ---------------- ----------------------- 4.2/10.0 MB 6.6 MB/s eta 0:00:01\n",
      "   --------------------- ------------------ 5.5/10.0 MB 6.6 MB/s eta 0:00:01\n",
      "   --------------------------- ------------ 6.8/10.0 MB 6.5 MB/s eta 0:00:01\n",
      "   ------------------------------ --------- 7.6/10.0 MB 6.5 MB/s eta 0:00:01\n",
      "   ------------------------------------- -- 9.4/10.0 MB 6.5 MB/s eta 0:00:01\n",
      "   ---------------------------------------- 10.0/10.0 MB 6.4 MB/s eta 0:00:00\n",
      "Downloading datasets-3.1.0-py3-none-any.whl (480 kB)\n",
      "Downloading torch-2.5.1-cp312-cp312-win_amd64.whl (203.0 MB)\n",
      "   ---------------------------------------- 0.0/203.0 MB ? eta -:--:--\n",
      "   ---------------------------------------- 1.3/203.0 MB 6.1 MB/s eta 0:00:34\n",
      "    --------------------------------------- 2.6/203.0 MB 6.6 MB/s eta 0:00:31\n",
      "    --------------------------------------- 3.9/203.0 MB 6.5 MB/s eta 0:00:31\n",
      "   - -------------------------------------- 5.2/203.0 MB 6.5 MB/s eta 0:00:31\n",
      "   - -------------------------------------- 6.6/203.0 MB 6.5 MB/s eta 0:00:31\n",
      "   - -------------------------------------- 8.1/203.0 MB 6.5 MB/s eta 0:00:31\n",
      "   - -------------------------------------- 9.4/203.0 MB 6.5 MB/s eta 0:00:31\n",
      "   -- ------------------------------------- 10.7/203.0 MB 6.5 MB/s eta 0:00:30\n",
      "   -- ------------------------------------- 12.1/203.0 MB 6.4 MB/s eta 0:00:30\n",
      "   -- ------------------------------------- 13.4/203.0 MB 6.5 MB/s eta 0:00:30\n",
      "   -- ------------------------------------- 14.7/203.0 MB 6.5 MB/s eta 0:00:30\n",
      "   --- ------------------------------------ 16.0/203.0 MB 6.5 MB/s eta 0:00:29\n",
      "   --- ------------------------------------ 17.3/203.0 MB 6.5 MB/s eta 0:00:29\n",
      "   --- ------------------------------------ 18.6/203.0 MB 6.5 MB/s eta 0:00:29\n",
      "   --- ------------------------------------ 19.9/203.0 MB 6.5 MB/s eta 0:00:29\n",
      "   ---- ----------------------------------- 21.5/203.0 MB 6.4 MB/s eta 0:00:29\n",
      "   ---- ----------------------------------- 22.8/203.0 MB 6.4 MB/s eta 0:00:28\n",
      "   ---- ----------------------------------- 24.1/203.0 MB 6.4 MB/s eta 0:00:28\n",
      "   ----- ---------------------------------- 25.4/203.0 MB 6.4 MB/s eta 0:00:28\n",
      "   ----- ---------------------------------- 26.7/203.0 MB 6.4 MB/s eta 0:00:28\n",
      "   ----- ---------------------------------- 28.0/203.0 MB 6.4 MB/s eta 0:00:28\n",
      "   ----- ---------------------------------- 29.4/203.0 MB 6.4 MB/s eta 0:00:27\n",
      "   ------ --------------------------------- 30.7/203.0 MB 6.4 MB/s eta 0:00:27\n",
      "   ------ --------------------------------- 32.0/203.0 MB 6.4 MB/s eta 0:00:27\n",
      "   ------ --------------------------------- 33.6/203.0 MB 6.4 MB/s eta 0:00:27\n",
      "   ------ --------------------------------- 34.9/203.0 MB 6.4 MB/s eta 0:00:27\n",
      "   ------- -------------------------------- 36.2/203.0 MB 6.4 MB/s eta 0:00:26\n",
      "   ------- -------------------------------- 37.5/203.0 MB 6.4 MB/s eta 0:00:26\n",
      "   ------- -------------------------------- 38.8/203.0 MB 6.4 MB/s eta 0:00:26\n",
      "   ------- -------------------------------- 40.1/203.0 MB 6.4 MB/s eta 0:00:26\n",
      "   -------- ------------------------------- 41.7/203.0 MB 6.4 MB/s eta 0:00:26\n",
      "   -------- ------------------------------- 43.0/203.0 MB 6.4 MB/s eta 0:00:25\n",
      "   -------- ------------------------------- 44.3/203.0 MB 6.4 MB/s eta 0:00:25\n",
      "   -------- ------------------------------- 45.6/203.0 MB 6.4 MB/s eta 0:00:25\n",
      "   --------- ------------------------------ 46.9/203.0 MB 6.4 MB/s eta 0:00:25\n",
      "   --------- ------------------------------ 48.2/203.0 MB 6.4 MB/s eta 0:00:25\n",
      "   --------- ------------------------------ 49.5/203.0 MB 6.4 MB/s eta 0:00:24\n",
      "   ---------- ----------------------------- 50.9/203.0 MB 6.4 MB/s eta 0:00:24\n",
      "   ---------- ----------------------------- 52.2/203.0 MB 6.4 MB/s eta 0:00:24\n",
      "   ---------- ----------------------------- 53.5/203.0 MB 6.4 MB/s eta 0:00:24\n",
      "   ---------- ----------------------------- 54.8/203.0 MB 6.4 MB/s eta 0:00:24\n",
      "   ----------- ---------------------------- 56.1/203.0 MB 6.4 MB/s eta 0:00:23\n",
      "   ----------- ---------------------------- 57.4/203.0 MB 6.4 MB/s eta 0:00:23\n",
      "   ----------- ---------------------------- 58.7/203.0 MB 6.4 MB/s eta 0:00:23\n",
      "   ----------- ---------------------------- 60.3/203.0 MB 6.4 MB/s eta 0:00:23\n",
      "   ------------ --------------------------- 61.6/203.0 MB 6.4 MB/s eta 0:00:23\n",
      "   ------------ --------------------------- 62.9/203.0 MB 6.4 MB/s eta 0:00:22\n",
      "   ------------ --------------------------- 64.2/203.0 MB 6.4 MB/s eta 0:00:22\n",
      "   ------------ --------------------------- 65.5/203.0 MB 6.4 MB/s eta 0:00:22\n",
      "   ------------- -------------------------- 67.1/203.0 MB 6.4 MB/s eta 0:00:22\n",
      "   ------------- -------------------------- 68.4/203.0 MB 6.4 MB/s eta 0:00:21\n",
      "   ------------- -------------------------- 69.7/203.0 MB 6.4 MB/s eta 0:00:21\n",
      "   ------------- -------------------------- 71.0/203.0 MB 6.4 MB/s eta 0:00:21\n",
      "   -------------- ------------------------- 72.6/203.0 MB 6.4 MB/s eta 0:00:21\n",
      "   -------------- ------------------------- 73.9/203.0 MB 6.4 MB/s eta 0:00:21\n",
      "   -------------- ------------------------- 75.2/203.0 MB 6.4 MB/s eta 0:00:20\n",
      "   --------------- ------------------------ 76.5/203.0 MB 6.4 MB/s eta 0:00:20\n",
      "   --------------- ------------------------ 77.9/203.0 MB 6.4 MB/s eta 0:00:20\n",
      "   --------------- ------------------------ 79.2/203.0 MB 6.4 MB/s eta 0:00:20\n",
      "   --------------- ------------------------ 80.5/203.0 MB 6.4 MB/s eta 0:00:20\n",
      "   ---------------- ----------------------- 81.8/203.0 MB 6.4 MB/s eta 0:00:19\n",
      "   ---------------- ----------------------- 83.1/203.0 MB 6.4 MB/s eta 0:00:19\n",
      "   ---------------- ----------------------- 84.7/203.0 MB 6.4 MB/s eta 0:00:19\n",
      "   ---------------- ----------------------- 86.0/203.0 MB 6.4 MB/s eta 0:00:19\n",
      "   ----------------- ---------------------- 87.3/203.0 MB 6.4 MB/s eta 0:00:19\n",
      "   ----------------- ---------------------- 88.9/203.0 MB 6.4 MB/s eta 0:00:18\n",
      "   ----------------- ---------------------- 90.2/203.0 MB 6.4 MB/s eta 0:00:18\n",
      "   ------------------ --------------------- 91.5/203.0 MB 6.4 MB/s eta 0:00:18\n",
      "   ------------------ --------------------- 92.8/203.0 MB 6.4 MB/s eta 0:00:18\n",
      "   ------------------ --------------------- 94.1/203.0 MB 6.4 MB/s eta 0:00:17\n",
      "   ------------------ --------------------- 95.4/203.0 MB 6.4 MB/s eta 0:00:17\n",
      "   ------------------- -------------------- 96.7/203.0 MB 6.4 MB/s eta 0:00:17\n",
      "   ------------------- -------------------- 98.0/203.0 MB 6.4 MB/s eta 0:00:17\n",
      "   ------------------- -------------------- 99.4/203.0 MB 6.4 MB/s eta 0:00:17\n",
      "   ------------------- -------------------- 100.9/203.0 MB 6.4 MB/s eta 0:00:16\n",
      "   -------------------- ------------------- 102.2/203.0 MB 6.4 MB/s eta 0:00:16\n",
      "   -------------------- ------------------- 103.5/203.0 MB 6.4 MB/s eta 0:00:16\n",
      "   -------------------- ------------------- 104.9/203.0 MB 6.4 MB/s eta 0:00:16\n",
      "   -------------------- ------------------- 106.2/203.0 MB 6.4 MB/s eta 0:00:16\n",
      "   --------------------- ------------------ 107.5/203.0 MB 6.4 MB/s eta 0:00:15\n",
      "   --------------------- ------------------ 108.8/203.0 MB 6.4 MB/s eta 0:00:15\n",
      "   --------------------- ------------------ 110.1/203.0 MB 6.4 MB/s eta 0:00:15\n",
      "   --------------------- ------------------ 111.4/203.0 MB 6.4 MB/s eta 0:00:15\n",
      "   ---------------------- ----------------- 112.7/203.0 MB 6.4 MB/s eta 0:00:15\n",
      "   ---------------------- ----------------- 114.0/203.0 MB 6.4 MB/s eta 0:00:14\n",
      "   ---------------------- ----------------- 115.3/203.0 MB 6.4 MB/s eta 0:00:14\n",
      "   ---------------------- ----------------- 116.7/203.0 MB 6.4 MB/s eta 0:00:14\n",
      "   ----------------------- ---------------- 118.0/203.0 MB 6.4 MB/s eta 0:00:14\n",
      "   ----------------------- ---------------- 119.3/203.0 MB 6.4 MB/s eta 0:00:14\n",
      "   ----------------------- ---------------- 120.6/203.0 MB 6.4 MB/s eta 0:00:13\n",
      "   ------------------------ --------------- 121.9/203.0 MB 6.4 MB/s eta 0:00:13\n",
      "   ------------------------ --------------- 123.5/203.0 MB 6.4 MB/s eta 0:00:13\n",
      "   ------------------------ --------------- 124.8/203.0 MB 6.4 MB/s eta 0:00:13\n",
      "   ------------------------ --------------- 126.1/203.0 MB 6.4 MB/s eta 0:00:12\n",
      "   ------------------------- -------------- 127.4/203.0 MB 6.4 MB/s eta 0:00:12\n",
      "   ------------------------- -------------- 129.0/203.0 MB 6.4 MB/s eta 0:00:12\n",
      "   ------------------------- -------------- 130.3/203.0 MB 6.4 MB/s eta 0:00:12\n",
      "   ------------------------- -------------- 131.6/203.0 MB 6.4 MB/s eta 0:00:12\n",
      "   -------------------------- ------------- 132.9/203.0 MB 6.4 MB/s eta 0:00:11\n",
      "   -------------------------- ------------- 134.5/203.0 MB 6.4 MB/s eta 0:00:11\n",
      "   -------------------------- ------------- 135.8/203.0 MB 6.4 MB/s eta 0:00:11\n",
      "   --------------------------- ------------ 137.1/203.0 MB 6.4 MB/s eta 0:00:11\n",
      "   --------------------------- ------------ 138.4/203.0 MB 6.4 MB/s eta 0:00:11\n",
      "   --------------------------- ------------ 139.7/203.0 MB 6.4 MB/s eta 0:00:10\n",
      "   --------------------------- ------------ 141.0/203.0 MB 6.4 MB/s eta 0:00:10\n",
      "   ---------------------------- ----------- 142.3/203.0 MB 6.4 MB/s eta 0:00:10\n",
      "   ---------------------------- ----------- 143.7/203.0 MB 6.4 MB/s eta 0:00:10\n",
      "   ---------------------------- ----------- 145.2/203.0 MB 6.4 MB/s eta 0:00:09\n",
      "   ---------------------------- ----------- 146.5/203.0 MB 6.4 MB/s eta 0:00:09\n",
      "   ----------------------------- ---------- 147.8/203.0 MB 6.4 MB/s eta 0:00:09\n",
      "   ----------------------------- ---------- 149.2/203.0 MB 6.4 MB/s eta 0:00:09\n",
      "   ----------------------------- ---------- 150.5/203.0 MB 6.4 MB/s eta 0:00:09\n",
      "   ----------------------------- ---------- 151.8/203.0 MB 6.4 MB/s eta 0:00:08\n",
      "   ------------------------------ --------- 153.4/203.0 MB 6.4 MB/s eta 0:00:08\n",
      "   ------------------------------ --------- 154.7/203.0 MB 6.4 MB/s eta 0:00:08\n",
      "   ------------------------------ --------- 156.0/203.0 MB 6.4 MB/s eta 0:00:08\n",
      "   ------------------------------ --------- 157.3/203.0 MB 6.4 MB/s eta 0:00:08\n",
      "   ------------------------------- -------- 158.9/203.0 MB 6.4 MB/s eta 0:00:07\n",
      "   ------------------------------- -------- 160.2/203.0 MB 6.4 MB/s eta 0:00:07\n",
      "   ------------------------------- -------- 161.5/203.0 MB 6.4 MB/s eta 0:00:07\n",
      "   -------------------------------- ------- 162.8/203.0 MB 6.4 MB/s eta 0:00:07\n",
      "   -------------------------------- ------- 164.1/203.0 MB 6.4 MB/s eta 0:00:07\n",
      "   -------------------------------- ------- 165.4/203.0 MB 6.4 MB/s eta 0:00:06\n",
      "   -------------------------------- ------- 166.7/203.0 MB 6.4 MB/s eta 0:00:06\n",
      "   --------------------------------- ------ 168.0/203.0 MB 6.4 MB/s eta 0:00:06\n",
      "   --------------------------------- ------ 169.3/203.0 MB 6.4 MB/s eta 0:00:06\n",
      "   --------------------------------- ------ 170.7/203.0 MB 6.4 MB/s eta 0:00:06\n",
      "   --------------------------------- ------ 172.2/203.0 MB 6.4 MB/s eta 0:00:05\n",
      "   ---------------------------------- ----- 173.5/203.0 MB 6.4 MB/s eta 0:00:05\n",
      "   ---------------------------------- ----- 174.9/203.0 MB 6.4 MB/s eta 0:00:05\n",
      "   ---------------------------------- ----- 176.2/203.0 MB 6.4 MB/s eta 0:00:05\n",
      "   ----------------------------------- ---- 177.7/203.0 MB 6.4 MB/s eta 0:00:04\n",
      "   ----------------------------------- ---- 179.0/203.0 MB 6.4 MB/s eta 0:00:04\n",
      "   ----------------------------------- ---- 180.4/203.0 MB 6.4 MB/s eta 0:00:04\n",
      "   ----------------------------------- ---- 181.9/203.0 MB 6.4 MB/s eta 0:00:04\n",
      "   ------------------------------------ --- 183.2/203.0 MB 6.4 MB/s eta 0:00:04\n",
      "   ------------------------------------ --- 184.5/203.0 MB 6.4 MB/s eta 0:00:03\n",
      "   ------------------------------------ --- 185.9/203.0 MB 6.4 MB/s eta 0:00:03\n",
      "   ------------------------------------ --- 187.2/203.0 MB 6.4 MB/s eta 0:00:03\n",
      "   ------------------------------------- -- 188.7/203.0 MB 6.4 MB/s eta 0:00:03\n",
      "   ------------------------------------- -- 190.1/203.0 MB 6.4 MB/s eta 0:00:03\n",
      "   ------------------------------------- -- 191.4/203.0 MB 6.4 MB/s eta 0:00:02\n",
      "   ------------------------------------- -- 192.7/203.0 MB 6.4 MB/s eta 0:00:02\n",
      "   -------------------------------------- - 194.2/203.0 MB 6.4 MB/s eta 0:00:02\n",
      "   -------------------------------------- - 195.6/203.0 MB 6.4 MB/s eta 0:00:02\n",
      "   -------------------------------------- - 196.9/203.0 MB 6.4 MB/s eta 0:00:01\n",
      "   ---------------------------------------  198.4/203.0 MB 6.4 MB/s eta 0:00:01\n",
      "   ---------------------------------------  199.8/203.0 MB 6.4 MB/s eta 0:00:01\n",
      "   ---------------------------------------  201.1/203.0 MB 6.4 MB/s eta 0:00:01\n",
      "   ---------------------------------------  202.4/203.0 MB 6.4 MB/s eta 0:00:01\n",
      "   ---------------------------------------  202.9/203.0 MB 6.4 MB/s eta 0:00:01\n",
      "   ---------------------------------------  202.9/203.0 MB 6.4 MB/s eta 0:00:01\n",
      "   ---------------------------------------- 203.0/203.0 MB 6.3 MB/s eta 0:00:00\n",
      "Downloading sympy-1.13.1-py3-none-any.whl (6.2 MB)\n",
      "   ---------------------------------------- 0.0/6.2 MB ? eta -:--:--\n",
      "   -------- ------------------------------- 1.3/6.2 MB 6.7 MB/s eta 0:00:01\n",
      "   ---------------- ----------------------- 2.6/6.2 MB 6.6 MB/s eta 0:00:01\n",
      "   ------------------------- -------------- 3.9/6.2 MB 6.5 MB/s eta 0:00:01\n",
      "   --------------------------------- ------ 5.2/6.2 MB 6.5 MB/s eta 0:00:01\n",
      "   ---------------------------------------- 6.2/6.2 MB 6.3 MB/s eta 0:00:00\n",
      "Downloading dill-0.3.8-py3-none-any.whl (116 kB)\n",
      "Downloading fsspec-2024.9.0-py3-none-any.whl (179 kB)\n",
      "Downloading aiohttp-3.11.7-cp312-cp312-win_amd64.whl (436 kB)\n",
      "Downloading huggingface_hub-0.26.2-py3-none-any.whl (447 kB)\n",
      "Downloading multiprocess-0.70.16-py312-none-any.whl (146 kB)\n",
      "Downloading pyarrow-18.0.0-cp312-cp312-win_amd64.whl (25.1 MB)\n",
      "   ---------------------------------------- 0.0/25.1 MB ? eta -:--:--\n",
      "   -- ------------------------------------- 1.3/25.1 MB 6.7 MB/s eta 0:00:04\n",
      "   ---- ----------------------------------- 2.6/25.1 MB 6.3 MB/s eta 0:00:04\n",
      "   ------ --------------------------------- 3.9/25.1 MB 6.3 MB/s eta 0:00:04\n",
      "   -------- ------------------------------- 5.2/25.1 MB 6.4 MB/s eta 0:00:04\n",
      "   -------- ------------------------------- 5.5/25.1 MB 6.5 MB/s eta 0:00:04\n",
      "   ------------ --------------------------- 7.9/25.1 MB 6.4 MB/s eta 0:00:03\n",
      "   -------------- ------------------------- 9.2/25.1 MB 6.4 MB/s eta 0:00:03\n",
      "   ---------------- ----------------------- 10.5/25.1 MB 6.4 MB/s eta 0:00:03\n",
      "   ------------------ --------------------- 11.8/25.1 MB 6.4 MB/s eta 0:00:03\n",
      "   -------------------- ------------------- 13.1/25.1 MB 6.4 MB/s eta 0:00:02\n",
      "   ---------------------- ----------------- 13.9/25.1 MB 6.4 MB/s eta 0:00:02\n",
      "   ------------------------- -------------- 15.7/25.1 MB 6.4 MB/s eta 0:00:02\n",
      "   --------------------------- ------------ 17.0/25.1 MB 6.4 MB/s eta 0:00:02\n",
      "   ----------------------------- ---------- 18.6/25.1 MB 6.4 MB/s eta 0:00:02\n",
      "   ------------------------------- -------- 19.9/25.1 MB 6.4 MB/s eta 0:00:01\n",
      "   --------------------------------- ------ 21.2/25.1 MB 6.4 MB/s eta 0:00:01\n",
      "   ------------------------------------ --- 22.8/25.1 MB 6.4 MB/s eta 0:00:01\n",
      "   -------------------------------------- - 24.1/25.1 MB 6.4 MB/s eta 0:00:01\n",
      "   ---------------------------------------- 25.1/25.1 MB 6.3 MB/s eta 0:00:00\n",
      "Downloading safetensors-0.4.5-cp312-none-win_amd64.whl (286 kB)\n",
      "Downloading tokenizers-0.20.3-cp312-none-win_amd64.whl (2.4 MB)\n",
      "   ---------------------------------------- 0.0/2.4 MB ? eta -:--:--\n",
      "   ---------------------- ----------------- 1.3/2.4 MB 6.1 MB/s eta 0:00:01\n",
      "   ---------------------------------------- 2.4/2.4 MB 6.2 MB/s eta 0:00:00\n",
      "Downloading filelock-3.16.1-py3-none-any.whl (16 kB)\n",
      "Downloading networkx-3.4.2-py3-none-any.whl (1.7 MB)\n",
      "   ---------------------------------------- 0.0/1.7 MB ? eta -:--:--\n",
      "   ------------------------------ --------- 1.3/1.7 MB 6.1 MB/s eta 0:00:01\n",
      "   ---------------------------------------- 1.7/1.7 MB 5.5 MB/s eta 0:00:00\n",
      "Downloading xxhash-3.5.0-cp312-cp312-win_amd64.whl (30 kB)\n",
      "Downloading aiohappyeyeballs-2.4.3-py3-none-any.whl (14 kB)\n",
      "Downloading aiosignal-1.3.1-py3-none-any.whl (7.6 kB)\n",
      "Downloading frozenlist-1.5.0-cp312-cp312-win_amd64.whl (51 kB)\n",
      "Downloading mpmath-1.3.0-py3-none-any.whl (536 kB)\n",
      "   ---------------------------------------- 0.0/536.2 kB ? eta -:--:--\n",
      "   ---------------------------------------- 536.2/536.2 kB 4.4 MB/s eta 0:00:00\n",
      "Downloading multidict-6.1.0-cp312-cp312-win_amd64.whl (28 kB)\n",
      "Downloading propcache-0.2.0-cp312-cp312-win_amd64.whl (44 kB)\n",
      "Downloading yarl-1.18.0-cp312-cp312-win_amd64.whl (90 kB)\n",
      "Installing collected packages: mpmath, xxhash, sympy, safetensors, pyarrow, propcache, networkx, multidict, fsspec, frozenlist, filelock, dill, aiohappyeyeballs, yarl, torch, multiprocess, huggingface-hub, aiosignal, tokenizers, aiohttp, transformers, datasets\n",
      "Successfully installed aiohappyeyeballs-2.4.3 aiohttp-3.11.7 aiosignal-1.3.1 datasets-3.1.0 dill-0.3.8 filelock-3.16.1 frozenlist-1.5.0 fsspec-2024.9.0 huggingface-hub-0.26.2 mpmath-1.3.0 multidict-6.1.0 multiprocess-0.70.16 networkx-3.4.2 propcache-0.2.0 pyarrow-18.0.0 safetensors-0.4.5 sympy-1.13.1 tokenizers-0.20.3 torch-2.5.1 transformers-4.46.3 xxhash-3.5.0 yarl-1.18.0\n"
     ]
    }
   ],
   "source": [
    "!pip install transformers datasets torch"
   ]
  },
  {
   "cell_type": "code",
   "execution_count": 3,
   "metadata": {},
   "outputs": [
    {
     "name": "stdout",
     "output_type": "stream",
     "text": [
      "Collecting tf-keras\n",
      "  Downloading tf_keras-2.18.0-py3-none-any.whl.metadata (1.6 kB)\n",
      "Requirement already satisfied: tensorflow<2.19,>=2.18 in c:\\users\\admin\\.conda\\envs\\supply_chain\\lib\\site-packages (from tf-keras) (2.18.0)\n",
      "Requirement already satisfied: tensorflow-intel==2.18.0 in c:\\users\\admin\\.conda\\envs\\supply_chain\\lib\\site-packages (from tensorflow<2.19,>=2.18->tf-keras) (2.18.0)\n",
      "Requirement already satisfied: absl-py>=1.0.0 in c:\\users\\admin\\.conda\\envs\\supply_chain\\lib\\site-packages (from tensorflow-intel==2.18.0->tensorflow<2.19,>=2.18->tf-keras) (2.1.0)\n",
      "Requirement already satisfied: astunparse>=1.6.0 in c:\\users\\admin\\.conda\\envs\\supply_chain\\lib\\site-packages (from tensorflow-intel==2.18.0->tensorflow<2.19,>=2.18->tf-keras) (1.6.3)\n",
      "Requirement already satisfied: flatbuffers>=24.3.25 in c:\\users\\admin\\.conda\\envs\\supply_chain\\lib\\site-packages (from tensorflow-intel==2.18.0->tensorflow<2.19,>=2.18->tf-keras) (24.3.25)\n",
      "Requirement already satisfied: gast!=0.5.0,!=0.5.1,!=0.5.2,>=0.2.1 in c:\\users\\admin\\.conda\\envs\\supply_chain\\lib\\site-packages (from tensorflow-intel==2.18.0->tensorflow<2.19,>=2.18->tf-keras) (0.6.0)\n",
      "Requirement already satisfied: google-pasta>=0.1.1 in c:\\users\\admin\\.conda\\envs\\supply_chain\\lib\\site-packages (from tensorflow-intel==2.18.0->tensorflow<2.19,>=2.18->tf-keras) (0.2.0)\n",
      "Requirement already satisfied: libclang>=13.0.0 in c:\\users\\admin\\.conda\\envs\\supply_chain\\lib\\site-packages (from tensorflow-intel==2.18.0->tensorflow<2.19,>=2.18->tf-keras) (18.1.1)\n",
      "Requirement already satisfied: opt-einsum>=2.3.2 in c:\\users\\admin\\.conda\\envs\\supply_chain\\lib\\site-packages (from tensorflow-intel==2.18.0->tensorflow<2.19,>=2.18->tf-keras) (3.4.0)\n",
      "Requirement already satisfied: packaging in c:\\users\\admin\\.conda\\envs\\supply_chain\\lib\\site-packages (from tensorflow-intel==2.18.0->tensorflow<2.19,>=2.18->tf-keras) (24.1)\n",
      "Requirement already satisfied: protobuf!=4.21.0,!=4.21.1,!=4.21.2,!=4.21.3,!=4.21.4,!=4.21.5,<6.0.0dev,>=3.20.3 in c:\\users\\admin\\.conda\\envs\\supply_chain\\lib\\site-packages (from tensorflow-intel==2.18.0->tensorflow<2.19,>=2.18->tf-keras) (5.28.3)\n",
      "Requirement already satisfied: requests<3,>=2.21.0 in c:\\users\\admin\\.conda\\envs\\supply_chain\\lib\\site-packages (from tensorflow-intel==2.18.0->tensorflow<2.19,>=2.18->tf-keras) (2.32.3)\n",
      "Requirement already satisfied: setuptools in c:\\users\\admin\\.conda\\envs\\supply_chain\\lib\\site-packages (from tensorflow-intel==2.18.0->tensorflow<2.19,>=2.18->tf-keras) (75.1.0)\n",
      "Requirement already satisfied: six>=1.12.0 in c:\\users\\admin\\.conda\\envs\\supply_chain\\lib\\site-packages (from tensorflow-intel==2.18.0->tensorflow<2.19,>=2.18->tf-keras) (1.16.0)\n",
      "Requirement already satisfied: termcolor>=1.1.0 in c:\\users\\admin\\.conda\\envs\\supply_chain\\lib\\site-packages (from tensorflow-intel==2.18.0->tensorflow<2.19,>=2.18->tf-keras) (2.5.0)\n",
      "Requirement already satisfied: typing-extensions>=3.6.6 in c:\\users\\admin\\.conda\\envs\\supply_chain\\lib\\site-packages (from tensorflow-intel==2.18.0->tensorflow<2.19,>=2.18->tf-keras) (4.11.0)\n",
      "Requirement already satisfied: wrapt>=1.11.0 in c:\\users\\admin\\.conda\\envs\\supply_chain\\lib\\site-packages (from tensorflow-intel==2.18.0->tensorflow<2.19,>=2.18->tf-keras) (1.16.0)\n",
      "Requirement already satisfied: grpcio<2.0,>=1.24.3 in c:\\users\\admin\\.conda\\envs\\supply_chain\\lib\\site-packages (from tensorflow-intel==2.18.0->tensorflow<2.19,>=2.18->tf-keras) (1.68.0)\n",
      "Requirement already satisfied: tensorboard<2.19,>=2.18 in c:\\users\\admin\\.conda\\envs\\supply_chain\\lib\\site-packages (from tensorflow-intel==2.18.0->tensorflow<2.19,>=2.18->tf-keras) (2.18.0)\n",
      "Requirement already satisfied: keras>=3.5.0 in c:\\users\\admin\\.conda\\envs\\supply_chain\\lib\\site-packages (from tensorflow-intel==2.18.0->tensorflow<2.19,>=2.18->tf-keras) (3.6.0)\n",
      "Requirement already satisfied: numpy<2.1.0,>=1.26.0 in c:\\users\\admin\\.conda\\envs\\supply_chain\\lib\\site-packages (from tensorflow-intel==2.18.0->tensorflow<2.19,>=2.18->tf-keras) (1.26.4)\n",
      "Requirement already satisfied: h5py>=3.11.0 in c:\\users\\admin\\.conda\\envs\\supply_chain\\lib\\site-packages (from tensorflow-intel==2.18.0->tensorflow<2.19,>=2.18->tf-keras) (3.12.1)\n",
      "Requirement already satisfied: ml-dtypes<0.5.0,>=0.4.0 in c:\\users\\admin\\.conda\\envs\\supply_chain\\lib\\site-packages (from tensorflow-intel==2.18.0->tensorflow<2.19,>=2.18->tf-keras) (0.4.0)\n",
      "Requirement already satisfied: wheel<1.0,>=0.23.0 in c:\\users\\admin\\.conda\\envs\\supply_chain\\lib\\site-packages (from astunparse>=1.6.0->tensorflow-intel==2.18.0->tensorflow<2.19,>=2.18->tf-keras) (0.44.0)\n",
      "Requirement already satisfied: rich in c:\\users\\admin\\.conda\\envs\\supply_chain\\lib\\site-packages (from keras>=3.5.0->tensorflow-intel==2.18.0->tensorflow<2.19,>=2.18->tf-keras) (13.7.1)\n",
      "Requirement already satisfied: namex in c:\\users\\admin\\.conda\\envs\\supply_chain\\lib\\site-packages (from keras>=3.5.0->tensorflow-intel==2.18.0->tensorflow<2.19,>=2.18->tf-keras) (0.0.7)\n",
      "Requirement already satisfied: optree in c:\\users\\admin\\.conda\\envs\\supply_chain\\lib\\site-packages (from keras>=3.5.0->tensorflow-intel==2.18.0->tensorflow<2.19,>=2.18->tf-keras) (0.12.1)\n",
      "Requirement already satisfied: charset-normalizer<4,>=2 in c:\\users\\admin\\.conda\\envs\\supply_chain\\lib\\site-packages (from requests<3,>=2.21.0->tensorflow-intel==2.18.0->tensorflow<2.19,>=2.18->tf-keras) (3.3.2)\n",
      "Requirement already satisfied: idna<4,>=2.5 in c:\\users\\admin\\.conda\\envs\\supply_chain\\lib\\site-packages (from requests<3,>=2.21.0->tensorflow-intel==2.18.0->tensorflow<2.19,>=2.18->tf-keras) (3.7)\n",
      "Requirement already satisfied: urllib3<3,>=1.21.1 in c:\\users\\admin\\.conda\\envs\\supply_chain\\lib\\site-packages (from requests<3,>=2.21.0->tensorflow-intel==2.18.0->tensorflow<2.19,>=2.18->tf-keras) (2.2.3)\n",
      "Requirement already satisfied: certifi>=2017.4.17 in c:\\users\\admin\\.conda\\envs\\supply_chain\\lib\\site-packages (from requests<3,>=2.21.0->tensorflow-intel==2.18.0->tensorflow<2.19,>=2.18->tf-keras) (2024.8.30)\n",
      "Requirement already satisfied: markdown>=2.6.8 in c:\\users\\admin\\.conda\\envs\\supply_chain\\lib\\site-packages (from tensorboard<2.19,>=2.18->tensorflow-intel==2.18.0->tensorflow<2.19,>=2.18->tf-keras) (3.7)\n",
      "Requirement already satisfied: tensorboard-data-server<0.8.0,>=0.7.0 in c:\\users\\admin\\.conda\\envs\\supply_chain\\lib\\site-packages (from tensorboard<2.19,>=2.18->tensorflow-intel==2.18.0->tensorflow<2.19,>=2.18->tf-keras) (0.7.2)\n",
      "Requirement already satisfied: werkzeug>=1.0.1 in c:\\users\\admin\\.conda\\envs\\supply_chain\\lib\\site-packages (from tensorboard<2.19,>=2.18->tensorflow-intel==2.18.0->tensorflow<2.19,>=2.18->tf-keras) (3.1.3)\n",
      "Requirement already satisfied: MarkupSafe>=2.1.1 in c:\\users\\admin\\.conda\\envs\\supply_chain\\lib\\site-packages (from werkzeug>=1.0.1->tensorboard<2.19,>=2.18->tensorflow-intel==2.18.0->tensorflow<2.19,>=2.18->tf-keras) (2.1.3)\n",
      "Requirement already satisfied: markdown-it-py>=2.2.0 in c:\\users\\admin\\.conda\\envs\\supply_chain\\lib\\site-packages (from rich->keras>=3.5.0->tensorflow-intel==2.18.0->tensorflow<2.19,>=2.18->tf-keras) (2.2.0)\n",
      "Requirement already satisfied: pygments<3.0.0,>=2.13.0 in c:\\users\\admin\\.conda\\envs\\supply_chain\\lib\\site-packages (from rich->keras>=3.5.0->tensorflow-intel==2.18.0->tensorflow<2.19,>=2.18->tf-keras) (2.15.1)\n",
      "Requirement already satisfied: mdurl~=0.1 in c:\\users\\admin\\.conda\\envs\\supply_chain\\lib\\site-packages (from markdown-it-py>=2.2.0->rich->keras>=3.5.0->tensorflow-intel==2.18.0->tensorflow<2.19,>=2.18->tf-keras) (0.1.0)\n",
      "Downloading tf_keras-2.18.0-py3-none-any.whl (1.7 MB)\n",
      "   ---------------------------------------- 0.0/1.7 MB ? eta -:--:--\n",
      "   ------------------------ --------------- 1.0/1.7 MB 6.3 MB/s eta 0:00:01\n",
      "   ---------------------------------------- 1.7/1.7 MB 6.2 MB/s eta 0:00:00\n",
      "Installing collected packages: tf-keras\n",
      "Successfully installed tf-keras-2.18.0\n"
     ]
    }
   ],
   "source": [
    "!pip install tf-keras"
   ]
  },
  {
   "cell_type": "code",
   "execution_count": 13,
   "metadata": {},
   "outputs": [
    {
     "name": "stdout",
     "output_type": "stream",
     "text": [
      "Requirement already satisfied: accelerate in c:\\users\\admin\\.conda\\envs\\supply_chain\\lib\\site-packages (1.1.1)\n",
      "Requirement already satisfied: transformers[torch] in c:\\users\\admin\\.conda\\envs\\supply_chain\\lib\\site-packages (4.46.3)\n",
      "Requirement already satisfied: filelock in c:\\users\\admin\\.conda\\envs\\supply_chain\\lib\\site-packages (from transformers[torch]) (3.16.1)\n",
      "Requirement already satisfied: huggingface-hub<1.0,>=0.23.2 in c:\\users\\admin\\.conda\\envs\\supply_chain\\lib\\site-packages (from transformers[torch]) (0.26.2)\n",
      "Requirement already satisfied: numpy>=1.17 in c:\\users\\admin\\.conda\\envs\\supply_chain\\lib\\site-packages (from transformers[torch]) (1.26.4)\n",
      "Requirement already satisfied: packaging>=20.0 in c:\\users\\admin\\.conda\\envs\\supply_chain\\lib\\site-packages (from transformers[torch]) (24.1)\n",
      "Requirement already satisfied: pyyaml>=5.1 in c:\\users\\admin\\.conda\\envs\\supply_chain\\lib\\site-packages (from transformers[torch]) (6.0.2)\n",
      "Requirement already satisfied: regex!=2019.12.17 in c:\\users\\admin\\.conda\\envs\\supply_chain\\lib\\site-packages (from transformers[torch]) (2024.9.11)\n",
      "Requirement already satisfied: requests in c:\\users\\admin\\.conda\\envs\\supply_chain\\lib\\site-packages (from transformers[torch]) (2.32.3)\n",
      "Requirement already satisfied: tokenizers<0.21,>=0.20 in c:\\users\\admin\\.conda\\envs\\supply_chain\\lib\\site-packages (from transformers[torch]) (0.20.3)\n",
      "Requirement already satisfied: safetensors>=0.4.1 in c:\\users\\admin\\.conda\\envs\\supply_chain\\lib\\site-packages (from transformers[torch]) (0.4.5)\n",
      "Requirement already satisfied: tqdm>=4.27 in c:\\users\\admin\\.conda\\envs\\supply_chain\\lib\\site-packages (from transformers[torch]) (4.66.5)\n",
      "Requirement already satisfied: torch in c:\\users\\admin\\.conda\\envs\\supply_chain\\lib\\site-packages (from transformers[torch]) (2.5.1)\n",
      "Requirement already satisfied: psutil in c:\\users\\admin\\.conda\\envs\\supply_chain\\lib\\site-packages (from accelerate) (5.9.0)\n",
      "Requirement already satisfied: fsspec>=2023.5.0 in c:\\users\\admin\\.conda\\envs\\supply_chain\\lib\\site-packages (from huggingface-hub<1.0,>=0.23.2->transformers[torch]) (2024.9.0)\n",
      "Requirement already satisfied: typing-extensions>=3.7.4.3 in c:\\users\\admin\\.conda\\envs\\supply_chain\\lib\\site-packages (from huggingface-hub<1.0,>=0.23.2->transformers[torch]) (4.11.0)\n",
      "Requirement already satisfied: networkx in c:\\users\\admin\\.conda\\envs\\supply_chain\\lib\\site-packages (from torch->transformers[torch]) (3.4.2)\n",
      "Requirement already satisfied: jinja2 in c:\\users\\admin\\.conda\\envs\\supply_chain\\lib\\site-packages (from torch->transformers[torch]) (3.1.4)\n",
      "Requirement already satisfied: setuptools in c:\\users\\admin\\.conda\\envs\\supply_chain\\lib\\site-packages (from torch->transformers[torch]) (75.1.0)\n",
      "Requirement already satisfied: sympy==1.13.1 in c:\\users\\admin\\.conda\\envs\\supply_chain\\lib\\site-packages (from torch->transformers[torch]) (1.13.1)\n",
      "Requirement already satisfied: mpmath<1.4,>=1.1.0 in c:\\users\\admin\\.conda\\envs\\supply_chain\\lib\\site-packages (from sympy==1.13.1->torch->transformers[torch]) (1.3.0)\n",
      "Requirement already satisfied: colorama in c:\\users\\admin\\.conda\\envs\\supply_chain\\lib\\site-packages (from tqdm>=4.27->transformers[torch]) (0.4.6)\n",
      "Requirement already satisfied: charset-normalizer<4,>=2 in c:\\users\\admin\\.conda\\envs\\supply_chain\\lib\\site-packages (from requests->transformers[torch]) (3.3.2)\n",
      "Requirement already satisfied: idna<4,>=2.5 in c:\\users\\admin\\.conda\\envs\\supply_chain\\lib\\site-packages (from requests->transformers[torch]) (3.7)\n",
      "Requirement already satisfied: urllib3<3,>=1.21.1 in c:\\users\\admin\\.conda\\envs\\supply_chain\\lib\\site-packages (from requests->transformers[torch]) (2.2.3)\n",
      "Requirement already satisfied: certifi>=2017.4.17 in c:\\users\\admin\\.conda\\envs\\supply_chain\\lib\\site-packages (from requests->transformers[torch]) (2024.8.30)\n",
      "Requirement already satisfied: MarkupSafe>=2.0 in c:\\users\\admin\\.conda\\envs\\supply_chain\\lib\\site-packages (from jinja2->torch->transformers[torch]) (2.1.3)\n"
     ]
    }
   ],
   "source": [
    "!pip install transformers[torch] accelerate"
   ]
  },
  {
   "cell_type": "code",
   "execution_count": 14,
   "metadata": {},
   "outputs": [
    {
     "name": "stdout",
     "output_type": "stream",
     "text": [
      "Name: transformers\n",
      "Version: 4.46.3\n",
      "Summary: State-of-the-art Machine Learning for JAX, PyTorch and TensorFlow\n",
      "Home-page: https://github.com/huggingface/transformers\n",
      "Author: The Hugging Face team (past and future) with the help of all our contributors (https://github.com/huggingface/transformers/graphs/contributors)\n",
      "Author-email: transformers@huggingface.co\n",
      "License: Apache 2.0 License\n",
      "Location: c:\\Users\\Admin\\.conda\\envs\\supply_chain\\Lib\\site-packages\n",
      "Requires: filelock, huggingface-hub, numpy, packaging, pyyaml, regex, requests, safetensors, tokenizers, tqdm\n",
      "Required-by: \n",
      "---\n",
      "Name: accelerate\n",
      "Version: 1.1.1\n",
      "Summary: Accelerate\n",
      "Home-page: https://github.com/huggingface/accelerate\n",
      "Author: The HuggingFace team\n",
      "Author-email: zach.mueller@huggingface.co\n",
      "License: Apache\n",
      "Location: c:\\Users\\Admin\\.conda\\envs\\supply_chain\\Lib\\site-packages\n",
      "Requires: huggingface-hub, numpy, packaging, psutil, pyyaml, safetensors, torch\n",
      "Required-by: \n",
      "---\n",
      "Name: torch\n",
      "Version: 2.5.1\n",
      "Summary: Tensors and Dynamic neural networks in Python with strong GPU acceleration\n",
      "Home-page: https://pytorch.org/\n",
      "Author: PyTorch Team\n",
      "Author-email: packages@pytorch.org\n",
      "License: BSD-3-Clause\n",
      "Location: c:\\Users\\Admin\\.conda\\envs\\supply_chain\\Lib\\site-packages\n",
      "Requires: filelock, fsspec, jinja2, networkx, setuptools, sympy, typing-extensions\n",
      "Required-by: accelerate\n",
      "Note: you may need to restart the kernel to use updated packages.\n"
     ]
    }
   ],
   "source": [
    "pip show transformers accelerate torch"
   ]
  },
  {
   "cell_type": "code",
   "execution_count": null,
   "metadata": {},
   "outputs": [
    {
     "name": "stderr",
     "output_type": "stream",
     "text": [
      "ERROR: Invalid requirement: \"'accelerate\": Expected package name at the start of dependency specifier\n",
      "    'accelerate\n",
      "    ^\n"
     ]
    }
   ],
   "source": []
  },
  {
   "cell_type": "code",
   "execution_count": 1,
   "metadata": {},
   "outputs": [
    {
     "name": "stderr",
     "output_type": "stream",
     "text": [
      "c:\\Users\\Admin\\.conda\\envs\\supply_chain\\Lib\\site-packages\\tqdm\\auto.py:21: TqdmWarning: IProgress not found. Please update jupyter and ipywidgets. See https://ipywidgets.readthedocs.io/en/stable/user_install.html\n",
      "  from .autonotebook import tqdm as notebook_tqdm\n"
     ]
    },
    {
     "name": "stdout",
     "output_type": "stream",
     "text": [
      "WARNING:tensorflow:From c:\\Users\\Admin\\.conda\\envs\\supply_chain\\Lib\\site-packages\\tf_keras\\src\\losses.py:2976: The name tf.losses.sparse_softmax_cross_entropy is deprecated. Please use tf.compat.v1.losses.sparse_softmax_cross_entropy instead.\n",
      "\n"
     ]
    }
   ],
   "source": [
    "import pandas as pd\n",
    "import numpy as np\n",
    "from transformers import DistilBertTokenizer, DistilBertForSequenceClassification, Trainer, TrainingArguments\n",
    "from torch.utils.data import Dataset, DataLoader\n",
    "import torch\n",
    "from sklearn.model_selection import train_test_split\n",
    "from sklearn.metrics import classification_report, confusion_matrix\n",
    "from sklearn.metrics import accuracy_score, precision_recall_fscore_support"
   ]
  },
  {
   "cell_type": "code",
   "execution_count": 3,
   "metadata": {},
   "outputs": [
    {
     "data": {
      "text/html": [
       "<div>\n",
       "<style scoped>\n",
       "    .dataframe tbody tr th:only-of-type {\n",
       "        vertical-align: middle;\n",
       "    }\n",
       "\n",
       "    .dataframe tbody tr th {\n",
       "        vertical-align: top;\n",
       "    }\n",
       "\n",
       "    .dataframe thead th {\n",
       "        text-align: right;\n",
       "    }\n",
       "</style>\n",
       "<table border=\"1\" class=\"dataframe\">\n",
       "  <thead>\n",
       "    <tr style=\"text-align: right;\">\n",
       "      <th></th>\n",
       "      <th>rating</th>\n",
       "      <th>location</th>\n",
       "      <th>username</th>\n",
       "      <th>number_reviews</th>\n",
       "      <th>verification</th>\n",
       "      <th>repeat_reviewer</th>\n",
       "      <th>repeat_reviewer_encoded</th>\n",
       "      <th>company</th>\n",
       "      <th>text</th>\n",
       "      <th>text_processed</th>\n",
       "      <th>...</th>\n",
       "      <th>date_posted</th>\n",
       "      <th>local_date_posted</th>\n",
       "      <th>month_local</th>\n",
       "      <th>local_hour</th>\n",
       "      <th>time_of_day</th>\n",
       "      <th>day_of_week_posted</th>\n",
       "      <th>day_type</th>\n",
       "      <th>days_between_experience_and_post</th>\n",
       "      <th>review_time</th>\n",
       "      <th>review_time_encoded</th>\n",
       "    </tr>\n",
       "  </thead>\n",
       "  <tbody>\n",
       "    <tr>\n",
       "      <th>0</th>\n",
       "      <td>5</td>\n",
       "      <td>CA</td>\n",
       "      <td>Rob Crane</td>\n",
       "      <td>2</td>\n",
       "      <td>Redirected</td>\n",
       "      <td>repeat</td>\n",
       "      <td>1</td>\n",
       "      <td>Flashbay</td>\n",
       "      <td>The company rep I worked with made my transact...</td>\n",
       "      <td>company rep worked made transaction smooth qui...</td>\n",
       "      <td>...</td>\n",
       "      <td>2024-10-23 04:17:44</td>\n",
       "      <td>2024-10-22</td>\n",
       "      <td>10</td>\n",
       "      <td>21</td>\n",
       "      <td>Evening</td>\n",
       "      <td>1</td>\n",
       "      <td>Business Day</td>\n",
       "      <td>129</td>\n",
       "      <td>late_review</td>\n",
       "      <td>0</td>\n",
       "    </tr>\n",
       "    <tr>\n",
       "      <th>1</th>\n",
       "      <td>5</td>\n",
       "      <td>US</td>\n",
       "      <td>Pat Anderson</td>\n",
       "      <td>1</td>\n",
       "      <td>Verified</td>\n",
       "      <td>one-time</td>\n",
       "      <td>0</td>\n",
       "      <td>Flashbay</td>\n",
       "      <td>I highly recommend using Flashbay. Immediately...</td>\n",
       "      <td>highly recommend using flashbay immediately or...</td>\n",
       "      <td>...</td>\n",
       "      <td>2024-10-16 19:34:05</td>\n",
       "      <td>2024-10-16</td>\n",
       "      <td>10</td>\n",
       "      <td>12</td>\n",
       "      <td>Business Hours</td>\n",
       "      <td>2</td>\n",
       "      <td>Business Day</td>\n",
       "      <td>0</td>\n",
       "      <td>quick_review</td>\n",
       "      <td>1</td>\n",
       "    </tr>\n",
       "    <tr>\n",
       "      <th>2</th>\n",
       "      <td>5</td>\n",
       "      <td>CZ</td>\n",
       "      <td>Margarita Orlova</td>\n",
       "      <td>1</td>\n",
       "      <td>Verified</td>\n",
       "      <td>one-time</td>\n",
       "      <td>0</td>\n",
       "      <td>Flashbay</td>\n",
       "      <td>I had the pleasure of working with Shelby Gibs...</td>\n",
       "      <td>pleasure working shelby gibson large order nee...</td>\n",
       "      <td>...</td>\n",
       "      <td>2024-10-17 10:27:44</td>\n",
       "      <td>2024-10-17</td>\n",
       "      <td>10</td>\n",
       "      <td>10</td>\n",
       "      <td>Business Hours</td>\n",
       "      <td>3</td>\n",
       "      <td>Business Day</td>\n",
       "      <td>7</td>\n",
       "      <td>late_review</td>\n",
       "      <td>0</td>\n",
       "    </tr>\n",
       "    <tr>\n",
       "      <th>3</th>\n",
       "      <td>5</td>\n",
       "      <td>US</td>\n",
       "      <td>Paola Rivas</td>\n",
       "      <td>1</td>\n",
       "      <td>Verified</td>\n",
       "      <td>one-time</td>\n",
       "      <td>0</td>\n",
       "      <td>Flashbay</td>\n",
       "      <td>I had a fantastic experience with Brian Truong...</td>\n",
       "      <td>fantastic experience brian truong attentive tr...</td>\n",
       "      <td>...</td>\n",
       "      <td>2024-10-21 22:38:50</td>\n",
       "      <td>2024-10-21</td>\n",
       "      <td>10</td>\n",
       "      <td>15</td>\n",
       "      <td>Business Hours</td>\n",
       "      <td>0</td>\n",
       "      <td>Business Day</td>\n",
       "      <td>0</td>\n",
       "      <td>quick_review</td>\n",
       "      <td>1</td>\n",
       "    </tr>\n",
       "    <tr>\n",
       "      <th>4</th>\n",
       "      <td>5</td>\n",
       "      <td>CA</td>\n",
       "      <td>Fiona Mckelvey Keenan</td>\n",
       "      <td>3</td>\n",
       "      <td>Not Verified</td>\n",
       "      <td>repeat</td>\n",
       "      <td>1</td>\n",
       "      <td>Flashbay</td>\n",
       "      <td>My number-one go-to for computer accessories. ...</td>\n",
       "      <td>numberone goto computer accessories rachel sup...</td>\n",
       "      <td>...</td>\n",
       "      <td>2024-10-23 04:09:05</td>\n",
       "      <td>2024-10-22</td>\n",
       "      <td>10</td>\n",
       "      <td>21</td>\n",
       "      <td>Evening</td>\n",
       "      <td>1</td>\n",
       "      <td>Business Day</td>\n",
       "      <td>103</td>\n",
       "      <td>late_review</td>\n",
       "      <td>0</td>\n",
       "    </tr>\n",
       "  </tbody>\n",
       "</table>\n",
       "<p>5 rows × 34 columns</p>\n",
       "</div>"
      ],
      "text/plain": [
       "   rating location               username  number_reviews  verification  \\\n",
       "0       5       CA              Rob Crane               2    Redirected   \n",
       "1       5       US           Pat Anderson               1      Verified   \n",
       "2       5       CZ       Margarita Orlova               1      Verified   \n",
       "3       5       US            Paola Rivas               1      Verified   \n",
       "4       5       CA  Fiona Mckelvey Keenan               3  Not Verified   \n",
       "\n",
       "  repeat_reviewer  repeat_reviewer_encoded   company  \\\n",
       "0          repeat                        1  Flashbay   \n",
       "1        one-time                        0  Flashbay   \n",
       "2        one-time                        0  Flashbay   \n",
       "3        one-time                        0  Flashbay   \n",
       "4          repeat                        1  Flashbay   \n",
       "\n",
       "                                                text  \\\n",
       "0  The company rep I worked with made my transact...   \n",
       "1  I highly recommend using Flashbay. Immediately...   \n",
       "2  I had the pleasure of working with Shelby Gibs...   \n",
       "3  I had a fantastic experience with Brian Truong...   \n",
       "4  My number-one go-to for computer accessories. ...   \n",
       "\n",
       "                                      text_processed  ...  \\\n",
       "0  company rep worked made transaction smooth qui...  ...   \n",
       "1  highly recommend using flashbay immediately or...  ...   \n",
       "2  pleasure working shelby gibson large order nee...  ...   \n",
       "3  fantastic experience brian truong attentive tr...  ...   \n",
       "4  numberone goto computer accessories rachel sup...  ...   \n",
       "\n",
       "           date_posted  local_date_posted  month_local  local_hour  \\\n",
       "0  2024-10-23 04:17:44         2024-10-22           10          21   \n",
       "1  2024-10-16 19:34:05         2024-10-16           10          12   \n",
       "2  2024-10-17 10:27:44         2024-10-17           10          10   \n",
       "3  2024-10-21 22:38:50         2024-10-21           10          15   \n",
       "4  2024-10-23 04:09:05         2024-10-22           10          21   \n",
       "\n",
       "      time_of_day  day_of_week_posted      day_type  \\\n",
       "0         Evening                   1  Business Day   \n",
       "1  Business Hours                   2  Business Day   \n",
       "2  Business Hours                   3  Business Day   \n",
       "3  Business Hours                   0  Business Day   \n",
       "4         Evening                   1  Business Day   \n",
       "\n",
       "  days_between_experience_and_post   review_time  review_time_encoded  \n",
       "0                              129   late_review                    0  \n",
       "1                                0  quick_review                    1  \n",
       "2                                7   late_review                    0  \n",
       "3                                0  quick_review                    1  \n",
       "4                              103   late_review                    0  \n",
       "\n",
       "[5 rows x 34 columns]"
      ]
     },
     "execution_count": 3,
     "metadata": {},
     "output_type": "execute_result"
    }
   ],
   "source": [
    "# Load dataset\n",
    "df = pd.read_csv(r\"data\\data_trustpilot.csv\") \n",
    "df.head()"
   ]
  },
  {
   "cell_type": "code",
   "execution_count": 4,
   "metadata": {},
   "outputs": [
    {
     "data": {
      "text/plain": [
       "rating\n",
       "5    31372\n",
       "1    16152\n",
       "4     6290\n",
       "3     6272\n",
       "2     4324\n",
       "Name: count, dtype: int64"
      ]
     },
     "execution_count": 4,
     "metadata": {},
     "output_type": "execute_result"
    }
   ],
   "source": [
    "df[\"rating\"].value_counts()"
   ]
  },
  {
   "cell_type": "code",
   "execution_count": 5,
   "metadata": {},
   "outputs": [
    {
     "name": "stdout",
     "output_type": "stream",
     "text": [
      "rating\n",
      "1    4324\n",
      "4    4324\n",
      "2    4324\n",
      "5    4324\n",
      "3    4324\n",
      "Name: count, dtype: int64\n"
     ]
    }
   ],
   "source": [
    "# Find the size of the smallest class\n",
    "smallest_class_size = df['rating'].value_counts().min()\n",
    "\n",
    "# Separate the classes based on ratings\n",
    "rating_1 = df[df['rating'] == 1]\n",
    "rating_3 = df[df['rating'] == 3]\n",
    "rating_4 = df[df['rating'] == 4]\n",
    "rating_5 = df[df['rating'] == 5]\n",
    "other_ratings = df[df['rating'] == 2]\n",
    "\n",
    "# Downsample the majority classes (ratings 1 and 5) to the smallest class size\n",
    "rating_1_downsampled = rating_1.sample(n=smallest_class_size, random_state=42)\n",
    "rating_3_downsampled = rating_3.sample(n=smallest_class_size, random_state=42)\n",
    "rating_4_downsampled = rating_4.sample(n=smallest_class_size, random_state=42)\n",
    "rating_5_downsampled = rating_5.sample(n=smallest_class_size, random_state=42)\n",
    "\n",
    "# Combine back the dataset\n",
    "df_balanced = pd.concat([rating_1_downsampled, rating_3_downsampled, rating_4_downsampled, rating_5_downsampled, other_ratings])\n",
    "\n",
    "# Shuffle the dataset\n",
    "df_balanced = df_balanced.sample(frac=1, random_state=42).reset_index(drop=True)\n",
    "\n",
    "# Check the new class distribution\n",
    "print(df_balanced['rating'].value_counts())"
   ]
  },
  {
   "cell_type": "code",
   "execution_count": 6,
   "metadata": {},
   "outputs": [],
   "source": [
    "# readjustment to make it fit in the model \n",
    "df_balanced['rating'] = df_balanced['rating'] - 1"
   ]
  },
  {
   "cell_type": "code",
   "execution_count": 7,
   "metadata": {},
   "outputs": [
    {
     "data": {
      "text/html": [
       "<div>\n",
       "<style scoped>\n",
       "    .dataframe tbody tr th:only-of-type {\n",
       "        vertical-align: middle;\n",
       "    }\n",
       "\n",
       "    .dataframe tbody tr th {\n",
       "        vertical-align: top;\n",
       "    }\n",
       "\n",
       "    .dataframe thead th {\n",
       "        text-align: right;\n",
       "    }\n",
       "</style>\n",
       "<table border=\"1\" class=\"dataframe\">\n",
       "  <thead>\n",
       "    <tr style=\"text-align: right;\">\n",
       "      <th></th>\n",
       "      <th>rating</th>\n",
       "      <th>location</th>\n",
       "      <th>username</th>\n",
       "      <th>number_reviews</th>\n",
       "      <th>verification</th>\n",
       "      <th>repeat_reviewer</th>\n",
       "      <th>repeat_reviewer_encoded</th>\n",
       "      <th>company</th>\n",
       "      <th>text</th>\n",
       "      <th>text_processed</th>\n",
       "      <th>...</th>\n",
       "      <th>date_posted</th>\n",
       "      <th>local_date_posted</th>\n",
       "      <th>month_local</th>\n",
       "      <th>local_hour</th>\n",
       "      <th>time_of_day</th>\n",
       "      <th>day_of_week_posted</th>\n",
       "      <th>day_type</th>\n",
       "      <th>days_between_experience_and_post</th>\n",
       "      <th>review_time</th>\n",
       "      <th>review_time_encoded</th>\n",
       "    </tr>\n",
       "  </thead>\n",
       "  <tbody>\n",
       "    <tr>\n",
       "      <th>0</th>\n",
       "      <td>0</td>\n",
       "      <td>GB</td>\n",
       "      <td>Mrs. L</td>\n",
       "      <td>4</td>\n",
       "      <td>Not Verified</td>\n",
       "      <td>repeat</td>\n",
       "      <td>1</td>\n",
       "      <td>Asda</td>\n",
       "      <td>I ordered some clothing online and returned 2 ...</td>\n",
       "      <td>ordered clothing online returned 2 items didnt...</td>\n",
       "      <td>...</td>\n",
       "      <td>2024-09-01 17:04:31</td>\n",
       "      <td>2024-09-01</td>\n",
       "      <td>9</td>\n",
       "      <td>16</td>\n",
       "      <td>Business Hours</td>\n",
       "      <td>6</td>\n",
       "      <td>Weekend</td>\n",
       "      <td>27</td>\n",
       "      <td>late_review</td>\n",
       "      <td>0</td>\n",
       "    </tr>\n",
       "    <tr>\n",
       "      <th>1</th>\n",
       "      <td>0</td>\n",
       "      <td>TR</td>\n",
       "      <td>Berkay</td>\n",
       "      <td>1</td>\n",
       "      <td>Verified</td>\n",
       "      <td>one-time</td>\n",
       "      <td>0</td>\n",
       "      <td>SteelSeries</td>\n",
       "      <td>Can't ship to my country and left me</td>\n",
       "      <td>cant ship country left</td>\n",
       "      <td>...</td>\n",
       "      <td>2021-06-29 23:06:07</td>\n",
       "      <td>2021-06-30</td>\n",
       "      <td>6</td>\n",
       "      <td>0</td>\n",
       "      <td>Night</td>\n",
       "      <td>2</td>\n",
       "      <td>Business Day</td>\n",
       "      <td>1</td>\n",
       "      <td>late_review</td>\n",
       "      <td>0</td>\n",
       "    </tr>\n",
       "    <tr>\n",
       "      <th>2</th>\n",
       "      <td>0</td>\n",
       "      <td>GB</td>\n",
       "      <td>Philippa Young</td>\n",
       "      <td>2</td>\n",
       "      <td>Not Verified</td>\n",
       "      <td>repeat</td>\n",
       "      <td>1</td>\n",
       "      <td>Asda</td>\n",
       "      <td>Very poor service. I ordered some clothes for ...</td>\n",
       "      <td>poor service ordered clothes children click co...</td>\n",
       "      <td>...</td>\n",
       "      <td>2024-09-21 09:05:08</td>\n",
       "      <td>2024-09-21</td>\n",
       "      <td>9</td>\n",
       "      <td>8</td>\n",
       "      <td>Morning</td>\n",
       "      <td>5</td>\n",
       "      <td>Weekend</td>\n",
       "      <td>0</td>\n",
       "      <td>quick_review</td>\n",
       "      <td>1</td>\n",
       "    </tr>\n",
       "    <tr>\n",
       "      <th>3</th>\n",
       "      <td>3</td>\n",
       "      <td>US</td>\n",
       "      <td>Deborah</td>\n",
       "      <td>2</td>\n",
       "      <td>Verified</td>\n",
       "      <td>repeat</td>\n",
       "      <td>1</td>\n",
       "      <td>Quicken</td>\n",
       "      <td>I can easily keep track of my family's expense...</td>\n",
       "      <td>easily keep track familys expenses taxes breez...</td>\n",
       "      <td>...</td>\n",
       "      <td>2023-02-25 22:05:51</td>\n",
       "      <td>2023-02-25</td>\n",
       "      <td>2</td>\n",
       "      <td>15</td>\n",
       "      <td>Business Hours</td>\n",
       "      <td>5</td>\n",
       "      <td>Weekend</td>\n",
       "      <td>0</td>\n",
       "      <td>quick_review</td>\n",
       "      <td>1</td>\n",
       "    </tr>\n",
       "    <tr>\n",
       "      <th>4</th>\n",
       "      <td>1</td>\n",
       "      <td>US</td>\n",
       "      <td>Lester</td>\n",
       "      <td>1</td>\n",
       "      <td>Invited</td>\n",
       "      <td>one-time</td>\n",
       "      <td>0</td>\n",
       "      <td>Quicken</td>\n",
       "      <td>Much too complicated to use compared to the ea...</td>\n",
       "      <td>much complicated use compared earlier version ...</td>\n",
       "      <td>...</td>\n",
       "      <td>2023-09-13 00:52:29</td>\n",
       "      <td>2023-09-12</td>\n",
       "      <td>9</td>\n",
       "      <td>17</td>\n",
       "      <td>Business Hours</td>\n",
       "      <td>1</td>\n",
       "      <td>Business Day</td>\n",
       "      <td>73</td>\n",
       "      <td>late_review</td>\n",
       "      <td>0</td>\n",
       "    </tr>\n",
       "  </tbody>\n",
       "</table>\n",
       "<p>5 rows × 34 columns</p>\n",
       "</div>"
      ],
      "text/plain": [
       "   rating location        username  number_reviews  verification  \\\n",
       "0       0       GB          Mrs. L               4  Not Verified   \n",
       "1       0       TR          Berkay               1      Verified   \n",
       "2       0       GB  Philippa Young               2  Not Verified   \n",
       "3       3       US         Deborah               2      Verified   \n",
       "4       1       US          Lester               1       Invited   \n",
       "\n",
       "  repeat_reviewer  repeat_reviewer_encoded      company  \\\n",
       "0          repeat                        1         Asda   \n",
       "1        one-time                        0  SteelSeries   \n",
       "2          repeat                        1         Asda   \n",
       "3          repeat                        1      Quicken   \n",
       "4        one-time                        0      Quicken   \n",
       "\n",
       "                                                text  \\\n",
       "0  I ordered some clothing online and returned 2 ...   \n",
       "1               Can't ship to my country and left me   \n",
       "2  Very poor service. I ordered some clothes for ...   \n",
       "3  I can easily keep track of my family's expense...   \n",
       "4  Much too complicated to use compared to the ea...   \n",
       "\n",
       "                                      text_processed  ...  \\\n",
       "0  ordered clothing online returned 2 items didnt...  ...   \n",
       "1                             cant ship country left  ...   \n",
       "2  poor service ordered clothes children click co...  ...   \n",
       "3  easily keep track familys expenses taxes breez...  ...   \n",
       "4  much complicated use compared earlier version ...  ...   \n",
       "\n",
       "           date_posted  local_date_posted  month_local  local_hour  \\\n",
       "0  2024-09-01 17:04:31         2024-09-01            9          16   \n",
       "1  2021-06-29 23:06:07         2021-06-30            6           0   \n",
       "2  2024-09-21 09:05:08         2024-09-21            9           8   \n",
       "3  2023-02-25 22:05:51         2023-02-25            2          15   \n",
       "4  2023-09-13 00:52:29         2023-09-12            9          17   \n",
       "\n",
       "      time_of_day  day_of_week_posted      day_type  \\\n",
       "0  Business Hours                   6       Weekend   \n",
       "1           Night                   2  Business Day   \n",
       "2         Morning                   5       Weekend   \n",
       "3  Business Hours                   5       Weekend   \n",
       "4  Business Hours                   1  Business Day   \n",
       "\n",
       "  days_between_experience_and_post   review_time  review_time_encoded  \n",
       "0                               27   late_review                    0  \n",
       "1                                1   late_review                    0  \n",
       "2                                0  quick_review                    1  \n",
       "3                                0  quick_review                    1  \n",
       "4                               73   late_review                    0  \n",
       "\n",
       "[5 rows x 34 columns]"
      ]
     },
     "execution_count": 7,
     "metadata": {},
     "output_type": "execute_result"
    }
   ],
   "source": [
    "df_balanced.head()"
   ]
  },
  {
   "cell_type": "code",
   "execution_count": null,
   "metadata": {},
   "outputs": [
    {
     "name": "stderr",
     "output_type": "stream",
     "text": [
      "c:\\Users\\Admin\\.conda\\envs\\supply_chain\\Lib\\site-packages\\huggingface_hub\\file_download.py:139: UserWarning: `huggingface_hub` cache-system uses symlinks by default to efficiently store duplicated files but your machine does not support them in C:\\Users\\Admin\\.cache\\huggingface\\hub\\models--distilbert-base-uncased. Caching files will still work but in a degraded version that might require more space on your disk. This warning can be disabled by setting the `HF_HUB_DISABLE_SYMLINKS_WARNING` environment variable. For more details, see https://huggingface.co/docs/huggingface_hub/how-to-cache#limitations.\n",
      "To support symlinks on Windows, you either need to activate Developer Mode or to run Python as an administrator. In order to activate developer mode, see this article: https://docs.microsoft.com/en-us/windows/apps/get-started/enable-your-device-for-development\n",
      "  warnings.warn(message)\n",
      "Some weights of DistilBertForSequenceClassification were not initialized from the model checkpoint at distilbert-base-uncased and are newly initialized: ['classifier.bias', 'classifier.weight', 'pre_classifier.bias', 'pre_classifier.weight']\n",
      "You should probably TRAIN this model on a down-stream task to be able to use it for predictions and inference.\n",
      "c:\\Users\\Admin\\.conda\\envs\\supply_chain\\Lib\\site-packages\\transformers\\training_args.py:1568: FutureWarning: `evaluation_strategy` is deprecated and will be removed in version 4.46 of 🤗 Transformers. Use `eval_strategy` instead\n",
      "  warnings.warn(\n",
      "C:\\Users\\Admin\\AppData\\Local\\Temp\\ipykernel_7256\\2043263426.py:72: FutureWarning: `tokenizer` is deprecated and will be removed in version 5.0.0 for `Trainer.__init__`. Use `processing_class` instead.\n",
      "  trainer = Trainer(\n",
      "  0%|          | 10/3243 [01:41<8:44:44,  9.74s/it]"
     ]
    },
    {
     "name": "stdout",
     "output_type": "stream",
     "text": [
      "{'loss': 1.6069, 'grad_norm': 1.6705536842346191, 'learning_rate': 1.9938328707986433e-05, 'epoch': 0.01}\n"
     ]
    },
    {
     "name": "stderr",
     "output_type": "stream",
     "text": [
      "  1%|          | 20/3243 [03:18<8:30:35,  9.51s/it]"
     ]
    },
    {
     "name": "stdout",
     "output_type": "stream",
     "text": [
      "{'loss': 1.5653, 'grad_norm': 1.9342453479766846, 'learning_rate': 1.9876657415972867e-05, 'epoch': 0.02}\n"
     ]
    },
    {
     "name": "stderr",
     "output_type": "stream",
     "text": [
      "  1%|          | 30/3243 [04:53<8:30:43,  9.54s/it]"
     ]
    },
    {
     "name": "stdout",
     "output_type": "stream",
     "text": [
      "{'loss': 1.5326, 'grad_norm': 2.567478656768799, 'learning_rate': 1.98149861239593e-05, 'epoch': 0.03}\n"
     ]
    },
    {
     "name": "stderr",
     "output_type": "stream",
     "text": [
      "  1%|          | 40/3243 [06:29<8:35:37,  9.66s/it]"
     ]
    },
    {
     "name": "stdout",
     "output_type": "stream",
     "text": [
      "{'loss': 1.4502, 'grad_norm': 3.5929558277130127, 'learning_rate': 1.9753314831945733e-05, 'epoch': 0.04}\n"
     ]
    },
    {
     "name": "stderr",
     "output_type": "stream",
     "text": [
      "  2%|▏         | 50/3243 [08:06<8:33:13,  9.64s/it]"
     ]
    },
    {
     "name": "stdout",
     "output_type": "stream",
     "text": [
      "{'loss': 1.3885, 'grad_norm': 3.8578920364379883, 'learning_rate': 1.9691643539932164e-05, 'epoch': 0.05}\n"
     ]
    },
    {
     "name": "stderr",
     "output_type": "stream",
     "text": [
      "  2%|▏         | 60/3243 [09:41<8:14:55,  9.33s/it]"
     ]
    },
    {
     "name": "stdout",
     "output_type": "stream",
     "text": [
      "{'loss': 1.3174, 'grad_norm': 3.43536639213562, 'learning_rate': 1.9629972247918595e-05, 'epoch': 0.06}\n"
     ]
    },
    {
     "name": "stderr",
     "output_type": "stream",
     "text": [
      "  2%|▏         | 70/3243 [11:11<7:49:06,  8.87s/it]"
     ]
    },
    {
     "name": "stdout",
     "output_type": "stream",
     "text": [
      "{'loss': 1.2464, 'grad_norm': 3.8894200325012207, 'learning_rate': 1.956830095590503e-05, 'epoch': 0.06}\n"
     ]
    },
    {
     "name": "stderr",
     "output_type": "stream",
     "text": [
      "  2%|▏         | 80/3243 [12:39<7:47:44,  8.87s/it]"
     ]
    },
    {
     "name": "stdout",
     "output_type": "stream",
     "text": [
      "{'loss': 1.2351, 'grad_norm': 7.531097412109375, 'learning_rate': 1.950662966389146e-05, 'epoch': 0.07}\n"
     ]
    },
    {
     "name": "stderr",
     "output_type": "stream",
     "text": [
      "  3%|▎         | 90/3243 [14:09<7:50:00,  8.94s/it]"
     ]
    },
    {
     "name": "stdout",
     "output_type": "stream",
     "text": [
      "{'loss': 1.1807, 'grad_norm': 6.534390449523926, 'learning_rate': 1.9444958371877892e-05, 'epoch': 0.08}\n"
     ]
    },
    {
     "name": "stderr",
     "output_type": "stream",
     "text": [
      "  3%|▎         | 100/3243 [15:42<8:10:33,  9.36s/it]"
     ]
    },
    {
     "name": "stdout",
     "output_type": "stream",
     "text": [
      "{'loss': 1.1263, 'grad_norm': 4.135069370269775, 'learning_rate': 1.9383287079864327e-05, 'epoch': 0.09}\n"
     ]
    },
    {
     "name": "stderr",
     "output_type": "stream",
     "text": [
      "  3%|▎         | 110/3243 [17:13<7:59:04,  9.17s/it]"
     ]
    },
    {
     "name": "stdout",
     "output_type": "stream",
     "text": [
      "{'loss': 1.1815, 'grad_norm': 4.378002643585205, 'learning_rate': 1.9321615787850754e-05, 'epoch': 0.1}\n"
     ]
    },
    {
     "name": "stderr",
     "output_type": "stream",
     "text": [
      "  4%|▎         | 120/3243 [18:45<7:58:18,  9.19s/it]"
     ]
    },
    {
     "name": "stdout",
     "output_type": "stream",
     "text": [
      "{'loss': 1.087, 'grad_norm': 6.793753623962402, 'learning_rate': 1.925994449583719e-05, 'epoch': 0.11}\n"
     ]
    },
    {
     "name": "stderr",
     "output_type": "stream",
     "text": [
      "  4%|▍         | 130/3243 [20:16<7:55:15,  9.16s/it]"
     ]
    },
    {
     "name": "stdout",
     "output_type": "stream",
     "text": [
      "{'loss': 1.0482, 'grad_norm': 9.974246978759766, 'learning_rate': 1.919827320382362e-05, 'epoch': 0.12}\n"
     ]
    },
    {
     "name": "stderr",
     "output_type": "stream",
     "text": [
      "  4%|▍         | 140/3243 [21:47<7:59:20,  9.27s/it]"
     ]
    },
    {
     "name": "stdout",
     "output_type": "stream",
     "text": [
      "{'loss': 1.0267, 'grad_norm': 5.852987289428711, 'learning_rate': 1.9136601911810055e-05, 'epoch': 0.13}\n"
     ]
    },
    {
     "name": "stderr",
     "output_type": "stream",
     "text": [
      "  5%|▍         | 150/3243 [23:21<8:11:17,  9.53s/it]"
     ]
    },
    {
     "name": "stdout",
     "output_type": "stream",
     "text": [
      "{'loss': 1.0654, 'grad_norm': 6.200011730194092, 'learning_rate': 1.9074930619796486e-05, 'epoch': 0.14}\n"
     ]
    },
    {
     "name": "stderr",
     "output_type": "stream",
     "text": [
      "  5%|▍         | 160/3243 [24:53<8:01:17,  9.37s/it]"
     ]
    },
    {
     "name": "stdout",
     "output_type": "stream",
     "text": [
      "{'loss': 0.9977, 'grad_norm': 5.313354015350342, 'learning_rate': 1.9013259327782917e-05, 'epoch': 0.15}\n"
     ]
    },
    {
     "name": "stderr",
     "output_type": "stream",
     "text": [
      "  5%|▌         | 170/3243 [26:28<7:40:38,  8.99s/it]"
     ]
    },
    {
     "name": "stdout",
     "output_type": "stream",
     "text": [
      "{'loss': 1.082, 'grad_norm': 5.9940900802612305, 'learning_rate': 1.895158803576935e-05, 'epoch': 0.16}\n"
     ]
    },
    {
     "name": "stderr",
     "output_type": "stream",
     "text": [
      "  6%|▌         | 180/3243 [27:59<7:32:05,  8.86s/it]"
     ]
    },
    {
     "name": "stdout",
     "output_type": "stream",
     "text": [
      "{'loss': 1.05, 'grad_norm': 9.85318660736084, 'learning_rate': 1.8889916743755783e-05, 'epoch': 0.17}\n"
     ]
    },
    {
     "name": "stderr",
     "output_type": "stream",
     "text": [
      "  6%|▌         | 190/3243 [29:31<7:56:13,  9.36s/it]"
     ]
    },
    {
     "name": "stdout",
     "output_type": "stream",
     "text": [
      "{'loss': 1.0045, 'grad_norm': 9.012782096862793, 'learning_rate': 1.8828245451742214e-05, 'epoch': 0.18}\n"
     ]
    },
    {
     "name": "stderr",
     "output_type": "stream",
     "text": [
      "  6%|▌         | 200/3243 [31:05<8:09:42,  9.66s/it]"
     ]
    },
    {
     "name": "stdout",
     "output_type": "stream",
     "text": [
      "{'loss': 1.1013, 'grad_norm': 9.961283683776855, 'learning_rate': 1.8766574159728648e-05, 'epoch': 0.19}\n"
     ]
    },
    {
     "name": "stderr",
     "output_type": "stream",
     "text": [
      "  6%|▋         | 210/3243 [32:44<8:47:18, 10.43s/it]"
     ]
    },
    {
     "name": "stdout",
     "output_type": "stream",
     "text": [
      "{'loss': 1.0146, 'grad_norm': 9.30042552947998, 'learning_rate': 1.870490286771508e-05, 'epoch': 0.19}\n"
     ]
    },
    {
     "name": "stderr",
     "output_type": "stream",
     "text": [
      "  7%|▋         | 220/3243 [34:21<8:00:32,  9.54s/it]"
     ]
    },
    {
     "name": "stdout",
     "output_type": "stream",
     "text": [
      "{'loss': 1.0199, 'grad_norm': 7.797643184661865, 'learning_rate': 1.8643231575701514e-05, 'epoch': 0.2}\n"
     ]
    },
    {
     "name": "stderr",
     "output_type": "stream",
     "text": [
      "  7%|▋         | 230/3243 [35:54<7:47:27,  9.31s/it]"
     ]
    },
    {
     "name": "stdout",
     "output_type": "stream",
     "text": [
      "{'loss': 1.0963, 'grad_norm': 7.553665637969971, 'learning_rate': 1.8581560283687945e-05, 'epoch': 0.21}\n"
     ]
    },
    {
     "name": "stderr",
     "output_type": "stream",
     "text": [
      "  7%|▋         | 240/3243 [37:27<7:36:19,  9.12s/it]"
     ]
    },
    {
     "name": "stdout",
     "output_type": "stream",
     "text": [
      "{'loss': 1.0081, 'grad_norm': 9.525055885314941, 'learning_rate': 1.8519888991674376e-05, 'epoch': 0.22}\n"
     ]
    },
    {
     "name": "stderr",
     "output_type": "stream",
     "text": [
      "  8%|▊         | 250/3243 [38:59<7:37:17,  9.17s/it]"
     ]
    },
    {
     "name": "stdout",
     "output_type": "stream",
     "text": [
      "{'loss': 1.0101, 'grad_norm': 8.441350936889648, 'learning_rate': 1.845821769966081e-05, 'epoch': 0.23}\n"
     ]
    },
    {
     "name": "stderr",
     "output_type": "stream",
     "text": [
      "  8%|▊         | 260/3243 [40:32<7:44:43,  9.35s/it]"
     ]
    },
    {
     "name": "stdout",
     "output_type": "stream",
     "text": [
      "{'loss': 1.0119, 'grad_norm': 5.910520076751709, 'learning_rate': 1.8396546407647242e-05, 'epoch': 0.24}\n"
     ]
    },
    {
     "name": "stderr",
     "output_type": "stream",
     "text": [
      "  8%|▊         | 270/3243 [42:10<7:58:31,  9.66s/it]"
     ]
    },
    {
     "name": "stdout",
     "output_type": "stream",
     "text": [
      "{'loss': 1.0237, 'grad_norm': 5.523601055145264, 'learning_rate': 1.8334875115633673e-05, 'epoch': 0.25}\n"
     ]
    },
    {
     "name": "stderr",
     "output_type": "stream",
     "text": [
      "  9%|▊         | 280/3243 [43:39<7:21:05,  8.93s/it]"
     ]
    },
    {
     "name": "stdout",
     "output_type": "stream",
     "text": [
      "{'loss': 0.9854, 'grad_norm': 6.562713623046875, 'learning_rate': 1.8273203823620108e-05, 'epoch': 0.26}\n"
     ]
    },
    {
     "name": "stderr",
     "output_type": "stream",
     "text": [
      "  9%|▉         | 290/3243 [45:07<7:10:58,  8.76s/it]"
     ]
    },
    {
     "name": "stdout",
     "output_type": "stream",
     "text": [
      "{'loss': 1.0899, 'grad_norm': 4.532113552093506, 'learning_rate': 1.821153253160654e-05, 'epoch': 0.27}\n"
     ]
    },
    {
     "name": "stderr",
     "output_type": "stream",
     "text": [
      "  9%|▉         | 300/3243 [46:40<7:53:15,  9.65s/it]"
     ]
    },
    {
     "name": "stdout",
     "output_type": "stream",
     "text": [
      "{'loss': 1.0362, 'grad_norm': 8.08342170715332, 'learning_rate': 1.8149861239592973e-05, 'epoch': 0.28}\n"
     ]
    },
    {
     "name": "stderr",
     "output_type": "stream",
     "text": [
      " 10%|▉         | 310/3243 [48:17<7:54:48,  9.71s/it]"
     ]
    },
    {
     "name": "stdout",
     "output_type": "stream",
     "text": [
      "{'loss': 0.9739, 'grad_norm': 5.078102111816406, 'learning_rate': 1.8088189947579404e-05, 'epoch': 0.29}\n"
     ]
    },
    {
     "name": "stderr",
     "output_type": "stream",
     "text": [
      " 10%|▉         | 320/3243 [49:55<8:02:02,  9.89s/it]"
     ]
    },
    {
     "name": "stdout",
     "output_type": "stream",
     "text": [
      "{'loss': 0.928, 'grad_norm': 4.894777297973633, 'learning_rate': 1.8026518655565836e-05, 'epoch': 0.3}\n"
     ]
    },
    {
     "name": "stderr",
     "output_type": "stream",
     "text": [
      " 10%|█         | 330/3243 [51:33<7:55:51,  9.80s/it]"
     ]
    },
    {
     "name": "stdout",
     "output_type": "stream",
     "text": [
      "{'loss': 0.9429, 'grad_norm': 7.318395614624023, 'learning_rate': 1.7964847363552267e-05, 'epoch': 0.31}\n"
     ]
    },
    {
     "name": "stderr",
     "output_type": "stream",
     "text": [
      " 10%|█         | 340/3243 [53:11<7:50:39,  9.73s/it]"
     ]
    },
    {
     "name": "stdout",
     "output_type": "stream",
     "text": [
      "{'loss': 1.0737, 'grad_norm': 9.170406341552734, 'learning_rate': 1.7903176071538698e-05, 'epoch': 0.31}\n"
     ]
    },
    {
     "name": "stderr",
     "output_type": "stream",
     "text": [
      " 11%|█         | 350/3243 [54:47<7:52:38,  9.80s/it]"
     ]
    },
    {
     "name": "stdout",
     "output_type": "stream",
     "text": [
      "{'loss': 0.8507, 'grad_norm': 5.219486713409424, 'learning_rate': 1.7841504779525132e-05, 'epoch': 0.32}\n"
     ]
    },
    {
     "name": "stderr",
     "output_type": "stream",
     "text": [
      " 11%|█         | 360/3243 [56:25<7:55:06,  9.89s/it]"
     ]
    },
    {
     "name": "stdout",
     "output_type": "stream",
     "text": [
      "{'loss': 0.9905, 'grad_norm': 5.886294364929199, 'learning_rate': 1.7779833487511563e-05, 'epoch': 0.33}\n"
     ]
    },
    {
     "name": "stderr",
     "output_type": "stream",
     "text": [
      " 11%|█▏        | 370/3243 [58:01<7:37:50,  9.56s/it]"
     ]
    },
    {
     "name": "stdout",
     "output_type": "stream",
     "text": [
      "{'loss': 0.9172, 'grad_norm': 5.010922431945801, 'learning_rate': 1.7718162195497998e-05, 'epoch': 0.34}\n"
     ]
    },
    {
     "name": "stderr",
     "output_type": "stream",
     "text": [
      " 12%|█▏        | 380/3243 [59:37<7:38:23,  9.61s/it]"
     ]
    },
    {
     "name": "stdout",
     "output_type": "stream",
     "text": [
      "{'loss': 0.9895, 'grad_norm': 4.117709159851074, 'learning_rate': 1.765649090348443e-05, 'epoch': 0.35}\n"
     ]
    },
    {
     "name": "stderr",
     "output_type": "stream",
     "text": [
      " 12%|█▏        | 390/3243 [1:01:13<7:24:22,  9.35s/it]"
     ]
    },
    {
     "name": "stdout",
     "output_type": "stream",
     "text": [
      "{'loss': 0.9252, 'grad_norm': 5.226416110992432, 'learning_rate': 1.759481961147086e-05, 'epoch': 0.36}\n"
     ]
    },
    {
     "name": "stderr",
     "output_type": "stream",
     "text": [
      " 12%|█▏        | 400/3243 [1:02:52<7:47:58,  9.88s/it]"
     ]
    },
    {
     "name": "stdout",
     "output_type": "stream",
     "text": [
      "{'loss': 0.9276, 'grad_norm': 7.320841312408447, 'learning_rate': 1.7533148319457295e-05, 'epoch': 0.37}\n"
     ]
    },
    {
     "name": "stderr",
     "output_type": "stream",
     "text": [
      " 13%|█▎        | 410/3243 [1:04:29<7:44:46,  9.84s/it]"
     ]
    },
    {
     "name": "stdout",
     "output_type": "stream",
     "text": [
      "{'loss': 0.975, 'grad_norm': 13.586112976074219, 'learning_rate': 1.7471477027443726e-05, 'epoch': 0.38}\n"
     ]
    },
    {
     "name": "stderr",
     "output_type": "stream",
     "text": [
      " 13%|█▎        | 420/3243 [1:06:07<7:33:16,  9.63s/it]"
     ]
    },
    {
     "name": "stdout",
     "output_type": "stream",
     "text": [
      "{'loss': 1.017, 'grad_norm': 6.481622219085693, 'learning_rate': 1.7409805735430157e-05, 'epoch': 0.39}\n"
     ]
    },
    {
     "name": "stderr",
     "output_type": "stream",
     "text": [
      " 13%|█▎        | 430/3243 [1:07:36<6:58:56,  8.94s/it]"
     ]
    },
    {
     "name": "stdout",
     "output_type": "stream",
     "text": [
      "{'loss': 0.9801, 'grad_norm': 7.7506022453308105, 'learning_rate': 1.734813444341659e-05, 'epoch': 0.4}\n"
     ]
    },
    {
     "name": "stderr",
     "output_type": "stream",
     "text": [
      " 14%|█▎        | 440/3243 [1:09:14<7:31:25,  9.66s/it]"
     ]
    },
    {
     "name": "stdout",
     "output_type": "stream",
     "text": [
      "{'loss': 0.928, 'grad_norm': 6.34202241897583, 'learning_rate': 1.7286463151403023e-05, 'epoch': 0.41}\n"
     ]
    },
    {
     "name": "stderr",
     "output_type": "stream",
     "text": [
      " 14%|█▍        | 450/3243 [1:10:50<7:23:01,  9.52s/it]"
     ]
    },
    {
     "name": "stdout",
     "output_type": "stream",
     "text": [
      "{'loss': 0.9002, 'grad_norm': 10.362092018127441, 'learning_rate': 1.7224791859389457e-05, 'epoch': 0.42}\n"
     ]
    },
    {
     "name": "stderr",
     "output_type": "stream",
     "text": [
      " 14%|█▍        | 460/3243 [1:12:26<7:28:54,  9.68s/it]"
     ]
    },
    {
     "name": "stdout",
     "output_type": "stream",
     "text": [
      "{'loss': 1.0698, 'grad_norm': 4.842090606689453, 'learning_rate': 1.716312056737589e-05, 'epoch': 0.43}\n"
     ]
    },
    {
     "name": "stderr",
     "output_type": "stream",
     "text": [
      " 14%|█▍        | 470/3243 [1:14:03<7:23:54,  9.60s/it]"
     ]
    },
    {
     "name": "stdout",
     "output_type": "stream",
     "text": [
      "{'loss': 0.9485, 'grad_norm': 6.765182018280029, 'learning_rate': 1.710144927536232e-05, 'epoch': 0.43}\n"
     ]
    },
    {
     "name": "stderr",
     "output_type": "stream",
     "text": [
      " 15%|█▍        | 480/3243 [1:15:39<7:19:31,  9.54s/it]"
     ]
    },
    {
     "name": "stdout",
     "output_type": "stream",
     "text": [
      "{'loss': 0.9734, 'grad_norm': 8.182339668273926, 'learning_rate': 1.7039777983348754e-05, 'epoch': 0.44}\n"
     ]
    },
    {
     "name": "stderr",
     "output_type": "stream",
     "text": [
      " 15%|█▌        | 490/3243 [1:17:13<7:08:42,  9.34s/it]"
     ]
    },
    {
     "name": "stdout",
     "output_type": "stream",
     "text": [
      "{'loss': 0.8629, 'grad_norm': 7.449916362762451, 'learning_rate': 1.6978106691335185e-05, 'epoch': 0.45}\n"
     ]
    },
    {
     "name": "stderr",
     "output_type": "stream",
     "text": [
      " 15%|█▌        | 500/3243 [1:18:51<7:21:01,  9.65s/it]"
     ]
    },
    {
     "name": "stdout",
     "output_type": "stream",
     "text": [
      "{'loss': 0.9475, 'grad_norm': 8.823565483093262, 'learning_rate': 1.6916435399321616e-05, 'epoch': 0.46}\n"
     ]
    },
    {
     "name": "stderr",
     "output_type": "stream",
     "text": [
      " 16%|█▌        | 510/3243 [1:20:27<7:25:26,  9.78s/it]"
     ]
    },
    {
     "name": "stdout",
     "output_type": "stream",
     "text": [
      "{'loss': 0.9995, 'grad_norm': 5.6477484703063965, 'learning_rate': 1.685476410730805e-05, 'epoch': 0.47}\n"
     ]
    },
    {
     "name": "stderr",
     "output_type": "stream",
     "text": [
      " 16%|█▌        | 520/3243 [1:22:04<7:23:56,  9.78s/it]"
     ]
    },
    {
     "name": "stdout",
     "output_type": "stream",
     "text": [
      "{'loss': 1.1141, 'grad_norm': 11.911616325378418, 'learning_rate': 1.6793092815294482e-05, 'epoch': 0.48}\n"
     ]
    },
    {
     "name": "stderr",
     "output_type": "stream",
     "text": [
      " 16%|█▋        | 530/3243 [1:23:43<7:26:17,  9.87s/it]"
     ]
    },
    {
     "name": "stdout",
     "output_type": "stream",
     "text": [
      "{'loss': 0.9581, 'grad_norm': 6.71022367477417, 'learning_rate': 1.6731421523280917e-05, 'epoch': 0.49}\n"
     ]
    },
    {
     "name": "stderr",
     "output_type": "stream",
     "text": [
      " 17%|█▋        | 540/3243 [1:25:19<7:12:28,  9.60s/it]"
     ]
    },
    {
     "name": "stdout",
     "output_type": "stream",
     "text": [
      "{'loss': 0.9891, 'grad_norm': 7.09035062789917, 'learning_rate': 1.6669750231267344e-05, 'epoch': 0.5}\n"
     ]
    },
    {
     "name": "stderr",
     "output_type": "stream",
     "text": [
      " 17%|█▋        | 550/3243 [1:26:56<7:16:17,  9.72s/it]"
     ]
    },
    {
     "name": "stdout",
     "output_type": "stream",
     "text": [
      "{'loss': 1.0759, 'grad_norm': 8.048428535461426, 'learning_rate': 1.660807893925378e-05, 'epoch': 0.51}\n"
     ]
    },
    {
     "name": "stderr",
     "output_type": "stream",
     "text": [
      " 17%|█▋        | 560/3243 [1:28:34<7:11:28,  9.65s/it]"
     ]
    },
    {
     "name": "stdout",
     "output_type": "stream",
     "text": [
      "{'loss': 1.0644, 'grad_norm': 9.248451232910156, 'learning_rate': 1.654640764724021e-05, 'epoch': 0.52}\n"
     ]
    },
    {
     "name": "stderr",
     "output_type": "stream",
     "text": [
      " 18%|█▊        | 570/3243 [1:30:09<7:01:58,  9.47s/it]"
     ]
    },
    {
     "name": "stdout",
     "output_type": "stream",
     "text": [
      "{'loss': 0.8829, 'grad_norm': 5.448602676391602, 'learning_rate': 1.648473635522664e-05, 'epoch': 0.53}\n"
     ]
    },
    {
     "name": "stderr",
     "output_type": "stream",
     "text": [
      " 18%|█▊        | 580/3243 [1:31:45<7:01:59,  9.51s/it]"
     ]
    },
    {
     "name": "stdout",
     "output_type": "stream",
     "text": [
      "{'loss': 0.9111, 'grad_norm': 6.147519588470459, 'learning_rate': 1.6423065063213076e-05, 'epoch': 0.54}\n"
     ]
    },
    {
     "name": "stderr",
     "output_type": "stream",
     "text": [
      " 18%|█▊        | 590/3243 [1:33:25<7:13:27,  9.80s/it]"
     ]
    },
    {
     "name": "stdout",
     "output_type": "stream",
     "text": [
      "{'loss': 0.9738, 'grad_norm': 6.7476420402526855, 'learning_rate': 1.6361393771199507e-05, 'epoch': 0.55}\n"
     ]
    },
    {
     "name": "stderr",
     "output_type": "stream",
     "text": [
      " 19%|█▊        | 600/3243 [1:35:03<7:11:01,  9.79s/it]"
     ]
    },
    {
     "name": "stdout",
     "output_type": "stream",
     "text": [
      "{'loss': 0.9181, 'grad_norm': 4.150820255279541, 'learning_rate': 1.629972247918594e-05, 'epoch': 0.56}\n"
     ]
    },
    {
     "name": "stderr",
     "output_type": "stream",
     "text": [
      " 19%|█▉        | 610/3243 [1:36:42<7:31:39, 10.29s/it]"
     ]
    },
    {
     "name": "stdout",
     "output_type": "stream",
     "text": [
      "{'loss': 1.0008, 'grad_norm': 7.627056121826172, 'learning_rate': 1.6238051187172373e-05, 'epoch': 0.56}\n"
     ]
    },
    {
     "name": "stderr",
     "output_type": "stream",
     "text": [
      " 19%|█▉        | 620/3243 [1:38:17<6:56:43,  9.53s/it]"
     ]
    },
    {
     "name": "stdout",
     "output_type": "stream",
     "text": [
      "{'loss': 0.9019, 'grad_norm': 8.841943740844727, 'learning_rate': 1.6176379895158804e-05, 'epoch': 0.57}\n"
     ]
    },
    {
     "name": "stderr",
     "output_type": "stream",
     "text": [
      " 19%|█▉        | 630/3243 [1:39:57<7:12:38,  9.93s/it]"
     ]
    },
    {
     "name": "stdout",
     "output_type": "stream",
     "text": [
      "{'loss': 1.0138, 'grad_norm': 9.067590713500977, 'learning_rate': 1.6114708603145238e-05, 'epoch': 0.58}\n"
     ]
    },
    {
     "name": "stderr",
     "output_type": "stream",
     "text": [
      " 20%|█▉        | 640/3243 [1:41:33<6:56:26,  9.60s/it]"
     ]
    },
    {
     "name": "stdout",
     "output_type": "stream",
     "text": [
      "{'loss': 0.9306, 'grad_norm': 7.820014953613281, 'learning_rate': 1.605303731113167e-05, 'epoch': 0.59}\n"
     ]
    },
    {
     "name": "stderr",
     "output_type": "stream",
     "text": [
      " 20%|██        | 650/3243 [1:43:09<6:54:49,  9.60s/it]"
     ]
    },
    {
     "name": "stdout",
     "output_type": "stream",
     "text": [
      "{'loss': 0.7846, 'grad_norm': 6.033749580383301, 'learning_rate': 1.59913660191181e-05, 'epoch': 0.6}\n"
     ]
    },
    {
     "name": "stderr",
     "output_type": "stream",
     "text": [
      " 20%|██        | 660/3243 [1:44:46<7:01:48,  9.80s/it]"
     ]
    },
    {
     "name": "stdout",
     "output_type": "stream",
     "text": [
      "{'loss': 1.065, 'grad_norm': 10.941455841064453, 'learning_rate': 1.5929694727104535e-05, 'epoch': 0.61}\n"
     ]
    },
    {
     "name": "stderr",
     "output_type": "stream",
     "text": [
      " 21%|██        | 670/3243 [1:46:22<6:48:03,  9.52s/it]"
     ]
    },
    {
     "name": "stdout",
     "output_type": "stream",
     "text": [
      "{'loss': 0.889, 'grad_norm': 5.660898685455322, 'learning_rate': 1.5868023435090966e-05, 'epoch': 0.62}\n"
     ]
    },
    {
     "name": "stderr",
     "output_type": "stream",
     "text": [
      " 21%|██        | 680/3243 [1:47:59<6:52:21,  9.65s/it]"
     ]
    },
    {
     "name": "stdout",
     "output_type": "stream",
     "text": [
      "{'loss': 0.8274, 'grad_norm': 9.862699508666992, 'learning_rate': 1.58063521430774e-05, 'epoch': 0.63}\n"
     ]
    },
    {
     "name": "stderr",
     "output_type": "stream",
     "text": [
      " 21%|██▏       | 690/3243 [1:49:34<6:44:07,  9.50s/it]"
     ]
    },
    {
     "name": "stdout",
     "output_type": "stream",
     "text": [
      "{'loss': 0.9906, 'grad_norm': 7.462131023406982, 'learning_rate': 1.5744680851063832e-05, 'epoch': 0.64}\n"
     ]
    },
    {
     "name": "stderr",
     "output_type": "stream",
     "text": [
      " 22%|██▏       | 700/3243 [1:51:10<6:48:04,  9.63s/it]"
     ]
    },
    {
     "name": "stdout",
     "output_type": "stream",
     "text": [
      "{'loss': 0.8212, 'grad_norm': 4.875250816345215, 'learning_rate': 1.5683009559050263e-05, 'epoch': 0.65}\n"
     ]
    },
    {
     "name": "stderr",
     "output_type": "stream",
     "text": [
      " 22%|██▏       | 710/3243 [1:52:48<6:57:32,  9.89s/it]"
     ]
    },
    {
     "name": "stdout",
     "output_type": "stream",
     "text": [
      "{'loss': 0.95, 'grad_norm': 7.873554706573486, 'learning_rate': 1.5621338267036698e-05, 'epoch': 0.66}\n"
     ]
    },
    {
     "name": "stderr",
     "output_type": "stream",
     "text": [
      " 22%|██▏       | 720/3243 [1:54:23<6:38:03,  9.47s/it]"
     ]
    },
    {
     "name": "stdout",
     "output_type": "stream",
     "text": [
      "{'loss': 0.9477, 'grad_norm': 5.833280563354492, 'learning_rate': 1.555966697502313e-05, 'epoch': 0.67}\n"
     ]
    },
    {
     "name": "stderr",
     "output_type": "stream",
     "text": [
      " 23%|██▎       | 730/3243 [1:55:58<6:43:30,  9.63s/it]"
     ]
    },
    {
     "name": "stdout",
     "output_type": "stream",
     "text": [
      "{'loss': 0.8461, 'grad_norm': 8.109892845153809, 'learning_rate': 1.549799568300956e-05, 'epoch': 0.68}\n"
     ]
    },
    {
     "name": "stderr",
     "output_type": "stream",
     "text": [
      " 23%|██▎       | 740/3243 [1:57:34<6:38:42,  9.56s/it]"
     ]
    },
    {
     "name": "stdout",
     "output_type": "stream",
     "text": [
      "{'loss': 0.9765, 'grad_norm': 7.213862419128418, 'learning_rate': 1.5436324390995994e-05, 'epoch': 0.68}\n"
     ]
    },
    {
     "name": "stderr",
     "output_type": "stream",
     "text": [
      " 23%|██▎       | 750/3243 [1:59:10<6:37:19,  9.56s/it]"
     ]
    },
    {
     "name": "stdout",
     "output_type": "stream",
     "text": [
      "{'loss': 1.0066, 'grad_norm': 6.489466190338135, 'learning_rate': 1.5374653098982426e-05, 'epoch': 0.69}\n"
     ]
    },
    {
     "name": "stderr",
     "output_type": "stream",
     "text": [
      " 23%|██▎       | 760/3243 [2:00:46<6:38:15,  9.62s/it]"
     ]
    },
    {
     "name": "stdout",
     "output_type": "stream",
     "text": [
      "{'loss': 0.8897, 'grad_norm': 7.322519302368164, 'learning_rate': 1.5312981806968857e-05, 'epoch': 0.7}\n"
     ]
    },
    {
     "name": "stderr",
     "output_type": "stream",
     "text": [
      " 24%|██▎       | 770/3243 [2:02:23<6:40:37,  9.72s/it]"
     ]
    },
    {
     "name": "stdout",
     "output_type": "stream",
     "text": [
      "{'loss': 1.0062, 'grad_norm': 7.157871246337891, 'learning_rate': 1.525131051495529e-05, 'epoch': 0.71}\n"
     ]
    },
    {
     "name": "stderr",
     "output_type": "stream",
     "text": [
      " 24%|██▍       | 780/3243 [2:04:04<6:38:47,  9.71s/it]"
     ]
    },
    {
     "name": "stdout",
     "output_type": "stream",
     "text": [
      "{'loss': 0.8818, 'grad_norm': 5.193210601806641, 'learning_rate': 1.518963922294172e-05, 'epoch': 0.72}\n"
     ]
    },
    {
     "name": "stderr",
     "output_type": "stream",
     "text": [
      " 24%|██▍       | 790/3243 [2:05:40<6:30:59,  9.56s/it]"
     ]
    },
    {
     "name": "stdout",
     "output_type": "stream",
     "text": [
      "{'loss': 0.9597, 'grad_norm': 8.206948280334473, 'learning_rate': 1.5127967930928153e-05, 'epoch': 0.73}\n"
     ]
    },
    {
     "name": "stderr",
     "output_type": "stream",
     "text": [
      " 25%|██▍       | 800/3243 [2:07:15<6:28:40,  9.55s/it]"
     ]
    },
    {
     "name": "stdout",
     "output_type": "stream",
     "text": [
      "{'loss': 0.8272, 'grad_norm': 5.838427543640137, 'learning_rate': 1.5066296638914586e-05, 'epoch': 0.74}\n"
     ]
    },
    {
     "name": "stderr",
     "output_type": "stream",
     "text": [
      " 25%|██▍       | 810/3243 [2:08:51<6:29:23,  9.60s/it]"
     ]
    },
    {
     "name": "stdout",
     "output_type": "stream",
     "text": [
      "{'loss': 1.0236, 'grad_norm': 10.746663093566895, 'learning_rate': 1.5004625346901019e-05, 'epoch': 0.75}\n"
     ]
    },
    {
     "name": "stderr",
     "output_type": "stream",
     "text": [
      " 25%|██▌       | 820/3243 [2:10:29<6:36:13,  9.81s/it]"
     ]
    },
    {
     "name": "stdout",
     "output_type": "stream",
     "text": [
      "{'loss': 0.9746, 'grad_norm': 4.757213592529297, 'learning_rate': 1.494295405488745e-05, 'epoch': 0.76}\n"
     ]
    },
    {
     "name": "stderr",
     "output_type": "stream",
     "text": [
      " 26%|██▌       | 830/3243 [2:12:06<6:26:22,  9.61s/it]"
     ]
    },
    {
     "name": "stdout",
     "output_type": "stream",
     "text": [
      "{'loss': 1.0109, 'grad_norm': 5.623650550842285, 'learning_rate': 1.4881282762873883e-05, 'epoch': 0.77}\n"
     ]
    },
    {
     "name": "stderr",
     "output_type": "stream",
     "text": [
      " 26%|██▌       | 840/3243 [2:13:43<6:26:24,  9.65s/it]"
     ]
    },
    {
     "name": "stdout",
     "output_type": "stream",
     "text": [
      "{'loss': 0.8814, 'grad_norm': 7.005825042724609, 'learning_rate': 1.4819611470860316e-05, 'epoch': 0.78}\n"
     ]
    },
    {
     "name": "stderr",
     "output_type": "stream",
     "text": [
      " 26%|██▌       | 850/3243 [2:15:19<6:25:28,  9.67s/it]"
     ]
    },
    {
     "name": "stdout",
     "output_type": "stream",
     "text": [
      "{'loss': 0.9242, 'grad_norm': 5.3169846534729, 'learning_rate': 1.4757940178846749e-05, 'epoch': 0.79}\n"
     ]
    },
    {
     "name": "stderr",
     "output_type": "stream",
     "text": [
      " 27%|██▋       | 860/3243 [2:16:58<6:28:25,  9.78s/it]"
     ]
    },
    {
     "name": "stdout",
     "output_type": "stream",
     "text": [
      "{'loss': 0.886, 'grad_norm': 5.931900978088379, 'learning_rate': 1.469626888683318e-05, 'epoch': 0.8}\n"
     ]
    },
    {
     "name": "stderr",
     "output_type": "stream",
     "text": [
      " 27%|██▋       | 870/3243 [2:18:36<6:20:57,  9.63s/it]"
     ]
    },
    {
     "name": "stdout",
     "output_type": "stream",
     "text": [
      "{'loss': 0.9251, 'grad_norm': 5.171823501586914, 'learning_rate': 1.4634597594819613e-05, 'epoch': 0.8}\n"
     ]
    },
    {
     "name": "stderr",
     "output_type": "stream",
     "text": [
      " 27%|██▋       | 880/3243 [2:20:12<6:18:06,  9.60s/it]"
     ]
    },
    {
     "name": "stdout",
     "output_type": "stream",
     "text": [
      "{'loss': 0.8948, 'grad_norm': 8.6849365234375, 'learning_rate': 1.4572926302806046e-05, 'epoch': 0.81}\n"
     ]
    },
    {
     "name": "stderr",
     "output_type": "stream",
     "text": [
      " 27%|██▋       | 890/3243 [2:21:58<6:50:12, 10.46s/it]"
     ]
    },
    {
     "name": "stdout",
     "output_type": "stream",
     "text": [
      "{'loss': 0.9476, 'grad_norm': 6.407121181488037, 'learning_rate': 1.4511255010792478e-05, 'epoch': 0.82}\n"
     ]
    },
    {
     "name": "stderr",
     "output_type": "stream",
     "text": [
      " 28%|██▊       | 900/3243 [2:23:41<6:25:19,  9.87s/it]"
     ]
    },
    {
     "name": "stdout",
     "output_type": "stream",
     "text": [
      "{'loss': 0.8689, 'grad_norm': 8.98587703704834, 'learning_rate': 1.444958371877891e-05, 'epoch': 0.83}\n"
     ]
    },
    {
     "name": "stderr",
     "output_type": "stream",
     "text": [
      " 28%|██▊       | 910/3243 [2:25:09<5:47:25,  8.93s/it]"
     ]
    },
    {
     "name": "stdout",
     "output_type": "stream",
     "text": [
      "{'loss': 0.8985, 'grad_norm': 8.256662368774414, 'learning_rate': 1.4387912426765342e-05, 'epoch': 0.84}\n"
     ]
    },
    {
     "name": "stderr",
     "output_type": "stream",
     "text": [
      " 28%|██▊       | 920/3243 [2:26:44<6:09:19,  9.54s/it]"
     ]
    },
    {
     "name": "stdout",
     "output_type": "stream",
     "text": [
      "{'loss': 0.9544, 'grad_norm': 5.9156928062438965, 'learning_rate': 1.4326241134751775e-05, 'epoch': 0.85}\n"
     ]
    },
    {
     "name": "stderr",
     "output_type": "stream",
     "text": [
      " 29%|██▊       | 930/3243 [2:28:18<6:01:23,  9.37s/it]"
     ]
    },
    {
     "name": "stdout",
     "output_type": "stream",
     "text": [
      "{'loss': 0.9036, 'grad_norm': 8.78812313079834, 'learning_rate': 1.4264569842738208e-05, 'epoch': 0.86}\n"
     ]
    },
    {
     "name": "stderr",
     "output_type": "stream",
     "text": [
      " 29%|██▉       | 940/3243 [2:29:53<6:01:45,  9.42s/it]"
     ]
    },
    {
     "name": "stdout",
     "output_type": "stream",
     "text": [
      "{'loss': 0.8694, 'grad_norm': 7.050388336181641, 'learning_rate': 1.420289855072464e-05, 'epoch': 0.87}\n"
     ]
    },
    {
     "name": "stderr",
     "output_type": "stream",
     "text": [
      " 29%|██▉       | 950/3243 [2:31:28<6:00:57,  9.45s/it]"
     ]
    },
    {
     "name": "stdout",
     "output_type": "stream",
     "text": [
      "{'loss': 0.9297, 'grad_norm': 7.650028228759766, 'learning_rate': 1.4141227258711072e-05, 'epoch': 0.88}\n"
     ]
    },
    {
     "name": "stderr",
     "output_type": "stream",
     "text": [
      " 30%|██▉       | 960/3243 [2:33:12<6:53:20, 10.86s/it]"
     ]
    },
    {
     "name": "stdout",
     "output_type": "stream",
     "text": [
      "{'loss': 0.9156, 'grad_norm': 5.928703784942627, 'learning_rate': 1.4079555966697505e-05, 'epoch': 0.89}\n"
     ]
    },
    {
     "name": "stderr",
     "output_type": "stream",
     "text": [
      " 30%|██▉       | 970/3243 [2:34:48<6:04:21,  9.62s/it]"
     ]
    },
    {
     "name": "stdout",
     "output_type": "stream",
     "text": [
      "{'loss': 0.8834, 'grad_norm': 5.684692859649658, 'learning_rate': 1.4017884674683934e-05, 'epoch': 0.9}\n"
     ]
    },
    {
     "name": "stderr",
     "output_type": "stream",
     "text": [
      " 30%|███       | 980/3243 [2:36:23<5:58:33,  9.51s/it]"
     ]
    },
    {
     "name": "stdout",
     "output_type": "stream",
     "text": [
      "{'loss': 0.9165, 'grad_norm': 4.7376580238342285, 'learning_rate': 1.3956213382670367e-05, 'epoch': 0.91}\n"
     ]
    },
    {
     "name": "stderr",
     "output_type": "stream",
     "text": [
      " 31%|███       | 990/3243 [2:38:00<6:04:33,  9.71s/it]"
     ]
    },
    {
     "name": "stdout",
     "output_type": "stream",
     "text": [
      "{'loss': 0.9516, 'grad_norm': 5.589293003082275, 'learning_rate': 1.38945420906568e-05, 'epoch': 0.92}\n"
     ]
    },
    {
     "name": "stderr",
     "output_type": "stream",
     "text": [
      " 31%|███       | 1000/3243 [2:39:35<5:55:58,  9.52s/it]"
     ]
    },
    {
     "name": "stdout",
     "output_type": "stream",
     "text": [
      "{'loss': 0.8753, 'grad_norm': 5.696262359619141, 'learning_rate': 1.3832870798643231e-05, 'epoch': 0.93}\n"
     ]
    },
    {
     "name": "stderr",
     "output_type": "stream",
     "text": [
      " 31%|███       | 1010/3243 [2:41:10<5:46:25,  9.31s/it]"
     ]
    },
    {
     "name": "stdout",
     "output_type": "stream",
     "text": [
      "{'loss': 1.017, 'grad_norm': 8.733871459960938, 'learning_rate': 1.3771199506629664e-05, 'epoch': 0.93}\n"
     ]
    },
    {
     "name": "stderr",
     "output_type": "stream",
     "text": [
      " 31%|███▏      | 1020/3243 [2:42:46<5:53:06,  9.53s/it]"
     ]
    },
    {
     "name": "stdout",
     "output_type": "stream",
     "text": [
      "{'loss': 0.9815, 'grad_norm': 8.494422912597656, 'learning_rate': 1.3709528214616097e-05, 'epoch': 0.94}\n"
     ]
    },
    {
     "name": "stderr",
     "output_type": "stream",
     "text": [
      " 32%|███▏      | 1030/3243 [2:44:23<5:52:57,  9.57s/it]"
     ]
    },
    {
     "name": "stdout",
     "output_type": "stream",
     "text": [
      "{'loss': 0.905, 'grad_norm': 7.432690620422363, 'learning_rate': 1.364785692260253e-05, 'epoch': 0.95}\n"
     ]
    },
    {
     "name": "stderr",
     "output_type": "stream",
     "text": [
      " 32%|███▏      | 1040/3243 [2:45:59<5:50:00,  9.53s/it]"
     ]
    },
    {
     "name": "stdout",
     "output_type": "stream",
     "text": [
      "{'loss': 0.9359, 'grad_norm': 4.226840972900391, 'learning_rate': 1.3586185630588961e-05, 'epoch': 0.96}\n"
     ]
    },
    {
     "name": "stderr",
     "output_type": "stream",
     "text": [
      " 32%|███▏      | 1050/3243 [2:47:31<5:41:37,  9.35s/it]"
     ]
    },
    {
     "name": "stdout",
     "output_type": "stream",
     "text": [
      "{'loss': 0.8648, 'grad_norm': 6.8733954429626465, 'learning_rate': 1.3524514338575394e-05, 'epoch': 0.97}\n"
     ]
    },
    {
     "name": "stderr",
     "output_type": "stream",
     "text": [
      " 33%|███▎      | 1060/3243 [2:49:06<5:42:31,  9.41s/it]"
     ]
    },
    {
     "name": "stdout",
     "output_type": "stream",
     "text": [
      "{'loss': 0.9136, 'grad_norm': 5.472556114196777, 'learning_rate': 1.3462843046561827e-05, 'epoch': 0.98}\n"
     ]
    },
    {
     "name": "stderr",
     "output_type": "stream",
     "text": [
      " 33%|███▎      | 1070/3243 [2:50:42<5:43:03,  9.47s/it]"
     ]
    },
    {
     "name": "stdout",
     "output_type": "stream",
     "text": [
      "{'loss': 0.9345, 'grad_norm': 3.7882347106933594, 'learning_rate': 1.340117175454826e-05, 'epoch': 0.99}\n"
     ]
    },
    {
     "name": "stderr",
     "output_type": "stream",
     "text": [
      " 33%|███▎      | 1080/3243 [2:52:16<5:38:12,  9.38s/it]"
     ]
    },
    {
     "name": "stdout",
     "output_type": "stream",
     "text": [
      "{'loss': 0.8401, 'grad_norm': 5.757761001586914, 'learning_rate': 1.333950046253469e-05, 'epoch': 1.0}\n"
     ]
    },
    {
     "name": "stderr",
     "output_type": "stream",
     "text": [
      "                                                       \n",
      " 33%|███▎      | 1081/3243 [3:04:49<5:36:53,  9.35s/it]"
     ]
    },
    {
     "name": "stdout",
     "output_type": "stream",
     "text": [
      "{'eval_loss': 0.9159550070762634, 'eval_accuracy': 0.6112395929694727, 'eval_runtime': 743.81, 'eval_samples_per_second': 5.813, 'eval_steps_per_second': 0.364, 'epoch': 1.0}\n"
     ]
    },
    {
     "name": "stderr",
     "output_type": "stream",
     "text": [
      " 34%|███▎      | 1090/3243 [3:06:19<13:36:31, 22.75s/it]  "
     ]
    },
    {
     "name": "stdout",
     "output_type": "stream",
     "text": [
      "{'loss': 0.7582, 'grad_norm': 6.839674949645996, 'learning_rate': 1.3277829170521123e-05, 'epoch': 1.01}\n"
     ]
    },
    {
     "name": "stderr",
     "output_type": "stream",
     "text": [
      " 34%|███▍      | 1100/3243 [3:07:54<5:54:27,  9.92s/it] "
     ]
    },
    {
     "name": "stdout",
     "output_type": "stream",
     "text": [
      "{'loss': 0.8302, 'grad_norm': 6.376169204711914, 'learning_rate': 1.3216157878507556e-05, 'epoch': 1.02}\n"
     ]
    },
    {
     "name": "stderr",
     "output_type": "stream",
     "text": [
      " 34%|███▍      | 1110/3243 [3:09:25<5:27:42,  9.22s/it]"
     ]
    },
    {
     "name": "stdout",
     "output_type": "stream",
     "text": [
      "{'loss': 0.7179, 'grad_norm': 7.406371593475342, 'learning_rate': 1.3154486586493989e-05, 'epoch': 1.03}\n"
     ]
    },
    {
     "name": "stderr",
     "output_type": "stream",
     "text": [
      " 35%|███▍      | 1120/3243 [3:10:59<5:20:28,  9.06s/it]"
     ]
    },
    {
     "name": "stdout",
     "output_type": "stream",
     "text": [
      "{'loss': 0.8466, 'grad_norm': 6.388751983642578, 'learning_rate': 1.309281529448042e-05, 'epoch': 1.04}\n"
     ]
    },
    {
     "name": "stderr",
     "output_type": "stream",
     "text": [
      " 35%|███▍      | 1130/3243 [3:12:34<5:32:31,  9.44s/it]"
     ]
    },
    {
     "name": "stdout",
     "output_type": "stream",
     "text": [
      "{'loss': 0.8316, 'grad_norm': 4.311958312988281, 'learning_rate': 1.3031144002466853e-05, 'epoch': 1.05}\n"
     ]
    },
    {
     "name": "stderr",
     "output_type": "stream",
     "text": [
      " 35%|███▌      | 1140/3243 [3:14:10<5:33:04,  9.50s/it]"
     ]
    },
    {
     "name": "stdout",
     "output_type": "stream",
     "text": [
      "{'loss': 0.8909, 'grad_norm': 7.283366680145264, 'learning_rate': 1.2969472710453286e-05, 'epoch': 1.05}\n"
     ]
    },
    {
     "name": "stderr",
     "output_type": "stream",
     "text": [
      " 35%|███▌      | 1150/3243 [3:15:44<5:29:50,  9.46s/it]"
     ]
    },
    {
     "name": "stdout",
     "output_type": "stream",
     "text": [
      "{'loss': 0.919, 'grad_norm': 5.722158908843994, 'learning_rate': 1.2907801418439719e-05, 'epoch': 1.06}\n"
     ]
    },
    {
     "name": "stderr",
     "output_type": "stream",
     "text": [
      " 36%|███▌      | 1160/3243 [3:17:20<5:33:15,  9.60s/it]"
     ]
    },
    {
     "name": "stdout",
     "output_type": "stream",
     "text": [
      "{'loss': 0.8386, 'grad_norm': 5.251672744750977, 'learning_rate': 1.284613012642615e-05, 'epoch': 1.07}\n"
     ]
    },
    {
     "name": "stderr",
     "output_type": "stream",
     "text": [
      " 36%|███▌      | 1170/3243 [3:18:57<5:30:03,  9.55s/it]"
     ]
    },
    {
     "name": "stdout",
     "output_type": "stream",
     "text": [
      "{'loss': 0.8568, 'grad_norm': 8.446351051330566, 'learning_rate': 1.2784458834412583e-05, 'epoch': 1.08}\n"
     ]
    },
    {
     "name": "stderr",
     "output_type": "stream",
     "text": [
      " 36%|███▋      | 1180/3243 [3:20:32<5:26:44,  9.50s/it]"
     ]
    },
    {
     "name": "stdout",
     "output_type": "stream",
     "text": [
      "{'loss': 0.7388, 'grad_norm': 6.056087017059326, 'learning_rate': 1.2722787542399014e-05, 'epoch': 1.09}\n"
     ]
    },
    {
     "name": "stderr",
     "output_type": "stream",
     "text": [
      " 37%|███▋      | 1190/3243 [3:22:08<5:27:03,  9.56s/it]"
     ]
    },
    {
     "name": "stdout",
     "output_type": "stream",
     "text": [
      "{'loss': 0.7303, 'grad_norm': 6.042623996734619, 'learning_rate': 1.2661116250385445e-05, 'epoch': 1.1}\n"
     ]
    },
    {
     "name": "stderr",
     "output_type": "stream",
     "text": [
      " 37%|███▋      | 1200/3243 [3:23:45<5:29:03,  9.66s/it]"
     ]
    },
    {
     "name": "stdout",
     "output_type": "stream",
     "text": [
      "{'loss': 0.8368, 'grad_norm': 11.958532333374023, 'learning_rate': 1.2599444958371878e-05, 'epoch': 1.11}\n"
     ]
    },
    {
     "name": "stderr",
     "output_type": "stream",
     "text": [
      " 37%|███▋      | 1210/3243 [3:25:21<5:21:48,  9.50s/it]"
     ]
    },
    {
     "name": "stdout",
     "output_type": "stream",
     "text": [
      "{'loss': 0.7533, 'grad_norm': 9.707469940185547, 'learning_rate': 1.253777366635831e-05, 'epoch': 1.12}\n"
     ]
    },
    {
     "name": "stderr",
     "output_type": "stream",
     "text": [
      " 38%|███▊      | 1220/3243 [3:26:57<5:23:41,  9.60s/it]"
     ]
    },
    {
     "name": "stdout",
     "output_type": "stream",
     "text": [
      "{'loss': 0.7093, 'grad_norm': 9.419227600097656, 'learning_rate': 1.2476102374344743e-05, 'epoch': 1.13}\n"
     ]
    },
    {
     "name": "stderr",
     "output_type": "stream",
     "text": [
      " 38%|███▊      | 1230/3243 [3:28:32<5:24:19,  9.67s/it]"
     ]
    },
    {
     "name": "stdout",
     "output_type": "stream",
     "text": [
      "{'loss': 0.6418, 'grad_norm': 4.8534159660339355, 'learning_rate': 1.2414431082331175e-05, 'epoch': 1.14}\n"
     ]
    },
    {
     "name": "stderr",
     "output_type": "stream",
     "text": [
      " 38%|███▊      | 1240/3243 [3:30:10<5:20:08,  9.59s/it]"
     ]
    },
    {
     "name": "stdout",
     "output_type": "stream",
     "text": [
      "{'loss': 0.9143, 'grad_norm': 6.692648410797119, 'learning_rate': 1.2352759790317607e-05, 'epoch': 1.15}\n"
     ]
    },
    {
     "name": "stderr",
     "output_type": "stream",
     "text": [
      " 39%|███▊      | 1250/3243 [3:31:45<5:14:28,  9.47s/it]"
     ]
    },
    {
     "name": "stdout",
     "output_type": "stream",
     "text": [
      "{'loss': 0.8922, 'grad_norm': 5.084749698638916, 'learning_rate': 1.229108849830404e-05, 'epoch': 1.16}\n"
     ]
    },
    {
     "name": "stderr",
     "output_type": "stream",
     "text": [
      " 39%|███▉      | 1260/3243 [3:33:28<5:36:49, 10.19s/it]"
     ]
    },
    {
     "name": "stdout",
     "output_type": "stream",
     "text": [
      "{'loss': 0.7942, 'grad_norm': 7.135986804962158, 'learning_rate': 1.2229417206290473e-05, 'epoch': 1.17}\n"
     ]
    },
    {
     "name": "stderr",
     "output_type": "stream",
     "text": [
      " 39%|███▉      | 1270/3243 [3:35:04<5:14:32,  9.57s/it]"
     ]
    },
    {
     "name": "stdout",
     "output_type": "stream",
     "text": [
      "{'loss': 0.8479, 'grad_norm': 6.125086784362793, 'learning_rate': 1.2167745914276904e-05, 'epoch': 1.17}\n"
     ]
    },
    {
     "name": "stderr",
     "output_type": "stream",
     "text": [
      " 39%|███▉      | 1280/3243 [3:36:41<5:13:49,  9.59s/it]"
     ]
    },
    {
     "name": "stdout",
     "output_type": "stream",
     "text": [
      "{'loss': 0.8358, 'grad_norm': 8.850558280944824, 'learning_rate': 1.2106074622263337e-05, 'epoch': 1.18}\n"
     ]
    },
    {
     "name": "stderr",
     "output_type": "stream",
     "text": [
      " 40%|███▉      | 1290/3243 [3:38:19<5:19:58,  9.83s/it]"
     ]
    },
    {
     "name": "stdout",
     "output_type": "stream",
     "text": [
      "{'loss': 0.7726, 'grad_norm': 8.333456039428711, 'learning_rate': 1.204440333024977e-05, 'epoch': 1.19}\n"
     ]
    },
    {
     "name": "stderr",
     "output_type": "stream",
     "text": [
      " 40%|████      | 1300/3243 [3:39:57<5:23:21,  9.99s/it]"
     ]
    },
    {
     "name": "stdout",
     "output_type": "stream",
     "text": [
      "{'loss': 0.8392, 'grad_norm': 7.109560966491699, 'learning_rate': 1.1982732038236203e-05, 'epoch': 1.2}\n"
     ]
    },
    {
     "name": "stderr",
     "output_type": "stream",
     "text": [
      " 40%|████      | 1310/3243 [3:41:34<5:09:39,  9.61s/it]"
     ]
    },
    {
     "name": "stdout",
     "output_type": "stream",
     "text": [
      "{'loss': 0.6985, 'grad_norm': 6.161740303039551, 'learning_rate': 1.1921060746222634e-05, 'epoch': 1.21}\n"
     ]
    },
    {
     "name": "stderr",
     "output_type": "stream",
     "text": [
      " 41%|████      | 1320/3243 [3:43:12<5:12:21,  9.75s/it]"
     ]
    },
    {
     "name": "stdout",
     "output_type": "stream",
     "text": [
      "{'loss': 0.7098, 'grad_norm': 4.998850345611572, 'learning_rate': 1.1859389454209067e-05, 'epoch': 1.22}\n"
     ]
    },
    {
     "name": "stderr",
     "output_type": "stream",
     "text": [
      " 41%|████      | 1330/3243 [3:44:49<5:15:26,  9.89s/it]"
     ]
    },
    {
     "name": "stdout",
     "output_type": "stream",
     "text": [
      "{'loss': 0.7347, 'grad_norm': 7.434821128845215, 'learning_rate': 1.17977181621955e-05, 'epoch': 1.23}\n"
     ]
    },
    {
     "name": "stderr",
     "output_type": "stream",
     "text": [
      " 41%|████▏     | 1340/3243 [3:46:24<4:47:01,  9.05s/it]"
     ]
    },
    {
     "name": "stdout",
     "output_type": "stream",
     "text": [
      "{'loss': 0.8122, 'grad_norm': 8.756418228149414, 'learning_rate': 1.1736046870181932e-05, 'epoch': 1.24}\n"
     ]
    },
    {
     "name": "stderr",
     "output_type": "stream",
     "text": [
      " 42%|████▏     | 1350/3243 [3:47:53<4:40:01,  8.88s/it]"
     ]
    },
    {
     "name": "stdout",
     "output_type": "stream",
     "text": [
      "{'loss': 0.8152, 'grad_norm': 8.757704734802246, 'learning_rate': 1.1674375578168364e-05, 'epoch': 1.25}\n"
     ]
    },
    {
     "name": "stderr",
     "output_type": "stream",
     "text": [
      " 42%|████▏     | 1360/3243 [3:49:22<4:39:20,  8.90s/it]"
     ]
    },
    {
     "name": "stdout",
     "output_type": "stream",
     "text": [
      "{'loss': 0.7868, 'grad_norm': 9.475339889526367, 'learning_rate': 1.1612704286154796e-05, 'epoch': 1.26}\n"
     ]
    },
    {
     "name": "stderr",
     "output_type": "stream",
     "text": [
      " 42%|████▏     | 1370/3243 [3:50:50<4:34:53,  8.81s/it]"
     ]
    },
    {
     "name": "stdout",
     "output_type": "stream",
     "text": [
      "{'loss': 0.7926, 'grad_norm': 4.365220546722412, 'learning_rate': 1.155103299414123e-05, 'epoch': 1.27}\n"
     ]
    },
    {
     "name": "stderr",
     "output_type": "stream",
     "text": [
      " 43%|████▎     | 1380/3243 [3:52:19<4:34:41,  8.85s/it]"
     ]
    },
    {
     "name": "stdout",
     "output_type": "stream",
     "text": [
      "{'loss': 0.7775, 'grad_norm': 6.094344139099121, 'learning_rate': 1.1489361702127662e-05, 'epoch': 1.28}\n"
     ]
    },
    {
     "name": "stderr",
     "output_type": "stream",
     "text": [
      " 43%|████▎     | 1390/3243 [3:53:54<5:06:32,  9.93s/it]"
     ]
    },
    {
     "name": "stdout",
     "output_type": "stream",
     "text": [
      "{'loss': 0.7132, 'grad_norm': 9.234994888305664, 'learning_rate': 1.1427690410114092e-05, 'epoch': 1.29}\n"
     ]
    },
    {
     "name": "stderr",
     "output_type": "stream",
     "text": [
      " 43%|████▎     | 1400/3243 [3:55:30<4:55:19,  9.61s/it]"
     ]
    },
    {
     "name": "stdout",
     "output_type": "stream",
     "text": [
      "{'loss': 0.8231, 'grad_norm': 9.154414176940918, 'learning_rate': 1.1366019118100524e-05, 'epoch': 1.3}\n"
     ]
    },
    {
     "name": "stderr",
     "output_type": "stream",
     "text": [
      " 43%|████▎     | 1410/3243 [3:57:06<4:54:13,  9.63s/it]"
     ]
    },
    {
     "name": "stdout",
     "output_type": "stream",
     "text": [
      "{'loss': 0.8506, 'grad_norm': 8.430617332458496, 'learning_rate': 1.1304347826086957e-05, 'epoch': 1.3}\n"
     ]
    },
    {
     "name": "stderr",
     "output_type": "stream",
     "text": [
      " 44%|████▍     | 1420/3243 [3:58:43<4:52:18,  9.62s/it]"
     ]
    },
    {
     "name": "stdout",
     "output_type": "stream",
     "text": [
      "{'loss': 0.8476, 'grad_norm': 9.893769264221191, 'learning_rate': 1.1242676534073388e-05, 'epoch': 1.31}\n"
     ]
    },
    {
     "name": "stderr",
     "output_type": "stream",
     "text": [
      " 44%|████▍     | 1430/3243 [4:00:16<4:33:50,  9.06s/it]"
     ]
    },
    {
     "name": "stdout",
     "output_type": "stream",
     "text": [
      "{'loss': 0.7727, 'grad_norm': 6.417590141296387, 'learning_rate': 1.1181005242059821e-05, 'epoch': 1.32}\n"
     ]
    },
    {
     "name": "stderr",
     "output_type": "stream",
     "text": [
      " 44%|████▍     | 1440/3243 [4:01:45<4:25:44,  8.84s/it]"
     ]
    },
    {
     "name": "stdout",
     "output_type": "stream",
     "text": [
      "{'loss': 0.7809, 'grad_norm': 7.575127601623535, 'learning_rate': 1.1119333950046254e-05, 'epoch': 1.33}\n"
     ]
    },
    {
     "name": "stderr",
     "output_type": "stream",
     "text": [
      " 45%|████▍     | 1450/3243 [4:03:14<4:27:51,  8.96s/it]"
     ]
    },
    {
     "name": "stdout",
     "output_type": "stream",
     "text": [
      "{'loss': 0.7821, 'grad_norm': 8.478399276733398, 'learning_rate': 1.1057662658032687e-05, 'epoch': 1.34}\n"
     ]
    },
    {
     "name": "stderr",
     "output_type": "stream",
     "text": [
      " 45%|████▌     | 1460/3243 [4:04:43<4:25:10,  8.92s/it]"
     ]
    },
    {
     "name": "stdout",
     "output_type": "stream",
     "text": [
      "{'loss': 0.7774, 'grad_norm': 8.987105369567871, 'learning_rate': 1.0995991366019118e-05, 'epoch': 1.35}\n"
     ]
    },
    {
     "name": "stderr",
     "output_type": "stream",
     "text": [
      " 45%|████▌     | 1470/3243 [4:06:11<4:19:38,  8.79s/it]"
     ]
    },
    {
     "name": "stdout",
     "output_type": "stream",
     "text": [
      "{'loss': 0.7655, 'grad_norm': 10.435037612915039, 'learning_rate': 1.0934320074005551e-05, 'epoch': 1.36}\n"
     ]
    },
    {
     "name": "stderr",
     "output_type": "stream",
     "text": [
      " 46%|████▌     | 1480/3243 [4:07:42<4:38:00,  9.46s/it]"
     ]
    },
    {
     "name": "stdout",
     "output_type": "stream",
     "text": [
      "{'loss': 0.7696, 'grad_norm': 5.454435348510742, 'learning_rate': 1.0872648781991984e-05, 'epoch': 1.37}\n"
     ]
    },
    {
     "name": "stderr",
     "output_type": "stream",
     "text": [
      " 46%|████▌     | 1490/3243 [4:09:17<4:37:38,  9.50s/it]"
     ]
    },
    {
     "name": "stdout",
     "output_type": "stream",
     "text": [
      "{'loss': 0.8829, 'grad_norm': 8.643383026123047, 'learning_rate': 1.0810977489978417e-05, 'epoch': 1.38}\n"
     ]
    },
    {
     "name": "stderr",
     "output_type": "stream",
     "text": [
      " 46%|████▋     | 1500/3243 [4:10:52<4:35:29,  9.48s/it]"
     ]
    },
    {
     "name": "stdout",
     "output_type": "stream",
     "text": [
      "{'loss': 0.7256, 'grad_norm': 5.579920768737793, 'learning_rate': 1.0749306197964848e-05, 'epoch': 1.39}\n"
     ]
    },
    {
     "name": "stderr",
     "output_type": "stream",
     "text": [
      " 47%|████▋     | 1510/3243 [4:12:27<4:33:56,  9.48s/it]"
     ]
    },
    {
     "name": "stdout",
     "output_type": "stream",
     "text": [
      "{'loss': 0.8755, 'grad_norm': 10.530611991882324, 'learning_rate': 1.068763490595128e-05, 'epoch': 1.4}\n"
     ]
    },
    {
     "name": "stderr",
     "output_type": "stream",
     "text": [
      " 47%|████▋     | 1520/3243 [4:14:02<4:32:15,  9.48s/it]"
     ]
    },
    {
     "name": "stdout",
     "output_type": "stream",
     "text": [
      "{'loss': 0.9061, 'grad_norm': 10.463446617126465, 'learning_rate': 1.0625963613937713e-05, 'epoch': 1.41}\n"
     ]
    },
    {
     "name": "stderr",
     "output_type": "stream",
     "text": [
      " 47%|████▋     | 1530/3243 [4:15:37<4:31:24,  9.51s/it]"
     ]
    },
    {
     "name": "stdout",
     "output_type": "stream",
     "text": [
      "{'loss': 0.7333, 'grad_norm': 8.074493408203125, 'learning_rate': 1.0564292321924146e-05, 'epoch': 1.42}\n"
     ]
    },
    {
     "name": "stderr",
     "output_type": "stream",
     "text": [
      " 47%|████▋     | 1540/3243 [4:17:12<4:29:28,  9.49s/it]"
     ]
    },
    {
     "name": "stdout",
     "output_type": "stream",
     "text": [
      "{'loss': 0.7857, 'grad_norm': 12.144375801086426, 'learning_rate': 1.0502621029910577e-05, 'epoch': 1.42}\n"
     ]
    },
    {
     "name": "stderr",
     "output_type": "stream",
     "text": [
      " 48%|████▊     | 1550/3243 [4:18:48<4:10:14,  8.87s/it]"
     ]
    },
    {
     "name": "stdout",
     "output_type": "stream",
     "text": [
      "{'loss': 0.8999, 'grad_norm': 8.154037475585938, 'learning_rate': 1.044094973789701e-05, 'epoch': 1.43}\n"
     ]
    },
    {
     "name": "stderr",
     "output_type": "stream",
     "text": [
      " 48%|████▊     | 1560/3243 [4:20:15<4:04:35,  8.72s/it]"
     ]
    },
    {
     "name": "stdout",
     "output_type": "stream",
     "text": [
      "{'loss': 0.6493, 'grad_norm': 7.2084479331970215, 'learning_rate': 1.0379278445883443e-05, 'epoch': 1.44}\n"
     ]
    },
    {
     "name": "stderr",
     "output_type": "stream",
     "text": [
      " 48%|████▊     | 1570/3243 [4:21:47<4:17:20,  9.23s/it]"
     ]
    },
    {
     "name": "stdout",
     "output_type": "stream",
     "text": [
      "{'loss': 0.7251, 'grad_norm': 6.699007511138916, 'learning_rate': 1.0317607153869876e-05, 'epoch': 1.45}\n"
     ]
    },
    {
     "name": "stderr",
     "output_type": "stream",
     "text": [
      " 49%|████▊     | 1580/3243 [4:23:16<4:10:34,  9.04s/it]"
     ]
    },
    {
     "name": "stdout",
     "output_type": "stream",
     "text": [
      "{'loss': 0.6853, 'grad_norm': 8.68899917602539, 'learning_rate': 1.0255935861856307e-05, 'epoch': 1.46}\n"
     ]
    },
    {
     "name": "stderr",
     "output_type": "stream",
     "text": [
      " 49%|████▉     | 1590/3243 [4:24:43<4:01:38,  8.77s/it]"
     ]
    },
    {
     "name": "stdout",
     "output_type": "stream",
     "text": [
      "{'loss': 0.7621, 'grad_norm': 6.988973617553711, 'learning_rate': 1.019426456984274e-05, 'epoch': 1.47}\n"
     ]
    },
    {
     "name": "stderr",
     "output_type": "stream",
     "text": [
      " 49%|████▉     | 1600/3243 [4:26:11<3:59:35,  8.75s/it]"
     ]
    },
    {
     "name": "stdout",
     "output_type": "stream",
     "text": [
      "{'loss': 0.9465, 'grad_norm': 5.842775821685791, 'learning_rate': 1.0132593277829173e-05, 'epoch': 1.48}\n"
     ]
    },
    {
     "name": "stderr",
     "output_type": "stream",
     "text": [
      " 50%|████▉     | 1610/3243 [4:27:40<4:02:49,  8.92s/it]"
     ]
    },
    {
     "name": "stdout",
     "output_type": "stream",
     "text": [
      "{'loss': 0.7618, 'grad_norm': 8.702909469604492, 'learning_rate': 1.0070921985815602e-05, 'epoch': 1.49}\n"
     ]
    },
    {
     "name": "stderr",
     "output_type": "stream",
     "text": [
      " 50%|████▉     | 1620/3243 [4:29:08<3:58:06,  8.80s/it]"
     ]
    },
    {
     "name": "stdout",
     "output_type": "stream",
     "text": [
      "{'loss': 0.762, 'grad_norm': 7.18402099609375, 'learning_rate': 1.0009250693802035e-05, 'epoch': 1.5}\n"
     ]
    },
    {
     "name": "stderr",
     "output_type": "stream",
     "text": [
      " 50%|█████     | 1630/3243 [4:30:37<3:56:30,  8.80s/it]"
     ]
    },
    {
     "name": "stdout",
     "output_type": "stream",
     "text": [
      "{'loss': 0.7815, 'grad_norm': 7.280163764953613, 'learning_rate': 9.947579401788468e-06, 'epoch': 1.51}\n"
     ]
    },
    {
     "name": "stderr",
     "output_type": "stream",
     "text": [
      " 51%|█████     | 1640/3243 [4:32:05<3:58:18,  8.92s/it]"
     ]
    },
    {
     "name": "stdout",
     "output_type": "stream",
     "text": [
      "{'loss': 0.7618, 'grad_norm': 5.9464335441589355, 'learning_rate': 9.8859081097749e-06, 'epoch': 1.52}\n"
     ]
    },
    {
     "name": "stderr",
     "output_type": "stream",
     "text": [
      " 51%|█████     | 1650/3243 [4:33:36<3:58:18,  8.98s/it]"
     ]
    },
    {
     "name": "stdout",
     "output_type": "stream",
     "text": [
      "{'loss': 0.8449, 'grad_norm': 4.748244285583496, 'learning_rate': 9.824236817761333e-06, 'epoch': 1.53}\n"
     ]
    },
    {
     "name": "stderr",
     "output_type": "stream",
     "text": [
      " 51%|█████     | 1660/3243 [4:34:59<3:38:01,  8.26s/it]"
     ]
    },
    {
     "name": "stdout",
     "output_type": "stream",
     "text": [
      "{'loss': 0.9045, 'grad_norm': 7.000027179718018, 'learning_rate': 9.762565525747765e-06, 'epoch': 1.54}\n"
     ]
    },
    {
     "name": "stderr",
     "output_type": "stream",
     "text": [
      " 51%|█████▏    | 1670/3243 [4:36:22<3:34:22,  8.18s/it]"
     ]
    },
    {
     "name": "stdout",
     "output_type": "stream",
     "text": [
      "{'loss': 0.8889, 'grad_norm': 9.076605796813965, 'learning_rate': 9.700894233734197e-06, 'epoch': 1.54}\n"
     ]
    },
    {
     "name": "stderr",
     "output_type": "stream",
     "text": [
      " 52%|█████▏    | 1680/3243 [4:37:46<3:39:32,  8.43s/it]"
     ]
    },
    {
     "name": "stdout",
     "output_type": "stream",
     "text": [
      "{'loss': 0.8152, 'grad_norm': 7.557755470275879, 'learning_rate': 9.63922294172063e-06, 'epoch': 1.55}\n"
     ]
    },
    {
     "name": "stderr",
     "output_type": "stream",
     "text": [
      " 52%|█████▏    | 1690/3243 [4:39:10<3:36:18,  8.36s/it]"
     ]
    },
    {
     "name": "stdout",
     "output_type": "stream",
     "text": [
      "{'loss': 0.7886, 'grad_norm': 6.081655025482178, 'learning_rate': 9.577551649707061e-06, 'epoch': 1.56}\n"
     ]
    },
    {
     "name": "stderr",
     "output_type": "stream",
     "text": [
      " 52%|█████▏    | 1700/3243 [4:40:33<3:34:02,  8.32s/it]"
     ]
    },
    {
     "name": "stdout",
     "output_type": "stream",
     "text": [
      "{'loss': 0.6947, 'grad_norm': 6.820692539215088, 'learning_rate': 9.515880357693494e-06, 'epoch': 1.57}\n"
     ]
    },
    {
     "name": "stderr",
     "output_type": "stream",
     "text": [
      " 53%|█████▎    | 1710/3243 [4:41:57<3:33:07,  8.34s/it]"
     ]
    },
    {
     "name": "stdout",
     "output_type": "stream",
     "text": [
      "{'loss': 0.8072, 'grad_norm': 11.29126262664795, 'learning_rate': 9.454209065679927e-06, 'epoch': 1.58}\n"
     ]
    },
    {
     "name": "stderr",
     "output_type": "stream",
     "text": [
      " 53%|█████▎    | 1720/3243 [4:43:22<3:36:11,  8.52s/it]"
     ]
    },
    {
     "name": "stdout",
     "output_type": "stream",
     "text": [
      "{'loss': 0.7749, 'grad_norm': 7.55873441696167, 'learning_rate': 9.39253777366636e-06, 'epoch': 1.59}\n"
     ]
    },
    {
     "name": "stderr",
     "output_type": "stream",
     "text": [
      " 53%|█████▎    | 1730/3243 [4:44:45<3:30:19,  8.34s/it]"
     ]
    },
    {
     "name": "stdout",
     "output_type": "stream",
     "text": [
      "{'loss': 0.8745, 'grad_norm': 9.603344917297363, 'learning_rate': 9.330866481652791e-06, 'epoch': 1.6}\n"
     ]
    },
    {
     "name": "stderr",
     "output_type": "stream",
     "text": [
      " 54%|█████▎    | 1740/3243 [4:46:08<3:28:11,  8.31s/it]"
     ]
    },
    {
     "name": "stdout",
     "output_type": "stream",
     "text": [
      "{'loss': 0.8608, 'grad_norm': 8.831040382385254, 'learning_rate': 9.269195189639224e-06, 'epoch': 1.61}\n"
     ]
    },
    {
     "name": "stderr",
     "output_type": "stream",
     "text": [
      " 54%|█████▍    | 1750/3243 [4:47:46<4:08:16,  9.98s/it]"
     ]
    },
    {
     "name": "stdout",
     "output_type": "stream",
     "text": [
      "{'loss': 0.8845, 'grad_norm': 10.730672836303711, 'learning_rate': 9.207523897625657e-06, 'epoch': 1.62}\n"
     ]
    },
    {
     "name": "stderr",
     "output_type": "stream",
     "text": [
      " 54%|█████▍    | 1760/3243 [4:49:18<3:46:24,  9.16s/it]"
     ]
    },
    {
     "name": "stdout",
     "output_type": "stream",
     "text": [
      "{'loss': 0.8511, 'grad_norm': 6.981279373168945, 'learning_rate': 9.14585260561209e-06, 'epoch': 1.63}\n"
     ]
    },
    {
     "name": "stderr",
     "output_type": "stream",
     "text": [
      " 55%|█████▍    | 1770/3243 [4:50:46<3:33:11,  8.68s/it]"
     ]
    },
    {
     "name": "stdout",
     "output_type": "stream",
     "text": [
      "{'loss': 0.7243, 'grad_norm': 7.685239315032959, 'learning_rate': 9.08418131359852e-06, 'epoch': 1.64}\n"
     ]
    },
    {
     "name": "stderr",
     "output_type": "stream",
     "text": [
      " 55%|█████▍    | 1780/3243 [4:52:16<3:37:19,  8.91s/it]"
     ]
    },
    {
     "name": "stdout",
     "output_type": "stream",
     "text": [
      "{'loss': 0.6767, 'grad_norm': 6.274316310882568, 'learning_rate': 9.022510021584952e-06, 'epoch': 1.65}\n"
     ]
    },
    {
     "name": "stderr",
     "output_type": "stream",
     "text": [
      " 55%|█████▌    | 1790/3243 [4:53:46<3:37:42,  8.99s/it]"
     ]
    },
    {
     "name": "stdout",
     "output_type": "stream",
     "text": [
      "{'loss': 0.8359, 'grad_norm': 6.57741117477417, 'learning_rate': 8.960838729571385e-06, 'epoch': 1.66}\n"
     ]
    },
    {
     "name": "stderr",
     "output_type": "stream",
     "text": [
      " 56%|█████▌    | 1800/3243 [4:55:14<3:29:30,  8.71s/it]"
     ]
    },
    {
     "name": "stdout",
     "output_type": "stream",
     "text": [
      "{'loss': 0.6755, 'grad_norm': 5.649810791015625, 'learning_rate': 8.899167437557818e-06, 'epoch': 1.67}\n"
     ]
    },
    {
     "name": "stderr",
     "output_type": "stream",
     "text": [
      " 56%|█████▌    | 1810/3243 [4:56:40<3:26:11,  8.63s/it]"
     ]
    },
    {
     "name": "stdout",
     "output_type": "stream",
     "text": [
      "{'loss': 0.7916, 'grad_norm': 15.030658721923828, 'learning_rate': 8.83749614554425e-06, 'epoch': 1.67}\n"
     ]
    },
    {
     "name": "stderr",
     "output_type": "stream",
     "text": [
      " 56%|█████▌    | 1820/3243 [4:58:06<3:19:50,  8.43s/it]"
     ]
    },
    {
     "name": "stdout",
     "output_type": "stream",
     "text": [
      "{'loss': 0.8631, 'grad_norm': 15.125415802001953, 'learning_rate': 8.775824853530682e-06, 'epoch': 1.68}\n"
     ]
    },
    {
     "name": "stderr",
     "output_type": "stream",
     "text": [
      " 56%|█████▋    | 1830/3243 [4:59:29<3:15:13,  8.29s/it]"
     ]
    },
    {
     "name": "stdout",
     "output_type": "stream",
     "text": [
      "{'loss': 0.7959, 'grad_norm': 9.262378692626953, 'learning_rate': 8.714153561517114e-06, 'epoch': 1.69}\n"
     ]
    },
    {
     "name": "stderr",
     "output_type": "stream",
     "text": [
      " 57%|█████▋    | 1840/3243 [5:00:52<3:11:30,  8.19s/it]"
     ]
    },
    {
     "name": "stdout",
     "output_type": "stream",
     "text": [
      "{'loss': 0.7283, 'grad_norm': 8.550655364990234, 'learning_rate': 8.652482269503547e-06, 'epoch': 1.7}\n"
     ]
    },
    {
     "name": "stderr",
     "output_type": "stream",
     "text": [
      " 57%|█████▋    | 1850/3243 [5:02:15<3:11:49,  8.26s/it]"
     ]
    },
    {
     "name": "stdout",
     "output_type": "stream",
     "text": [
      "{'loss': 0.9613, 'grad_norm': 7.848727703094482, 'learning_rate': 8.59081097748998e-06, 'epoch': 1.71}\n"
     ]
    },
    {
     "name": "stderr",
     "output_type": "stream",
     "text": [
      " 57%|█████▋    | 1860/3243 [5:03:40<3:13:24,  8.39s/it]"
     ]
    },
    {
     "name": "stdout",
     "output_type": "stream",
     "text": [
      "{'loss': 0.8404, 'grad_norm': 6.502878665924072, 'learning_rate': 8.529139685476411e-06, 'epoch': 1.72}\n"
     ]
    },
    {
     "name": "stderr",
     "output_type": "stream",
     "text": [
      " 58%|█████▊    | 1870/3243 [5:05:03<3:09:33,  8.28s/it]"
     ]
    },
    {
     "name": "stdout",
     "output_type": "stream",
     "text": [
      "{'loss': 0.8147, 'grad_norm': 7.009759426116943, 'learning_rate': 8.467468393462844e-06, 'epoch': 1.73}\n"
     ]
    },
    {
     "name": "stderr",
     "output_type": "stream",
     "text": [
      " 58%|█████▊    | 1880/3243 [5:06:26<3:08:03,  8.28s/it]"
     ]
    },
    {
     "name": "stdout",
     "output_type": "stream",
     "text": [
      "{'loss': 0.8618, 'grad_norm': 8.795655250549316, 'learning_rate': 8.405797101449275e-06, 'epoch': 1.74}\n"
     ]
    },
    {
     "name": "stderr",
     "output_type": "stream",
     "text": [
      " 58%|█████▊    | 1890/3243 [5:07:49<3:06:20,  8.26s/it]"
     ]
    },
    {
     "name": "stdout",
     "output_type": "stream",
     "text": [
      "{'loss': 0.7424, 'grad_norm': 5.943448066711426, 'learning_rate': 8.344125809435708e-06, 'epoch': 1.75}\n"
     ]
    },
    {
     "name": "stderr",
     "output_type": "stream",
     "text": [
      " 59%|█████▊    | 1900/3243 [5:09:12<3:03:23,  8.19s/it]"
     ]
    },
    {
     "name": "stdout",
     "output_type": "stream",
     "text": [
      "{'loss': 0.7141, 'grad_norm': 6.011892318725586, 'learning_rate': 8.282454517422141e-06, 'epoch': 1.76}\n"
     ]
    },
    {
     "name": "stderr",
     "output_type": "stream",
     "text": [
      " 59%|█████▉    | 1910/3243 [5:10:36<3:06:16,  8.38s/it]"
     ]
    },
    {
     "name": "stdout",
     "output_type": "stream",
     "text": [
      "{'loss': 0.8412, 'grad_norm': 6.517746925354004, 'learning_rate': 8.220783225408574e-06, 'epoch': 1.77}\n"
     ]
    },
    {
     "name": "stderr",
     "output_type": "stream",
     "text": [
      " 59%|█████▉    | 1920/3243 [5:11:59<3:02:05,  8.26s/it]"
     ]
    },
    {
     "name": "stdout",
     "output_type": "stream",
     "text": [
      "{'loss': 0.8954, 'grad_norm': 8.811437606811523, 'learning_rate': 8.159111933395005e-06, 'epoch': 1.78}\n"
     ]
    },
    {
     "name": "stderr",
     "output_type": "stream",
     "text": [
      " 60%|█████▉    | 1930/3243 [5:13:23<3:03:53,  8.40s/it]"
     ]
    },
    {
     "name": "stdout",
     "output_type": "stream",
     "text": [
      "{'loss': 0.7855, 'grad_norm': 10.548059463500977, 'learning_rate': 8.097440641381438e-06, 'epoch': 1.79}\n"
     ]
    },
    {
     "name": "stderr",
     "output_type": "stream",
     "text": [
      " 60%|█████▉    | 1940/3243 [5:14:46<2:58:53,  8.24s/it]"
     ]
    },
    {
     "name": "stdout",
     "output_type": "stream",
     "text": [
      "{'loss': 0.7222, 'grad_norm': 8.170812606811523, 'learning_rate': 8.03576934936787e-06, 'epoch': 1.79}\n"
     ]
    },
    {
     "name": "stderr",
     "output_type": "stream",
     "text": [
      " 60%|██████    | 1950/3243 [5:16:09<2:58:51,  8.30s/it]"
     ]
    },
    {
     "name": "stdout",
     "output_type": "stream",
     "text": [
      "{'loss': 0.826, 'grad_norm': 9.255223274230957, 'learning_rate': 7.974098057354303e-06, 'epoch': 1.8}\n"
     ]
    },
    {
     "name": "stderr",
     "output_type": "stream",
     "text": [
      " 60%|██████    | 1960/3243 [6:14:35<182:49:55, 513.01s/it] "
     ]
    },
    {
     "name": "stdout",
     "output_type": "stream",
     "text": [
      "{'loss': 0.7466, 'grad_norm': 8.164468765258789, 'learning_rate': 7.912426765340735e-06, 'epoch': 1.81}\n"
     ]
    },
    {
     "name": "stderr",
     "output_type": "stream",
     "text": [
      " 61%|██████    | 1970/3243 [6:16:19<8:25:55, 23.85s/it]   "
     ]
    },
    {
     "name": "stdout",
     "output_type": "stream",
     "text": [
      "{'loss': 0.8785, 'grad_norm': 12.00171184539795, 'learning_rate': 7.850755473327167e-06, 'epoch': 1.82}\n"
     ]
    },
    {
     "name": "stderr",
     "output_type": "stream",
     "text": [
      " 61%|██████    | 1980/3243 [6:17:56<3:26:01,  9.79s/it]"
     ]
    },
    {
     "name": "stdout",
     "output_type": "stream",
     "text": [
      "{'loss': 0.9445, 'grad_norm': 5.520756244659424, 'learning_rate': 7.789084181313598e-06, 'epoch': 1.83}\n"
     ]
    },
    {
     "name": "stderr",
     "output_type": "stream",
     "text": [
      " 61%|██████▏   | 1990/3243 [6:19:28<3:11:47,  9.18s/it]"
     ]
    },
    {
     "name": "stdout",
     "output_type": "stream",
     "text": [
      "{'loss': 0.7294, 'grad_norm': 5.836824417114258, 'learning_rate': 7.727412889300031e-06, 'epoch': 1.84}\n"
     ]
    },
    {
     "name": "stderr",
     "output_type": "stream",
     "text": [
      " 62%|██████▏   | 2000/3243 [6:21:03<3:35:57, 10.42s/it]"
     ]
    },
    {
     "name": "stdout",
     "output_type": "stream",
     "text": [
      "{'loss': 0.7983, 'grad_norm': 8.362072944641113, 'learning_rate': 7.665741597286464e-06, 'epoch': 1.85}\n"
     ]
    },
    {
     "name": "stderr",
     "output_type": "stream",
     "text": [
      " 62%|██████▏   | 2010/3243 [6:22:39<3:09:39,  9.23s/it]"
     ]
    },
    {
     "name": "stdout",
     "output_type": "stream",
     "text": [
      "{'loss': 0.7706, 'grad_norm': 10.936583518981934, 'learning_rate': 7.604070305272896e-06, 'epoch': 1.86}\n"
     ]
    },
    {
     "name": "stderr",
     "output_type": "stream",
     "text": [
      " 62%|██████▏   | 2020/3243 [6:24:09<3:03:23,  9.00s/it]"
     ]
    },
    {
     "name": "stdout",
     "output_type": "stream",
     "text": [
      "{'loss': 0.8286, 'grad_norm': 6.204894065856934, 'learning_rate': 7.542399013259328e-06, 'epoch': 1.87}\n"
     ]
    },
    {
     "name": "stderr",
     "output_type": "stream",
     "text": [
      " 63%|██████▎   | 2030/3243 [6:25:39<3:01:14,  8.97s/it]"
     ]
    },
    {
     "name": "stdout",
     "output_type": "stream",
     "text": [
      "{'loss': 0.7346, 'grad_norm': 9.272188186645508, 'learning_rate': 7.480727721245761e-06, 'epoch': 1.88}\n"
     ]
    },
    {
     "name": "stderr",
     "output_type": "stream",
     "text": [
      " 63%|██████▎   | 2040/3243 [6:27:08<2:58:00,  8.88s/it]"
     ]
    },
    {
     "name": "stdout",
     "output_type": "stream",
     "text": [
      "{'loss': 0.7969, 'grad_norm': 11.038840293884277, 'learning_rate': 7.419056429232193e-06, 'epoch': 1.89}\n"
     ]
    },
    {
     "name": "stderr",
     "output_type": "stream",
     "text": [
      " 63%|██████▎   | 2050/3243 [6:28:38<2:58:24,  8.97s/it]"
     ]
    },
    {
     "name": "stdout",
     "output_type": "stream",
     "text": [
      "{'loss': 0.7398, 'grad_norm': 14.038978576660156, 'learning_rate': 7.357385137218626e-06, 'epoch': 1.9}\n"
     ]
    },
    {
     "name": "stderr",
     "output_type": "stream",
     "text": [
      " 64%|██████▎   | 2060/3243 [6:30:07<2:53:00,  8.77s/it]"
     ]
    },
    {
     "name": "stdout",
     "output_type": "stream",
     "text": [
      "{'loss': 0.6892, 'grad_norm': 6.802778720855713, 'learning_rate': 7.295713845205058e-06, 'epoch': 1.91}\n"
     ]
    },
    {
     "name": "stderr",
     "output_type": "stream",
     "text": [
      " 64%|██████▍   | 2070/3243 [6:31:39<3:01:10,  9.27s/it]"
     ]
    },
    {
     "name": "stdout",
     "output_type": "stream",
     "text": [
      "{'loss': 0.7727, 'grad_norm': 5.731940269470215, 'learning_rate': 7.234042553191491e-06, 'epoch': 1.91}\n"
     ]
    },
    {
     "name": "stderr",
     "output_type": "stream",
     "text": [
      " 64%|██████▍   | 2080/3243 [6:33:11<2:53:28,  8.95s/it]"
     ]
    },
    {
     "name": "stdout",
     "output_type": "stream",
     "text": [
      "{'loss': 0.8305, 'grad_norm': 9.25487995147705, 'learning_rate': 7.172371261177923e-06, 'epoch': 1.92}\n"
     ]
    },
    {
     "name": "stderr",
     "output_type": "stream",
     "text": [
      " 64%|██████▍   | 2090/3243 [6:34:46<3:08:48,  9.83s/it]"
     ]
    },
    {
     "name": "stdout",
     "output_type": "stream",
     "text": [
      "{'loss': 0.8409, 'grad_norm': 10.062543869018555, 'learning_rate': 7.110699969164354e-06, 'epoch': 1.93}\n"
     ]
    },
    {
     "name": "stderr",
     "output_type": "stream",
     "text": [
      " 65%|██████▍   | 2100/3243 [6:36:21<2:59:18,  9.41s/it]"
     ]
    },
    {
     "name": "stdout",
     "output_type": "stream",
     "text": [
      "{'loss': 0.753, 'grad_norm': 7.362149715423584, 'learning_rate': 7.049028677150787e-06, 'epoch': 1.94}\n"
     ]
    },
    {
     "name": "stderr",
     "output_type": "stream",
     "text": [
      " 65%|██████▌   | 2110/3243 [6:37:55<2:58:43,  9.46s/it]"
     ]
    },
    {
     "name": "stdout",
     "output_type": "stream",
     "text": [
      "{'loss': 0.7423, 'grad_norm': 5.973982810974121, 'learning_rate': 6.987357385137219e-06, 'epoch': 1.95}\n"
     ]
    },
    {
     "name": "stderr",
     "output_type": "stream",
     "text": [
      " 65%|██████▌   | 2120/3243 [6:39:32<3:01:11,  9.68s/it]"
     ]
    },
    {
     "name": "stdout",
     "output_type": "stream",
     "text": [
      "{'loss': 0.8206, 'grad_norm': 7.985396385192871, 'learning_rate': 6.9256860931236514e-06, 'epoch': 1.96}\n"
     ]
    },
    {
     "name": "stderr",
     "output_type": "stream",
     "text": [
      " 66%|██████▌   | 2130/3243 [6:41:07<2:57:22,  9.56s/it]"
     ]
    },
    {
     "name": "stdout",
     "output_type": "stream",
     "text": [
      "{'loss': 0.8563, 'grad_norm': 8.875699996948242, 'learning_rate': 6.8640148011100834e-06, 'epoch': 1.97}\n"
     ]
    },
    {
     "name": "stderr",
     "output_type": "stream",
     "text": [
      " 66%|██████▌   | 2140/3243 [6:42:43<2:55:00,  9.52s/it]"
     ]
    },
    {
     "name": "stdout",
     "output_type": "stream",
     "text": [
      "{'loss': 0.7679, 'grad_norm': 5.974417686462402, 'learning_rate': 6.802343509096516e-06, 'epoch': 1.98}\n"
     ]
    },
    {
     "name": "stderr",
     "output_type": "stream",
     "text": [
      " 66%|██████▋   | 2150/3243 [6:44:21<3:02:57, 10.04s/it]"
     ]
    },
    {
     "name": "stdout",
     "output_type": "stream",
     "text": [
      "{'loss': 0.7113, 'grad_norm': 6.135342121124268, 'learning_rate': 6.740672217082948e-06, 'epoch': 1.99}\n"
     ]
    },
    {
     "name": "stderr",
     "output_type": "stream",
     "text": [
      " 67%|██████▋   | 2160/3243 [6:46:03<3:01:05, 10.03s/it]"
     ]
    },
    {
     "name": "stdout",
     "output_type": "stream",
     "text": [
      "{'loss': 0.7445, 'grad_norm': 7.420351028442383, 'learning_rate': 6.679000925069381e-06, 'epoch': 2.0}\n"
     ]
    },
    {
     "name": "stderr",
     "output_type": "stream",
     "text": [
      "                                                       \n",
      " 67%|██████▋   | 2162/3243 [6:59:03<2:57:31,  9.85s/it]"
     ]
    },
    {
     "name": "stdout",
     "output_type": "stream",
     "text": [
      "{'eval_loss': 0.9004201292991638, 'eval_accuracy': 0.6234967622571693, 'eval_runtime': 760.1492, 'eval_samples_per_second': 5.688, 'eval_steps_per_second': 0.357, 'epoch': 2.0}\n"
     ]
    },
    {
     "name": "stderr",
     "output_type": "stream",
     "text": [
      " 67%|██████▋   | 2170/3243 [7:00:24<8:28:57, 28.46s/it]  "
     ]
    },
    {
     "name": "stdout",
     "output_type": "stream",
     "text": [
      "{'loss': 0.6096, 'grad_norm': 7.662515163421631, 'learning_rate': 6.617329633055813e-06, 'epoch': 2.01}\n"
     ]
    },
    {
     "name": "stderr",
     "output_type": "stream",
     "text": [
      " 67%|██████▋   | 2180/3243 [7:02:01<2:59:35, 10.14s/it]"
     ]
    },
    {
     "name": "stdout",
     "output_type": "stream",
     "text": [
      "{'loss': 0.747, 'grad_norm': 6.795994758605957, 'learning_rate': 6.555658341042246e-06, 'epoch': 2.02}\n"
     ]
    },
    {
     "name": "stderr",
     "output_type": "stream",
     "text": [
      " 68%|██████▊   | 2190/3243 [7:03:30<2:37:15,  8.96s/it]"
     ]
    },
    {
     "name": "stdout",
     "output_type": "stream",
     "text": [
      "{'loss': 0.6632, 'grad_norm': 4.288265228271484, 'learning_rate': 6.493987049028677e-06, 'epoch': 2.03}\n"
     ]
    },
    {
     "name": "stderr",
     "output_type": "stream",
     "text": [
      " 68%|██████▊   | 2200/3243 [7:05:05<2:45:29,  9.52s/it]"
     ]
    },
    {
     "name": "stdout",
     "output_type": "stream",
     "text": [
      "{'loss': 0.6712, 'grad_norm': 7.498957633972168, 'learning_rate': 6.43231575701511e-06, 'epoch': 2.04}\n"
     ]
    },
    {
     "name": "stderr",
     "output_type": "stream",
     "text": [
      " 68%|██████▊   | 2210/3243 [7:06:39<2:42:22,  9.43s/it]"
     ]
    },
    {
     "name": "stdout",
     "output_type": "stream",
     "text": [
      "{'loss': 0.7866, 'grad_norm': 6.6457343101501465, 'learning_rate': 6.370644465001542e-06, 'epoch': 2.04}\n"
     ]
    },
    {
     "name": "stderr",
     "output_type": "stream",
     "text": [
      " 68%|██████▊   | 2220/3243 [7:08:15<2:43:09,  9.57s/it]"
     ]
    },
    {
     "name": "stdout",
     "output_type": "stream",
     "text": [
      "{'loss': 0.6356, 'grad_norm': 5.8922200202941895, 'learning_rate': 6.308973172987975e-06, 'epoch': 2.05}\n"
     ]
    },
    {
     "name": "stderr",
     "output_type": "stream",
     "text": [
      " 69%|██████▉   | 2230/3243 [7:09:53<2:46:08,  9.84s/it]"
     ]
    },
    {
     "name": "stdout",
     "output_type": "stream",
     "text": [
      "{'loss': 0.693, 'grad_norm': 11.303289413452148, 'learning_rate': 6.247301880974407e-06, 'epoch': 2.06}\n"
     ]
    },
    {
     "name": "stderr",
     "output_type": "stream",
     "text": [
      " 69%|██████▉   | 2240/3243 [7:11:28<2:39:03,  9.52s/it]"
     ]
    },
    {
     "name": "stdout",
     "output_type": "stream",
     "text": [
      "{'loss': 0.7185, 'grad_norm': 6.036162853240967, 'learning_rate': 6.1856305889608396e-06, 'epoch': 2.07}\n"
     ]
    },
    {
     "name": "stderr",
     "output_type": "stream",
     "text": [
      " 69%|██████▉   | 2250/3243 [7:13:02<2:35:57,  9.42s/it]"
     ]
    },
    {
     "name": "stdout",
     "output_type": "stream",
     "text": [
      "{'loss': 0.6548, 'grad_norm': 6.969326496124268, 'learning_rate': 6.1239592969472716e-06, 'epoch': 2.08}\n"
     ]
    },
    {
     "name": "stderr",
     "output_type": "stream",
     "text": [
      " 70%|██████▉   | 2260/3243 [7:14:45<2:56:48, 10.79s/it]"
     ]
    },
    {
     "name": "stdout",
     "output_type": "stream",
     "text": [
      "{'loss': 0.7706, 'grad_norm': 5.712831497192383, 'learning_rate': 6.062288004933704e-06, 'epoch': 2.09}\n"
     ]
    },
    {
     "name": "stderr",
     "output_type": "stream",
     "text": [
      " 70%|██████▉   | 2270/3243 [7:16:25<2:39:22,  9.83s/it]"
     ]
    },
    {
     "name": "stdout",
     "output_type": "stream",
     "text": [
      "{'loss': 0.5829, 'grad_norm': 9.935997009277344, 'learning_rate': 6.000616712920136e-06, 'epoch': 2.1}\n"
     ]
    },
    {
     "name": "stderr",
     "output_type": "stream",
     "text": [
      " 70%|███████   | 2280/3243 [7:18:03<2:37:53,  9.84s/it]"
     ]
    },
    {
     "name": "stdout",
     "output_type": "stream",
     "text": [
      "{'loss': 0.7675, 'grad_norm': 9.694010734558105, 'learning_rate': 5.938945420906569e-06, 'epoch': 2.11}\n"
     ]
    },
    {
     "name": "stderr",
     "output_type": "stream",
     "text": [
      " 71%|███████   | 2290/3243 [7:19:44<2:38:26,  9.98s/it]"
     ]
    },
    {
     "name": "stdout",
     "output_type": "stream",
     "text": [
      "{'loss': 0.71, 'grad_norm': 6.618323802947998, 'learning_rate': 5.877274128893001e-06, 'epoch': 2.12}\n"
     ]
    },
    {
     "name": "stderr",
     "output_type": "stream",
     "text": [
      " 71%|███████   | 2300/3243 [7:21:21<2:33:25,  9.76s/it]"
     ]
    },
    {
     "name": "stdout",
     "output_type": "stream",
     "text": [
      "{'loss': 0.7251, 'grad_norm': 7.2857184410095215, 'learning_rate': 5.815602836879432e-06, 'epoch': 2.13}\n"
     ]
    },
    {
     "name": "stderr",
     "output_type": "stream",
     "text": [
      " 71%|███████   | 2310/3243 [7:22:57<2:28:20,  9.54s/it]"
     ]
    },
    {
     "name": "stdout",
     "output_type": "stream",
     "text": [
      "{'loss': 0.602, 'grad_norm': 5.21170711517334, 'learning_rate': 5.753931544865865e-06, 'epoch': 2.14}\n"
     ]
    },
    {
     "name": "stderr",
     "output_type": "stream",
     "text": [
      " 72%|███████▏  | 2320/3243 [7:24:33<2:28:29,  9.65s/it]"
     ]
    },
    {
     "name": "stdout",
     "output_type": "stream",
     "text": [
      "{'loss': 0.6592, 'grad_norm': 10.768406867980957, 'learning_rate': 5.692260252852297e-06, 'epoch': 2.15}\n"
     ]
    },
    {
     "name": "stderr",
     "output_type": "stream",
     "text": [
      " 72%|███████▏  | 2330/3243 [7:26:08<2:24:49,  9.52s/it]"
     ]
    },
    {
     "name": "stdout",
     "output_type": "stream",
     "text": [
      "{'loss': 0.6732, 'grad_norm': 7.063841819763184, 'learning_rate': 5.63058896083873e-06, 'epoch': 2.16}\n"
     ]
    },
    {
     "name": "stderr",
     "output_type": "stream",
     "text": [
      " 72%|███████▏  | 2340/3243 [7:27:43<2:22:21,  9.46s/it]"
     ]
    },
    {
     "name": "stdout",
     "output_type": "stream",
     "text": [
      "{'loss': 0.69, 'grad_norm': 13.669136047363281, 'learning_rate': 5.568917668825162e-06, 'epoch': 2.16}\n"
     ]
    },
    {
     "name": "stderr",
     "output_type": "stream",
     "text": [
      " 72%|███████▏  | 2350/3243 [7:29:18<2:20:10,  9.42s/it]"
     ]
    },
    {
     "name": "stdout",
     "output_type": "stream",
     "text": [
      "{'loss': 0.7064, 'grad_norm': 7.365535259246826, 'learning_rate': 5.507246376811595e-06, 'epoch': 2.17}\n"
     ]
    },
    {
     "name": "stderr",
     "output_type": "stream",
     "text": [
      " 73%|███████▎  | 2360/3243 [7:30:54<2:19:29,  9.48s/it]"
     ]
    },
    {
     "name": "stdout",
     "output_type": "stream",
     "text": [
      "{'loss': 0.6956, 'grad_norm': 8.776651382446289, 'learning_rate': 5.445575084798027e-06, 'epoch': 2.18}\n"
     ]
    },
    {
     "name": "stderr",
     "output_type": "stream",
     "text": [
      " 73%|███████▎  | 2370/3243 [7:32:29<2:16:59,  9.41s/it]"
     ]
    },
    {
     "name": "stdout",
     "output_type": "stream",
     "text": [
      "{'loss': 0.6909, 'grad_norm': 9.559277534484863, 'learning_rate': 5.38390379278446e-06, 'epoch': 2.19}\n"
     ]
    },
    {
     "name": "stderr",
     "output_type": "stream",
     "text": [
      " 73%|███████▎  | 2380/3243 [7:34:03<2:15:38,  9.43s/it]"
     ]
    },
    {
     "name": "stdout",
     "output_type": "stream",
     "text": [
      "{'loss': 0.7741, 'grad_norm': 4.8878302574157715, 'learning_rate': 5.322232500770892e-06, 'epoch': 2.2}\n"
     ]
    },
    {
     "name": "stderr",
     "output_type": "stream",
     "text": [
      " 74%|███████▎  | 2390/3243 [7:35:42<2:17:33,  9.68s/it]"
     ]
    },
    {
     "name": "stdout",
     "output_type": "stream",
     "text": [
      "{'loss': 0.674, 'grad_norm': 8.258636474609375, 'learning_rate': 5.2605612087573245e-06, 'epoch': 2.21}\n"
     ]
    },
    {
     "name": "stderr",
     "output_type": "stream",
     "text": [
      " 74%|███████▍  | 2400/3243 [7:37:17<2:12:29,  9.43s/it]"
     ]
    },
    {
     "name": "stdout",
     "output_type": "stream",
     "text": [
      "{'loss': 0.7233, 'grad_norm': 11.800334930419922, 'learning_rate': 5.1988899167437565e-06, 'epoch': 2.22}\n"
     ]
    },
    {
     "name": "stderr",
     "output_type": "stream",
     "text": [
      " 74%|███████▍  | 2410/3243 [7:38:52<2:12:08,  9.52s/it]"
     ]
    },
    {
     "name": "stdout",
     "output_type": "stream",
     "text": [
      "{'loss': 0.7404, 'grad_norm': 7.035602569580078, 'learning_rate': 5.137218624730188e-06, 'epoch': 2.23}\n"
     ]
    },
    {
     "name": "stderr",
     "output_type": "stream",
     "text": [
      " 75%|███████▍  | 2420/3243 [7:40:25<2:07:03,  9.26s/it]"
     ]
    },
    {
     "name": "stdout",
     "output_type": "stream",
     "text": [
      "{'loss': 0.6292, 'grad_norm': 5.130312919616699, 'learning_rate': 5.0755473327166205e-06, 'epoch': 2.24}\n"
     ]
    },
    {
     "name": "stderr",
     "output_type": "stream",
     "text": [
      " 75%|███████▍  | 2430/3243 [7:41:59<2:06:27,  9.33s/it]"
     ]
    },
    {
     "name": "stdout",
     "output_type": "stream",
     "text": [
      "{'loss': 0.664, 'grad_norm': 7.435607433319092, 'learning_rate': 5.013876040703053e-06, 'epoch': 2.25}\n"
     ]
    },
    {
     "name": "stderr",
     "output_type": "stream",
     "text": [
      " 75%|███████▌  | 2440/3243 [7:43:33<2:06:21,  9.44s/it]"
     ]
    },
    {
     "name": "stdout",
     "output_type": "stream",
     "text": [
      "{'loss': 0.7509, 'grad_norm': 8.426426887512207, 'learning_rate': 4.952204748689485e-06, 'epoch': 2.26}\n"
     ]
    },
    {
     "name": "stderr",
     "output_type": "stream",
     "text": [
      " 76%|███████▌  | 2450/3243 [7:45:11<2:07:04,  9.61s/it]"
     ]
    },
    {
     "name": "stdout",
     "output_type": "stream",
     "text": [
      "{'loss': 0.6308, 'grad_norm': 14.263533592224121, 'learning_rate': 4.890533456675918e-06, 'epoch': 2.27}\n"
     ]
    },
    {
     "name": "stderr",
     "output_type": "stream",
     "text": [
      " 76%|███████▌  | 2460/3243 [7:46:43<2:01:59,  9.35s/it]"
     ]
    },
    {
     "name": "stdout",
     "output_type": "stream",
     "text": [
      "{'loss': 0.6529, 'grad_norm': 6.977503299713135, 'learning_rate': 4.82886216466235e-06, 'epoch': 2.28}\n"
     ]
    },
    {
     "name": "stderr",
     "output_type": "stream",
     "text": [
      " 76%|███████▌  | 2470/3243 [7:48:18<2:02:13,  9.49s/it]"
     ]
    },
    {
     "name": "stdout",
     "output_type": "stream",
     "text": [
      "{'loss': 0.5554, 'grad_norm': 7.785982608795166, 'learning_rate': 4.767190872648783e-06, 'epoch': 2.28}\n"
     ]
    },
    {
     "name": "stderr",
     "output_type": "stream",
     "text": [
      " 76%|███████▋  | 2480/3243 [7:49:53<1:59:45,  9.42s/it]"
     ]
    },
    {
     "name": "stdout",
     "output_type": "stream",
     "text": [
      "{'loss': 0.6382, 'grad_norm': 6.7307586669921875, 'learning_rate': 4.705519580635215e-06, 'epoch': 2.29}\n"
     ]
    },
    {
     "name": "stderr",
     "output_type": "stream",
     "text": [
      " 77%|███████▋  | 2490/3243 [7:51:26<1:56:42,  9.30s/it]"
     ]
    },
    {
     "name": "stdout",
     "output_type": "stream",
     "text": [
      "{'loss': 0.6381, 'grad_norm': 8.675603866577148, 'learning_rate': 4.643848288621647e-06, 'epoch': 2.3}\n"
     ]
    },
    {
     "name": "stderr",
     "output_type": "stream",
     "text": [
      " 77%|███████▋  | 2500/3243 [7:53:00<1:56:58,  9.45s/it]"
     ]
    },
    {
     "name": "stdout",
     "output_type": "stream",
     "text": [
      "{'loss': 0.7155, 'grad_norm': 11.021889686584473, 'learning_rate': 4.582176996608079e-06, 'epoch': 2.31}\n"
     ]
    },
    {
     "name": "stderr",
     "output_type": "stream",
     "text": [
      " 77%|███████▋  | 2510/3243 [7:54:35<1:56:43,  9.55s/it]"
     ]
    },
    {
     "name": "stdout",
     "output_type": "stream",
     "text": [
      "{'loss': 0.6728, 'grad_norm': 11.458466529846191, 'learning_rate': 4.520505704594512e-06, 'epoch': 2.32}\n"
     ]
    },
    {
     "name": "stderr",
     "output_type": "stream",
     "text": [
      " 78%|███████▊  | 2520/3243 [7:56:09<1:53:28,  9.42s/it]"
     ]
    },
    {
     "name": "stdout",
     "output_type": "stream",
     "text": [
      "{'loss': 0.6621, 'grad_norm': 7.302751064300537, 'learning_rate': 4.458834412580944e-06, 'epoch': 2.33}\n"
     ]
    },
    {
     "name": "stderr",
     "output_type": "stream",
     "text": [
      " 78%|███████▊  | 2530/3243 [7:57:44<1:53:10,  9.52s/it]"
     ]
    },
    {
     "name": "stdout",
     "output_type": "stream",
     "text": [
      "{'loss': 0.6319, 'grad_norm': 6.48188591003418, 'learning_rate': 4.397163120567377e-06, 'epoch': 2.34}\n"
     ]
    },
    {
     "name": "stderr",
     "output_type": "stream",
     "text": [
      " 78%|███████▊  | 2540/3243 [7:59:20<1:51:58,  9.56s/it]"
     ]
    },
    {
     "name": "stdout",
     "output_type": "stream",
     "text": [
      "{'loss': 0.7247, 'grad_norm': 10.042302131652832, 'learning_rate': 4.335491828553809e-06, 'epoch': 2.35}\n"
     ]
    },
    {
     "name": "stderr",
     "output_type": "stream",
     "text": [
      " 79%|███████▊  | 2550/3243 [8:00:55<1:49:14,  9.46s/it]"
     ]
    },
    {
     "name": "stdout",
     "output_type": "stream",
     "text": [
      "{'loss': 0.6668, 'grad_norm': 10.343477249145508, 'learning_rate': 4.273820536540241e-06, 'epoch': 2.36}\n"
     ]
    },
    {
     "name": "stderr",
     "output_type": "stream",
     "text": [
      " 79%|███████▉  | 2560/3243 [8:02:30<1:47:29,  9.44s/it]"
     ]
    },
    {
     "name": "stdout",
     "output_type": "stream",
     "text": [
      "{'loss': 0.6603, 'grad_norm': 9.450690269470215, 'learning_rate': 4.2121492445266734e-06, 'epoch': 2.37}\n"
     ]
    },
    {
     "name": "stderr",
     "output_type": "stream",
     "text": [
      " 79%|███████▉  | 2570/3243 [8:04:05<1:46:54,  9.53s/it]"
     ]
    },
    {
     "name": "stdout",
     "output_type": "stream",
     "text": [
      "{'loss': 0.7836, 'grad_norm': 8.403566360473633, 'learning_rate': 4.150477952513105e-06, 'epoch': 2.38}\n"
     ]
    },
    {
     "name": "stderr",
     "output_type": "stream",
     "text": [
      " 80%|███████▉  | 2580/3243 [8:05:42<1:46:38,  9.65s/it]"
     ]
    },
    {
     "name": "stdout",
     "output_type": "stream",
     "text": [
      "{'loss': 0.7402, 'grad_norm': 6.456771373748779, 'learning_rate': 4.088806660499538e-06, 'epoch': 2.39}\n"
     ]
    },
    {
     "name": "stderr",
     "output_type": "stream",
     "text": [
      " 80%|███████▉  | 2590/3243 [8:07:16<1:42:57,  9.46s/it]"
     ]
    },
    {
     "name": "stdout",
     "output_type": "stream",
     "text": [
      "{'loss': 0.7378, 'grad_norm': 5.688733100891113, 'learning_rate': 4.02713536848597e-06, 'epoch': 2.4}\n"
     ]
    },
    {
     "name": "stderr",
     "output_type": "stream",
     "text": [
      " 80%|████████  | 2600/3243 [8:08:50<1:40:54,  9.42s/it]"
     ]
    },
    {
     "name": "stdout",
     "output_type": "stream",
     "text": [
      "{'loss': 0.7461, 'grad_norm': 11.305476188659668, 'learning_rate': 3.965464076472402e-06, 'epoch': 2.41}\n"
     ]
    },
    {
     "name": "stderr",
     "output_type": "stream",
     "text": [
      " 80%|████████  | 2610/3243 [8:10:21<1:32:19,  8.75s/it]"
     ]
    },
    {
     "name": "stdout",
     "output_type": "stream",
     "text": [
      "{'loss': 0.69, 'grad_norm': 11.422812461853027, 'learning_rate': 3.903792784458835e-06, 'epoch': 2.41}\n"
     ]
    },
    {
     "name": "stderr",
     "output_type": "stream",
     "text": [
      " 81%|████████  | 2620/3243 [8:11:52<1:35:08,  9.16s/it]"
     ]
    },
    {
     "name": "stdout",
     "output_type": "stream",
     "text": [
      "{'loss': 0.5771, 'grad_norm': 9.043851852416992, 'learning_rate': 3.842121492445267e-06, 'epoch': 2.42}\n"
     ]
    },
    {
     "name": "stderr",
     "output_type": "stream",
     "text": [
      " 81%|████████  | 2630/3243 [8:13:26<1:35:42,  9.37s/it]"
     ]
    },
    {
     "name": "stdout",
     "output_type": "stream",
     "text": [
      "{'loss': 0.6718, 'grad_norm': 6.592765808105469, 'learning_rate': 3.7804502004316995e-06, 'epoch': 2.43}\n"
     ]
    },
    {
     "name": "stderr",
     "output_type": "stream",
     "text": [
      " 81%|████████▏ | 2640/3243 [8:15:07<1:39:47,  9.93s/it]"
     ]
    },
    {
     "name": "stdout",
     "output_type": "stream",
     "text": [
      "{'loss': 0.6602, 'grad_norm': 6.078704833984375, 'learning_rate': 3.718778908418132e-06, 'epoch': 2.44}\n"
     ]
    },
    {
     "name": "stderr",
     "output_type": "stream",
     "text": [
      " 82%|████████▏ | 2650/3243 [8:16:41<1:33:30,  9.46s/it]"
     ]
    },
    {
     "name": "stdout",
     "output_type": "stream",
     "text": [
      "{'loss': 0.7276, 'grad_norm': 8.233205795288086, 'learning_rate': 3.657107616404564e-06, 'epoch': 2.45}\n"
     ]
    },
    {
     "name": "stderr",
     "output_type": "stream",
     "text": [
      " 82%|████████▏ | 2660/3243 [8:18:14<1:26:49,  8.94s/it]"
     ]
    },
    {
     "name": "stdout",
     "output_type": "stream",
     "text": [
      "{'loss': 0.6836, 'grad_norm': 6.300256729125977, 'learning_rate': 3.5954363243909963e-06, 'epoch': 2.46}\n"
     ]
    },
    {
     "name": "stderr",
     "output_type": "stream",
     "text": [
      " 82%|████████▏ | 2670/3243 [8:19:42<1:24:33,  8.86s/it]"
     ]
    },
    {
     "name": "stdout",
     "output_type": "stream",
     "text": [
      "{'loss': 0.7815, 'grad_norm': 9.071284294128418, 'learning_rate': 3.5337650323774287e-06, 'epoch': 2.47}\n"
     ]
    },
    {
     "name": "stderr",
     "output_type": "stream",
     "text": [
      " 83%|████████▎ | 2680/3243 [8:21:10<1:22:17,  8.77s/it]"
     ]
    },
    {
     "name": "stdout",
     "output_type": "stream",
     "text": [
      "{'loss': 0.6557, 'grad_norm': 11.761946678161621, 'learning_rate': 3.472093740363861e-06, 'epoch': 2.48}\n"
     ]
    },
    {
     "name": "stderr",
     "output_type": "stream",
     "text": [
      " 83%|████████▎ | 2690/3243 [8:22:40<1:24:04,  9.12s/it]"
     ]
    },
    {
     "name": "stdout",
     "output_type": "stream",
     "text": [
      "{'loss': 0.6632, 'grad_norm': 10.98990535736084, 'learning_rate': 3.4104224483502935e-06, 'epoch': 2.49}\n"
     ]
    },
    {
     "name": "stderr",
     "output_type": "stream",
     "text": [
      " 83%|████████▎ | 2700/3243 [8:24:09<1:19:47,  8.82s/it]"
     ]
    },
    {
     "name": "stdout",
     "output_type": "stream",
     "text": [
      "{'loss': 0.6013, 'grad_norm': 17.125524520874023, 'learning_rate': 3.348751156336725e-06, 'epoch': 2.5}\n"
     ]
    },
    {
     "name": "stderr",
     "output_type": "stream",
     "text": [
      " 84%|████████▎ | 2710/3243 [8:25:37<1:18:14,  8.81s/it]"
     ]
    },
    {
     "name": "stdout",
     "output_type": "stream",
     "text": [
      "{'loss': 0.6869, 'grad_norm': 9.739131927490234, 'learning_rate': 3.2870798643231575e-06, 'epoch': 2.51}\n"
     ]
    },
    {
     "name": "stderr",
     "output_type": "stream",
     "text": [
      " 84%|████████▍ | 2720/3243 [8:27:13<1:35:03, 10.91s/it]"
     ]
    },
    {
     "name": "stdout",
     "output_type": "stream",
     "text": [
      "{'loss': 0.7175, 'grad_norm': 9.869319915771484, 'learning_rate': 3.22540857230959e-06, 'epoch': 2.52}\n"
     ]
    },
    {
     "name": "stderr",
     "output_type": "stream",
     "text": [
      " 84%|████████▍ | 2730/3243 [8:28:50<1:25:36, 10.01s/it]"
     ]
    },
    {
     "name": "stdout",
     "output_type": "stream",
     "text": [
      "{'loss': 0.6807, 'grad_norm': 15.538623809814453, 'learning_rate': 3.1637372802960224e-06, 'epoch': 2.53}\n"
     ]
    },
    {
     "name": "stderr",
     "output_type": "stream",
     "text": [
      " 84%|████████▍ | 2740/3243 [8:30:34<1:20:57,  9.66s/it]"
     ]
    },
    {
     "name": "stdout",
     "output_type": "stream",
     "text": [
      "{'loss': 0.6915, 'grad_norm': 11.364883422851562, 'learning_rate': 3.1020659882824548e-06, 'epoch': 2.53}\n"
     ]
    },
    {
     "name": "stderr",
     "output_type": "stream",
     "text": [
      " 85%|████████▍ | 2750/3243 [8:32:08<1:15:31,  9.19s/it]"
     ]
    },
    {
     "name": "stdout",
     "output_type": "stream",
     "text": [
      "{'loss': 0.6121, 'grad_norm': 7.951296806335449, 'learning_rate': 3.0403946962688868e-06, 'epoch': 2.54}\n"
     ]
    },
    {
     "name": "stderr",
     "output_type": "stream",
     "text": [
      " 85%|████████▌ | 2760/3243 [8:33:34<1:09:10,  8.59s/it]"
     ]
    },
    {
     "name": "stdout",
     "output_type": "stream",
     "text": [
      "{'loss': 0.681, 'grad_norm': 4.053595066070557, 'learning_rate': 2.978723404255319e-06, 'epoch': 2.55}\n"
     ]
    },
    {
     "name": "stderr",
     "output_type": "stream",
     "text": [
      " 85%|████████▌ | 2770/3243 [8:35:05<1:11:04,  9.02s/it]"
     ]
    },
    {
     "name": "stdout",
     "output_type": "stream",
     "text": [
      "{'loss': 0.6518, 'grad_norm': 8.051963806152344, 'learning_rate': 2.9170521122417516e-06, 'epoch': 2.56}\n"
     ]
    },
    {
     "name": "stderr",
     "output_type": "stream",
     "text": [
      " 86%|████████▌ | 2780/3243 [8:36:31<1:06:32,  8.62s/it]"
     ]
    },
    {
     "name": "stdout",
     "output_type": "stream",
     "text": [
      "{'loss': 0.6809, 'grad_norm': 6.665552139282227, 'learning_rate': 2.855380820228184e-06, 'epoch': 2.57}\n"
     ]
    },
    {
     "name": "stderr",
     "output_type": "stream",
     "text": [
      " 86%|████████▌ | 2790/3243 [8:37:57<1:04:54,  8.60s/it]"
     ]
    },
    {
     "name": "stdout",
     "output_type": "stream",
     "text": [
      "{'loss': 0.7079, 'grad_norm': 8.380072593688965, 'learning_rate': 2.7937095282146164e-06, 'epoch': 2.58}\n"
     ]
    },
    {
     "name": "stderr",
     "output_type": "stream",
     "text": [
      " 86%|████████▋ | 2800/3243 [8:39:23<1:03:47,  8.64s/it]"
     ]
    },
    {
     "name": "stdout",
     "output_type": "stream",
     "text": [
      "{'loss': 0.6023, 'grad_norm': 8.723342895507812, 'learning_rate': 2.732038236201049e-06, 'epoch': 2.59}\n"
     ]
    },
    {
     "name": "stderr",
     "output_type": "stream",
     "text": [
      " 87%|████████▋ | 2810/3243 [8:40:51<1:02:43,  8.69s/it]"
     ]
    },
    {
     "name": "stdout",
     "output_type": "stream",
     "text": [
      "{'loss': 0.6656, 'grad_norm': 10.942076683044434, 'learning_rate': 2.670366944187481e-06, 'epoch': 2.6}\n"
     ]
    },
    {
     "name": "stderr",
     "output_type": "stream",
     "text": [
      " 87%|████████▋ | 2820/3243 [8:42:18<1:00:46,  8.62s/it]"
     ]
    },
    {
     "name": "stdout",
     "output_type": "stream",
     "text": [
      "{'loss': 0.7282, 'grad_norm': 6.312028884887695, 'learning_rate': 2.6086956521739132e-06, 'epoch': 2.61}\n"
     ]
    },
    {
     "name": "stderr",
     "output_type": "stream",
     "text": [
      " 87%|████████▋ | 2830/3243 [8:43:45<59:47,  8.69s/it]  "
     ]
    },
    {
     "name": "stdout",
     "output_type": "stream",
     "text": [
      "{'loss': 0.6483, 'grad_norm': 6.211795806884766, 'learning_rate': 2.5470243601603457e-06, 'epoch': 2.62}\n"
     ]
    },
    {
     "name": "stderr",
     "output_type": "stream",
     "text": [
      " 88%|████████▊ | 2840/3243 [8:45:10<56:05,  8.35s/it]"
     ]
    },
    {
     "name": "stdout",
     "output_type": "stream",
     "text": [
      "{'loss': 0.6483, 'grad_norm': 10.888041496276855, 'learning_rate': 2.485353068146778e-06, 'epoch': 2.63}\n"
     ]
    },
    {
     "name": "stderr",
     "output_type": "stream",
     "text": [
      " 88%|████████▊ | 2850/3243 [8:46:32<53:07,  8.11s/it]"
     ]
    },
    {
     "name": "stdout",
     "output_type": "stream",
     "text": [
      "{'loss': 0.7174, 'grad_norm': 11.92020320892334, 'learning_rate': 2.42368177613321e-06, 'epoch': 2.64}\n"
     ]
    },
    {
     "name": "stderr",
     "output_type": "stream",
     "text": [
      " 88%|████████▊ | 2860/3243 [8:47:53<51:24,  8.05s/it]"
     ]
    },
    {
     "name": "stdout",
     "output_type": "stream",
     "text": [
      "{'loss': 0.6182, 'grad_norm': 7.124375820159912, 'learning_rate': 2.3620104841196425e-06, 'epoch': 2.65}\n"
     ]
    },
    {
     "name": "stderr",
     "output_type": "stream",
     "text": [
      " 88%|████████▊ | 2870/3243 [8:49:13<49:39,  7.99s/it]"
     ]
    },
    {
     "name": "stdout",
     "output_type": "stream",
     "text": [
      "{'loss': 0.6294, 'grad_norm': 7.4056243896484375, 'learning_rate': 2.300339192106075e-06, 'epoch': 2.65}\n"
     ]
    },
    {
     "name": "stderr",
     "output_type": "stream",
     "text": [
      " 89%|████████▉ | 2880/3243 [8:50:34<48:47,  8.07s/it]"
     ]
    },
    {
     "name": "stdout",
     "output_type": "stream",
     "text": [
      "{'loss': 0.6418, 'grad_norm': 10.557258605957031, 'learning_rate': 2.2386679000925073e-06, 'epoch': 2.66}\n"
     ]
    },
    {
     "name": "stderr",
     "output_type": "stream",
     "text": [
      " 89%|████████▉ | 2890/3243 [8:51:55<47:14,  8.03s/it]"
     ]
    },
    {
     "name": "stdout",
     "output_type": "stream",
     "text": [
      "{'loss': 0.7216, 'grad_norm': 6.779254913330078, 'learning_rate': 2.1769966080789397e-06, 'epoch': 2.67}\n"
     ]
    },
    {
     "name": "stderr",
     "output_type": "stream",
     "text": [
      " 89%|████████▉ | 2900/3243 [8:53:16<45:52,  8.03s/it]"
     ]
    },
    {
     "name": "stdout",
     "output_type": "stream",
     "text": [
      "{'loss': 0.7031, 'grad_norm': 7.967456817626953, 'learning_rate': 2.1153253160653717e-06, 'epoch': 2.68}\n"
     ]
    },
    {
     "name": "stderr",
     "output_type": "stream",
     "text": [
      " 90%|████████▉ | 2910/3243 [8:54:37<45:26,  8.19s/it]"
     ]
    },
    {
     "name": "stdout",
     "output_type": "stream",
     "text": [
      "{'loss': 0.8507, 'grad_norm': 11.825400352478027, 'learning_rate': 2.053654024051804e-06, 'epoch': 2.69}\n"
     ]
    },
    {
     "name": "stderr",
     "output_type": "stream",
     "text": [
      " 90%|█████████ | 2920/3243 [8:55:59<44:21,  8.24s/it]"
     ]
    },
    {
     "name": "stdout",
     "output_type": "stream",
     "text": [
      "{'loss': 0.6723, 'grad_norm': 10.780137062072754, 'learning_rate': 1.9919827320382365e-06, 'epoch': 2.7}\n"
     ]
    },
    {
     "name": "stderr",
     "output_type": "stream",
     "text": [
      " 90%|█████████ | 2930/3243 [8:57:24<46:16,  8.87s/it]"
     ]
    },
    {
     "name": "stdout",
     "output_type": "stream",
     "text": [
      "{'loss': 0.6002, 'grad_norm': 8.896589279174805, 'learning_rate': 1.9303114400246685e-06, 'epoch': 2.71}\n"
     ]
    },
    {
     "name": "stderr",
     "output_type": "stream",
     "text": [
      " 91%|█████████ | 2940/3243 [8:58:53<44:38,  8.84s/it]"
     ]
    },
    {
     "name": "stdout",
     "output_type": "stream",
     "text": [
      "{'loss': 0.6343, 'grad_norm': 11.735705375671387, 'learning_rate': 1.8686401480111012e-06, 'epoch': 2.72}\n"
     ]
    },
    {
     "name": "stderr",
     "output_type": "stream",
     "text": [
      " 91%|█████████ | 2950/3243 [9:00:25<45:40,  9.35s/it]"
     ]
    },
    {
     "name": "stdout",
     "output_type": "stream",
     "text": [
      "{'loss': 0.637, 'grad_norm': 8.091209411621094, 'learning_rate': 1.8069688559975331e-06, 'epoch': 2.73}\n"
     ]
    },
    {
     "name": "stderr",
     "output_type": "stream",
     "text": [
      " 91%|█████████▏| 2960/3243 [9:01:58<44:14,  9.38s/it]"
     ]
    },
    {
     "name": "stdout",
     "output_type": "stream",
     "text": [
      "{'loss': 0.7511, 'grad_norm': 7.16840934753418, 'learning_rate': 1.7452975639839656e-06, 'epoch': 2.74}\n"
     ]
    },
    {
     "name": "stderr",
     "output_type": "stream",
     "text": [
      " 92%|█████████▏| 2970/3243 [9:03:33<42:07,  9.26s/it]"
     ]
    },
    {
     "name": "stdout",
     "output_type": "stream",
     "text": [
      "{'loss': 0.6611, 'grad_norm': 10.725958824157715, 'learning_rate': 1.683626271970398e-06, 'epoch': 2.75}\n"
     ]
    },
    {
     "name": "stderr",
     "output_type": "stream",
     "text": [
      " 92%|█████████▏| 2980/3243 [9:05:02<40:55,  9.33s/it]"
     ]
    },
    {
     "name": "stdout",
     "output_type": "stream",
     "text": [
      "{'loss': 0.717, 'grad_norm': 7.654234409332275, 'learning_rate': 1.6219549799568302e-06, 'epoch': 2.76}\n"
     ]
    },
    {
     "name": "stderr",
     "output_type": "stream",
     "text": [
      " 92%|█████████▏| 2990/3243 [9:06:37<39:32,  9.38s/it]"
     ]
    },
    {
     "name": "stdout",
     "output_type": "stream",
     "text": [
      "{'loss': 0.5863, 'grad_norm': 5.888777256011963, 'learning_rate': 1.5602836879432626e-06, 'epoch': 2.77}\n"
     ]
    },
    {
     "name": "stderr",
     "output_type": "stream",
     "text": [
      " 93%|█████████▎| 3000/3243 [9:08:16<40:36, 10.03s/it]"
     ]
    },
    {
     "name": "stdout",
     "output_type": "stream",
     "text": [
      "{'loss': 0.673, 'grad_norm': 8.456154823303223, 'learning_rate': 1.498612395929695e-06, 'epoch': 2.78}\n"
     ]
    },
    {
     "name": "stderr",
     "output_type": "stream",
     "text": [
      " 93%|█████████▎| 3010/3243 [9:09:53<38:15,  9.85s/it]"
     ]
    },
    {
     "name": "stdout",
     "output_type": "stream",
     "text": [
      "{'loss': 0.7728, 'grad_norm': 9.704988479614258, 'learning_rate': 1.4369411039161272e-06, 'epoch': 2.78}\n"
     ]
    },
    {
     "name": "stderr",
     "output_type": "stream",
     "text": [
      " 93%|█████████▎| 3020/3243 [9:11:30<35:46,  9.63s/it]"
     ]
    },
    {
     "name": "stdout",
     "output_type": "stream",
     "text": [
      "{'loss': 0.6433, 'grad_norm': 13.230194091796875, 'learning_rate': 1.3752698119025596e-06, 'epoch': 2.79}\n"
     ]
    },
    {
     "name": "stderr",
     "output_type": "stream",
     "text": [
      " 93%|█████████▎| 3030/3243 [9:13:08<34:55,  9.84s/it]"
     ]
    },
    {
     "name": "stdout",
     "output_type": "stream",
     "text": [
      "{'loss': 0.6149, 'grad_norm': 10.680130958557129, 'learning_rate': 1.3135985198889916e-06, 'epoch': 2.8}\n"
     ]
    },
    {
     "name": "stderr",
     "output_type": "stream",
     "text": [
      " 94%|█████████▎| 3040/3243 [9:14:45<31:59,  9.46s/it]"
     ]
    },
    {
     "name": "stdout",
     "output_type": "stream",
     "text": [
      "{'loss': 0.6144, 'grad_norm': 8.789831161499023, 'learning_rate': 1.251927227875424e-06, 'epoch': 2.81}\n"
     ]
    },
    {
     "name": "stderr",
     "output_type": "stream",
     "text": [
      " 94%|█████████▍| 3050/3243 [9:16:15<28:46,  8.94s/it]"
     ]
    },
    {
     "name": "stdout",
     "output_type": "stream",
     "text": [
      "{'loss': 0.6309, 'grad_norm': 10.690546989440918, 'learning_rate': 1.1902559358618564e-06, 'epoch': 2.82}\n"
     ]
    },
    {
     "name": "stderr",
     "output_type": "stream",
     "text": [
      " 94%|█████████▍| 3060/3243 [9:17:49<29:46,  9.76s/it]"
     ]
    },
    {
     "name": "stdout",
     "output_type": "stream",
     "text": [
      "{'loss': 0.6241, 'grad_norm': 5.4507222175598145, 'learning_rate': 1.1285846438482889e-06, 'epoch': 2.83}\n"
     ]
    },
    {
     "name": "stderr",
     "output_type": "stream",
     "text": [
      " 95%|█████████▍| 3070/3243 [9:19:26<28:32,  9.90s/it]"
     ]
    },
    {
     "name": "stdout",
     "output_type": "stream",
     "text": [
      "{'loss': 0.6342, 'grad_norm': 11.317143440246582, 'learning_rate': 1.066913351834721e-06, 'epoch': 2.84}\n"
     ]
    },
    {
     "name": "stderr",
     "output_type": "stream",
     "text": [
      " 95%|█████████▍| 3080/3243 [9:21:03<26:12,  9.65s/it]"
     ]
    },
    {
     "name": "stdout",
     "output_type": "stream",
     "text": [
      "{'loss': 0.6535, 'grad_norm': 5.430670738220215, 'learning_rate': 1.0052420598211533e-06, 'epoch': 2.85}\n"
     ]
    },
    {
     "name": "stderr",
     "output_type": "stream",
     "text": [
      " 95%|█████████▌| 3090/3243 [9:22:40<24:29,  9.61s/it]"
     ]
    },
    {
     "name": "stdout",
     "output_type": "stream",
     "text": [
      "{'loss': 0.705, 'grad_norm': 9.733250617980957, 'learning_rate': 9.435707678075856e-07, 'epoch': 2.86}\n"
     ]
    },
    {
     "name": "stderr",
     "output_type": "stream",
     "text": [
      " 96%|█████████▌| 3100/3243 [9:24:17<23:00,  9.65s/it]"
     ]
    },
    {
     "name": "stdout",
     "output_type": "stream",
     "text": [
      "{'loss': 0.6219, 'grad_norm': 11.905717849731445, 'learning_rate': 8.81899475794018e-07, 'epoch': 2.87}\n"
     ]
    },
    {
     "name": "stderr",
     "output_type": "stream",
     "text": [
      " 96%|█████████▌| 3110/3243 [9:25:54<21:27,  9.68s/it]"
     ]
    },
    {
     "name": "stdout",
     "output_type": "stream",
     "text": [
      "{'loss': 0.6676, 'grad_norm': 18.206035614013672, 'learning_rate': 8.202281837804503e-07, 'epoch': 2.88}\n"
     ]
    },
    {
     "name": "stderr",
     "output_type": "stream",
     "text": [
      " 96%|█████████▌| 3120/3243 [9:27:30<19:44,  9.63s/it]"
     ]
    },
    {
     "name": "stdout",
     "output_type": "stream",
     "text": [
      "{'loss': 0.6266, 'grad_norm': 13.136159896850586, 'learning_rate': 7.585568917668826e-07, 'epoch': 2.89}\n"
     ]
    },
    {
     "name": "stderr",
     "output_type": "stream",
     "text": [
      " 97%|█████████▋| 3130/3243 [9:29:07<18:24,  9.77s/it]"
     ]
    },
    {
     "name": "stdout",
     "output_type": "stream",
     "text": [
      "{'loss': 0.7047, 'grad_norm': 5.77121114730835, 'learning_rate': 6.968855997533148e-07, 'epoch': 2.9}\n"
     ]
    },
    {
     "name": "stderr",
     "output_type": "stream",
     "text": [
      " 97%|█████████▋| 3140/3243 [9:30:44<16:34,  9.66s/it]"
     ]
    },
    {
     "name": "stdout",
     "output_type": "stream",
     "text": [
      "{'loss': 0.7708, 'grad_norm': 9.275136947631836, 'learning_rate': 6.352143077397472e-07, 'epoch': 2.9}\n"
     ]
    },
    {
     "name": "stderr",
     "output_type": "stream",
     "text": [
      " 97%|█████████▋| 3150/3243 [9:32:23<15:42, 10.14s/it]"
     ]
    },
    {
     "name": "stdout",
     "output_type": "stream",
     "text": [
      "{'loss': 0.6504, 'grad_norm': 7.57351541519165, 'learning_rate': 5.735430157261795e-07, 'epoch': 2.91}\n"
     ]
    },
    {
     "name": "stderr",
     "output_type": "stream",
     "text": [
      " 97%|█████████▋| 3160/3243 [9:34:03<13:46,  9.96s/it]"
     ]
    },
    {
     "name": "stdout",
     "output_type": "stream",
     "text": [
      "{'loss': 0.7134, 'grad_norm': 7.84852409362793, 'learning_rate': 5.118717237126118e-07, 'epoch': 2.92}\n"
     ]
    },
    {
     "name": "stderr",
     "output_type": "stream",
     "text": [
      " 98%|█████████▊| 3170/3243 [9:35:43<12:07,  9.96s/it]"
     ]
    },
    {
     "name": "stdout",
     "output_type": "stream",
     "text": [
      "{'loss': 0.6069, 'grad_norm': 11.401739120483398, 'learning_rate': 4.5020043169904414e-07, 'epoch': 2.93}\n"
     ]
    },
    {
     "name": "stderr",
     "output_type": "stream",
     "text": [
      " 98%|█████████▊| 3180/3243 [9:37:26<11:01, 10.50s/it]"
     ]
    },
    {
     "name": "stdout",
     "output_type": "stream",
     "text": [
      "{'loss': 0.675, 'grad_norm': 8.382140159606934, 'learning_rate': 3.8852913968547645e-07, 'epoch': 2.94}\n"
     ]
    },
    {
     "name": "stderr",
     "output_type": "stream",
     "text": [
      " 98%|█████████▊| 3190/3243 [9:39:10<09:02, 10.23s/it]"
     ]
    },
    {
     "name": "stdout",
     "output_type": "stream",
     "text": [
      "{'loss': 0.8036, 'grad_norm': 9.125752449035645, 'learning_rate': 3.268578476719088e-07, 'epoch': 2.95}\n"
     ]
    },
    {
     "name": "stderr",
     "output_type": "stream",
     "text": [
      " 99%|█████████▊| 3200/3243 [9:40:50<07:13, 10.08s/it]"
     ]
    },
    {
     "name": "stdout",
     "output_type": "stream",
     "text": [
      "{'loss': 0.7143, 'grad_norm': 8.764361381530762, 'learning_rate': 2.6518655565834106e-07, 'epoch': 2.96}\n"
     ]
    },
    {
     "name": "stderr",
     "output_type": "stream",
     "text": [
      " 99%|█████████▉| 3210/3243 [9:42:31<05:32, 10.06s/it]"
     ]
    },
    {
     "name": "stdout",
     "output_type": "stream",
     "text": [
      "{'loss': 0.5391, 'grad_norm': 8.896090507507324, 'learning_rate': 2.0351526364477337e-07, 'epoch': 2.97}\n"
     ]
    },
    {
     "name": "stderr",
     "output_type": "stream",
     "text": [
      " 99%|█████████▉| 3220/3243 [9:44:11<03:51, 10.08s/it]"
     ]
    },
    {
     "name": "stdout",
     "output_type": "stream",
     "text": [
      "{'loss': 0.6394, 'grad_norm': 7.548466205596924, 'learning_rate': 1.4184397163120568e-07, 'epoch': 2.98}\n"
     ]
    },
    {
     "name": "stderr",
     "output_type": "stream",
     "text": [
      "100%|█████████▉| 3230/3243 [9:45:50<02:07,  9.83s/it]"
     ]
    },
    {
     "name": "stdout",
     "output_type": "stream",
     "text": [
      "{'loss': 0.704, 'grad_norm': 10.51365852355957, 'learning_rate': 8.017267961763799e-08, 'epoch': 2.99}\n"
     ]
    },
    {
     "name": "stderr",
     "output_type": "stream",
     "text": [
      "100%|█████████▉| 3240/3243 [9:47:27<00:29,  9.91s/it]"
     ]
    },
    {
     "name": "stdout",
     "output_type": "stream",
     "text": [
      "{'loss': 0.6224, 'grad_norm': 9.89842700958252, 'learning_rate': 1.8501387604070307e-08, 'epoch': 3.0}\n"
     ]
    },
    {
     "name": "stderr",
     "output_type": "stream",
     "text": [
      "                                                     \n",
      "100%|██████████| 3243/3243 [10:01:02<00:00,  9.71s/it]"
     ]
    },
    {
     "name": "stdout",
     "output_type": "stream",
     "text": [
      "{'eval_loss': 0.9280194044113159, 'eval_accuracy': 0.622109158186864, 'eval_runtime': 784.6292, 'eval_samples_per_second': 5.511, 'eval_steps_per_second': 0.345, 'epoch': 3.0}\n"
     ]
    },
    {
     "name": "stderr",
     "output_type": "stream",
     "text": [
      "100%|██████████| 3243/3243 [10:01:07<00:00, 11.12s/it]\n"
     ]
    },
    {
     "name": "stdout",
     "output_type": "stream",
     "text": [
      "{'train_runtime': 36067.0495, 'train_samples_per_second': 1.439, 'train_steps_per_second': 0.09, 'train_loss': 0.8244395586873071, 'epoch': 3.0}\n"
     ]
    },
    {
     "name": "stderr",
     "output_type": "stream",
     "text": [
      "100%|██████████| 271/271 [13:03<00:00,  2.89s/it]\n"
     ]
    },
    {
     "name": "stdout",
     "output_type": "stream",
     "text": [
      "Test Results: {'eval_loss': 0.9004201292991638, 'eval_accuracy': 0.6234967622571693, 'eval_runtime': 786.1553, 'eval_samples_per_second': 5.5, 'eval_steps_per_second': 0.345, 'epoch': 3.0}\n"
     ]
    },
    {
     "data": {
      "text/plain": [
       "('/content/drive/MyDrive/finetuned_destilbert_unpr_tokenizer\\\\tokenizer_config.json',\n",
       " '/content/drive/MyDrive/finetuned_destilbert_unpr_tokenizer\\\\special_tokens_map.json',\n",
       " '/content/drive/MyDrive/finetuned_destilbert_unpr_tokenizer\\\\vocab.txt',\n",
       " '/content/drive/MyDrive/finetuned_destilbert_unpr_tokenizer\\\\added_tokens.json')"
      ]
     },
     "execution_count": 8,
     "metadata": {},
     "output_type": "execute_result"
    }
   ],
   "source": [
    "# Select the column to use as input \n",
    "input_column = 'text'  \n",
    "\n",
    "# Tokenization and Dataset Preparation\n",
    "class ReviewDataset(Dataset):\n",
    "    def __init__(self, dataframe, tokenizer, max_length):\n",
    "        self.dataframe = dataframe\n",
    "        self.tokenizer = tokenizer\n",
    "        self.max_length = max_length\n",
    "\n",
    "    def __len__(self):\n",
    "        return len(self.dataframe)\n",
    "\n",
    "    def __getitem__(self, idx):\n",
    "        row = self.dataframe.iloc[idx]\n",
    "        text = row[input_column]\n",
    "        rating = row['rating']\n",
    "        tokens = self.tokenizer(\n",
    "            text, \n",
    "            max_length=self.max_length, \n",
    "            truncation=True, \n",
    "            padding='max_length', \n",
    "            return_tensors='pt'\n",
    "        )\n",
    "        return {\n",
    "            'input_ids': tokens['input_ids'].squeeze(),\n",
    "            'attention_mask': tokens['attention_mask'].squeeze(),\n",
    "            'labels': torch.tensor(rating, dtype=torch.long)\n",
    "        }\n",
    "\n",
    "# Initialize tokenizer and model\n",
    "model_name = \"distilbert-base-uncased\"\n",
    "tokenizer = DistilBertTokenizer.from_pretrained(model_name)\n",
    "model = DistilBertForSequenceClassification.from_pretrained(model_name, num_labels=5)\n",
    "\n",
    "# Prepare Dataset\n",
    "max_length = 128\n",
    "dataset = ReviewDataset(df_balanced, tokenizer, max_length)\n",
    "\n",
    "# Split dataset into train and test\n",
    "from sklearn.model_selection import train_test_split\n",
    "train_df, test_df = train_test_split(df_balanced, test_size=0.2, random_state=42)\n",
    "train_dataset = ReviewDataset(train_df, tokenizer, max_length)\n",
    "test_dataset = ReviewDataset(test_df, tokenizer, max_length)\n",
    "\n",
    "# Training Arguments\n",
    "training_args = TrainingArguments(\n",
    "    output_dir=\"./results\",\n",
    "    evaluation_strategy=\"epoch\",\n",
    "    save_strategy=\"epoch\",\n",
    "    logging_strategy=\"steps\",\n",
    "    logging_steps=10,\n",
    "    per_device_train_batch_size=16,\n",
    "    per_device_eval_batch_size=16,\n",
    "    num_train_epochs=3,\n",
    "    learning_rate=2e-5,\n",
    "    weight_decay=0.01,\n",
    "    save_total_limit=1,\n",
    "    load_best_model_at_end=True,\n",
    "    metric_for_best_model=\"accuracy\",\n",
    "    report_to=\"none\"\n",
    ")\n",
    "\n",
    "# Initialize Trainer\n",
    "def compute_metrics(eval_pred):\n",
    "    from sklearn.metrics import accuracy_score, precision_recall_fscore_support\n",
    "    logits, labels = eval_pred\n",
    "    predictions = torch.argmax(torch.tensor(logits), dim=1)\n",
    "    accuracy = accuracy_score(labels, predictions)\n",
    "    return {\"accuracy\": accuracy}\n",
    "\n",
    "trainer = Trainer(\n",
    "    model=model,\n",
    "    args=training_args,\n",
    "    train_dataset=train_dataset,\n",
    "    eval_dataset=test_dataset,\n",
    "    tokenizer=tokenizer,\n",
    "    compute_metrics=compute_metrics,\n",
    ")\n",
    "\n",
    "# Train the model\n",
    "trainer.train()\n",
    "\n",
    "# Evaluate the model\n",
    "results = trainer.evaluate()\n",
    "print(f\"Test Results: {results}\")\n",
    "\n"
   ]
  },
  {
   "cell_type": "code",
   "execution_count": 9,
   "metadata": {},
   "outputs": [
    {
     "data": {
      "text/plain": [
       "('finetuned_destilbert_unpr_tokenizer\\\\tokenizer_config.json',\n",
       " 'finetuned_destilbert_unpr_tokenizer\\\\special_tokens_map.json',\n",
       " 'finetuned_destilbert_unpr_tokenizer\\\\vocab.txt',\n",
       " 'finetuned_destilbert_unpr_tokenizer\\\\added_tokens.json')"
      ]
     },
     "execution_count": 9,
     "metadata": {},
     "output_type": "execute_result"
    }
   ],
   "source": [
    "# Save the model to a directory\n",
    "model_save_path = \"finetuned_destilbert_unpr_model\" \n",
    "trainer.save_model(model_save_path)  \n",
    "\n",
    "# Save the tokenizer as well \n",
    "tokenizer_save_path = \"finetuned_destilbert_unpr_tokenizer\" \n",
    "tokenizer.save_pretrained(tokenizer_save_path)"
   ]
  },
  {
   "cell_type": "code",
   "execution_count": 10,
   "metadata": {},
   "outputs": [
    {
     "name": "stderr",
     "output_type": "stream",
     "text": [
      "100%|██████████| 271/271 [13:24<00:00,  2.97s/it]"
     ]
    },
    {
     "name": "stdout",
     "output_type": "stream",
     "text": [
      "              precision    recall  f1-score   support\n",
      "\n",
      "           0       0.72      0.74      0.73       850\n",
      "           1       0.46      0.50      0.48       875\n",
      "           2       0.51      0.49      0.50       904\n",
      "           3       0.65      0.52      0.58       835\n",
      "           4       0.79      0.87      0.83       860\n",
      "\n",
      "    accuracy                           0.62      4324\n",
      "   macro avg       0.62      0.63      0.62      4324\n",
      "weighted avg       0.62      0.62      0.62      4324\n",
      "\n",
      "[[628 172  34  13   3]\n",
      " [188 441 222  18   6]\n",
      " [ 43 292 440 115  14]\n",
      " [ 12  45 161 438 179]\n",
      " [  1   8   8  94 749]]\n"
     ]
    },
    {
     "name": "stderr",
     "output_type": "stream",
     "text": [
      "\n"
     ]
    }
   ],
   "source": [
    "# print classification report and confusion matrix\n",
    "predictions = trainer.predict(test_dataset)\n",
    "\n",
    "predicted_labels = np.argmax(predictions.predictions, axis=1)\n",
    "true_labels = predictions.label_ids\n",
    "\n",
    "\n",
    "from sklearn.metrics import classification_report, confusion_matrix\n",
    "print(classification_report(true_labels, predicted_labels))\n",
    "print(confusion_matrix(true_labels, predicted_labels))"
   ]
  },
  {
   "cell_type": "code",
   "execution_count": null,
   "metadata": {},
   "outputs": [],
   "source": []
  }
 ],
 "metadata": {
  "kernelspec": {
   "display_name": "supply_chain",
   "language": "python",
   "name": "python3"
  },
  "language_info": {
   "codemirror_mode": {
    "name": "ipython",
    "version": 3
   },
   "file_extension": ".py",
   "mimetype": "text/x-python",
   "name": "python",
   "nbconvert_exporter": "python",
   "pygments_lexer": "ipython3",
   "version": "3.12.7"
  }
 },
 "nbformat": 4,
 "nbformat_minor": 2
}
