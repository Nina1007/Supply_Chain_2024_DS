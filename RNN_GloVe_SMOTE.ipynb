{
 "cells": [
  {
   "cell_type": "code",
   "execution_count": 1,
   "metadata": {},
   "outputs": [
    {
     "name": "stdout",
     "output_type": "stream",
     "text": [
      "Collecting sentence-transformers\n",
      "  Downloading sentence_transformers-3.3.1-py3-none-any.whl.metadata (10 kB)\n",
      "Requirement already satisfied: transformers<5.0.0,>=4.41.0 in c:\\users\\admin\\.conda\\envs\\supply_chain\\lib\\site-packages (from sentence-transformers) (4.46.3)\n",
      "Requirement already satisfied: tqdm in c:\\users\\admin\\.conda\\envs\\supply_chain\\lib\\site-packages (from sentence-transformers) (4.66.5)\n",
      "Requirement already satisfied: torch>=1.11.0 in c:\\users\\admin\\.conda\\envs\\supply_chain\\lib\\site-packages (from sentence-transformers) (2.5.1)\n",
      "Requirement already satisfied: scikit-learn in c:\\users\\admin\\.conda\\envs\\supply_chain\\lib\\site-packages (from sentence-transformers) (1.5.1)\n",
      "Requirement already satisfied: scipy in c:\\users\\admin\\.conda\\envs\\supply_chain\\lib\\site-packages (from sentence-transformers) (1.13.1)\n",
      "Requirement already satisfied: huggingface-hub>=0.20.0 in c:\\users\\admin\\.conda\\envs\\supply_chain\\lib\\site-packages (from sentence-transformers) (0.26.2)\n",
      "Requirement already satisfied: Pillow in c:\\users\\admin\\.conda\\envs\\supply_chain\\lib\\site-packages (from sentence-transformers) (10.4.0)\n",
      "Requirement already satisfied: filelock in c:\\users\\admin\\.conda\\envs\\supply_chain\\lib\\site-packages (from huggingface-hub>=0.20.0->sentence-transformers) (3.16.1)\n",
      "Requirement already satisfied: fsspec>=2023.5.0 in c:\\users\\admin\\.conda\\envs\\supply_chain\\lib\\site-packages (from huggingface-hub>=0.20.0->sentence-transformers) (2024.9.0)\n",
      "Requirement already satisfied: packaging>=20.9 in c:\\users\\admin\\.conda\\envs\\supply_chain\\lib\\site-packages (from huggingface-hub>=0.20.0->sentence-transformers) (24.1)\n",
      "Requirement already satisfied: pyyaml>=5.1 in c:\\users\\admin\\.conda\\envs\\supply_chain\\lib\\site-packages (from huggingface-hub>=0.20.0->sentence-transformers) (6.0.2)\n",
      "Requirement already satisfied: requests in c:\\users\\admin\\.conda\\envs\\supply_chain\\lib\\site-packages (from huggingface-hub>=0.20.0->sentence-transformers) (2.32.3)\n",
      "Requirement already satisfied: typing-extensions>=3.7.4.3 in c:\\users\\admin\\.conda\\envs\\supply_chain\\lib\\site-packages (from huggingface-hub>=0.20.0->sentence-transformers) (4.11.0)\n",
      "Requirement already satisfied: networkx in c:\\users\\admin\\.conda\\envs\\supply_chain\\lib\\site-packages (from torch>=1.11.0->sentence-transformers) (3.4.2)\n",
      "Requirement already satisfied: jinja2 in c:\\users\\admin\\.conda\\envs\\supply_chain\\lib\\site-packages (from torch>=1.11.0->sentence-transformers) (3.1.4)\n",
      "Requirement already satisfied: setuptools in c:\\users\\admin\\.conda\\envs\\supply_chain\\lib\\site-packages (from torch>=1.11.0->sentence-transformers) (75.1.0)\n",
      "Requirement already satisfied: sympy==1.13.1 in c:\\users\\admin\\.conda\\envs\\supply_chain\\lib\\site-packages (from torch>=1.11.0->sentence-transformers) (1.13.1)\n",
      "Requirement already satisfied: mpmath<1.4,>=1.1.0 in c:\\users\\admin\\.conda\\envs\\supply_chain\\lib\\site-packages (from sympy==1.13.1->torch>=1.11.0->sentence-transformers) (1.3.0)\n",
      "Requirement already satisfied: colorama in c:\\users\\admin\\.conda\\envs\\supply_chain\\lib\\site-packages (from tqdm->sentence-transformers) (0.4.6)\n",
      "Requirement already satisfied: numpy>=1.17 in c:\\users\\admin\\.conda\\envs\\supply_chain\\lib\\site-packages (from transformers<5.0.0,>=4.41.0->sentence-transformers) (1.26.4)\n",
      "Requirement already satisfied: regex!=2019.12.17 in c:\\users\\admin\\.conda\\envs\\supply_chain\\lib\\site-packages (from transformers<5.0.0,>=4.41.0->sentence-transformers) (2024.9.11)\n",
      "Requirement already satisfied: tokenizers<0.21,>=0.20 in c:\\users\\admin\\.conda\\envs\\supply_chain\\lib\\site-packages (from transformers<5.0.0,>=4.41.0->sentence-transformers) (0.20.3)\n",
      "Requirement already satisfied: safetensors>=0.4.1 in c:\\users\\admin\\.conda\\envs\\supply_chain\\lib\\site-packages (from transformers<5.0.0,>=4.41.0->sentence-transformers) (0.4.5)\n",
      "Requirement already satisfied: joblib>=1.2.0 in c:\\users\\admin\\.conda\\envs\\supply_chain\\lib\\site-packages (from scikit-learn->sentence-transformers) (1.4.2)\n",
      "Requirement already satisfied: threadpoolctl>=3.1.0 in c:\\users\\admin\\.conda\\envs\\supply_chain\\lib\\site-packages (from scikit-learn->sentence-transformers) (3.5.0)\n",
      "Requirement already satisfied: MarkupSafe>=2.0 in c:\\users\\admin\\.conda\\envs\\supply_chain\\lib\\site-packages (from jinja2->torch>=1.11.0->sentence-transformers) (2.1.3)\n",
      "Requirement already satisfied: charset-normalizer<4,>=2 in c:\\users\\admin\\.conda\\envs\\supply_chain\\lib\\site-packages (from requests->huggingface-hub>=0.20.0->sentence-transformers) (3.3.2)\n",
      "Requirement already satisfied: idna<4,>=2.5 in c:\\users\\admin\\.conda\\envs\\supply_chain\\lib\\site-packages (from requests->huggingface-hub>=0.20.0->sentence-transformers) (3.7)\n",
      "Requirement already satisfied: urllib3<3,>=1.21.1 in c:\\users\\admin\\.conda\\envs\\supply_chain\\lib\\site-packages (from requests->huggingface-hub>=0.20.0->sentence-transformers) (2.2.3)\n",
      "Requirement already satisfied: certifi>=2017.4.17 in c:\\users\\admin\\.conda\\envs\\supply_chain\\lib\\site-packages (from requests->huggingface-hub>=0.20.0->sentence-transformers) (2024.8.30)\n",
      "Downloading sentence_transformers-3.3.1-py3-none-any.whl (268 kB)\n",
      "Installing collected packages: sentence-transformers\n",
      "Successfully installed sentence-transformers-3.3.1\n",
      "Collecting imbalanced-learn\n",
      "  Downloading imbalanced_learn-0.12.4-py3-none-any.whl.metadata (8.3 kB)\n",
      "Requirement already satisfied: numpy>=1.17.3 in c:\\users\\admin\\.conda\\envs\\supply_chain\\lib\\site-packages (from imbalanced-learn) (1.26.4)\n",
      "Requirement already satisfied: scipy>=1.5.0 in c:\\users\\admin\\.conda\\envs\\supply_chain\\lib\\site-packages (from imbalanced-learn) (1.13.1)\n",
      "Requirement already satisfied: scikit-learn>=1.0.2 in c:\\users\\admin\\.conda\\envs\\supply_chain\\lib\\site-packages (from imbalanced-learn) (1.5.1)\n",
      "Requirement already satisfied: joblib>=1.1.1 in c:\\users\\admin\\.conda\\envs\\supply_chain\\lib\\site-packages (from imbalanced-learn) (1.4.2)\n",
      "Requirement already satisfied: threadpoolctl>=2.0.0 in c:\\users\\admin\\.conda\\envs\\supply_chain\\lib\\site-packages (from imbalanced-learn) (3.5.0)\n",
      "Downloading imbalanced_learn-0.12.4-py3-none-any.whl (258 kB)\n",
      "Installing collected packages: imbalanced-learn\n",
      "Successfully installed imbalanced-learn-0.12.4\n"
     ]
    }
   ],
   "source": [
    "!pip install sentence-transformers\n",
    "!pip install imbalanced-learn"
   ]
  },
  {
   "cell_type": "code",
   "execution_count": 2,
   "metadata": {},
   "outputs": [
    {
     "name": "stderr",
     "output_type": "stream",
     "text": [
      "c:\\Users\\Admin\\.conda\\envs\\supply_chain\\Lib\\site-packages\\tqdm\\auto.py:21: TqdmWarning: IProgress not found. Please update jupyter and ipywidgets. See https://ipywidgets.readthedocs.io/en/stable/user_install.html\n",
      "  from .autonotebook import tqdm as notebook_tqdm\n"
     ]
    },
    {
     "name": "stdout",
     "output_type": "stream",
     "text": [
      "WARNING:tensorflow:From c:\\Users\\Admin\\.conda\\envs\\supply_chain\\Lib\\site-packages\\tf_keras\\src\\losses.py:2976: The name tf.losses.sparse_softmax_cross_entropy is deprecated. Please use tf.compat.v1.losses.sparse_softmax_cross_entropy instead.\n",
      "\n"
     ]
    }
   ],
   "source": [
    "import numpy as np\n",
    "import pandas as pd\n",
    "from tensorflow.keras.preprocessing.text import Tokenizer\n",
    "from tensorflow.keras.preprocessing.sequence import pad_sequences\n",
    "from tensorflow.keras.models import Sequential\n",
    "from tensorflow.keras.layers import Embedding, LSTM, Dense, Dropout, SimpleRNN\n",
    "from sklearn.model_selection import train_test_split\n",
    "from sklearn.preprocessing import LabelEncoder\n",
    "from sentence_transformers import SentenceTransformer\n",
    "from imblearn.over_sampling import SMOTE\n"
   ]
  },
  {
   "cell_type": "code",
   "execution_count": 3,
   "metadata": {},
   "outputs": [
    {
     "data": {
      "text/html": [
       "<div>\n",
       "<style scoped>\n",
       "    .dataframe tbody tr th:only-of-type {\n",
       "        vertical-align: middle;\n",
       "    }\n",
       "\n",
       "    .dataframe tbody tr th {\n",
       "        vertical-align: top;\n",
       "    }\n",
       "\n",
       "    .dataframe thead th {\n",
       "        text-align: right;\n",
       "    }\n",
       "</style>\n",
       "<table border=\"1\" class=\"dataframe\">\n",
       "  <thead>\n",
       "    <tr style=\"text-align: right;\">\n",
       "      <th></th>\n",
       "      <th>rating</th>\n",
       "      <th>location</th>\n",
       "      <th>username</th>\n",
       "      <th>number_reviews</th>\n",
       "      <th>verification</th>\n",
       "      <th>repeat_reviewer</th>\n",
       "      <th>repeat_reviewer_encoded</th>\n",
       "      <th>company</th>\n",
       "      <th>text</th>\n",
       "      <th>text_processed</th>\n",
       "      <th>...</th>\n",
       "      <th>date_posted</th>\n",
       "      <th>local_date_posted</th>\n",
       "      <th>month_local</th>\n",
       "      <th>local_hour</th>\n",
       "      <th>time_of_day</th>\n",
       "      <th>day_of_week_posted</th>\n",
       "      <th>day_type</th>\n",
       "      <th>days_between_experience_and_post</th>\n",
       "      <th>review_time</th>\n",
       "      <th>review_time_encoded</th>\n",
       "    </tr>\n",
       "  </thead>\n",
       "  <tbody>\n",
       "    <tr>\n",
       "      <th>0</th>\n",
       "      <td>5</td>\n",
       "      <td>CA</td>\n",
       "      <td>Rob Crane</td>\n",
       "      <td>2</td>\n",
       "      <td>Redirected</td>\n",
       "      <td>repeat</td>\n",
       "      <td>1</td>\n",
       "      <td>Flashbay</td>\n",
       "      <td>The company rep I worked with made my transact...</td>\n",
       "      <td>company rep worked made transaction smooth qui...</td>\n",
       "      <td>...</td>\n",
       "      <td>2024-10-23 04:17:44</td>\n",
       "      <td>2024-10-22</td>\n",
       "      <td>10</td>\n",
       "      <td>21</td>\n",
       "      <td>Evening</td>\n",
       "      <td>1</td>\n",
       "      <td>Business Day</td>\n",
       "      <td>129</td>\n",
       "      <td>late_review</td>\n",
       "      <td>0</td>\n",
       "    </tr>\n",
       "    <tr>\n",
       "      <th>1</th>\n",
       "      <td>5</td>\n",
       "      <td>US</td>\n",
       "      <td>Pat Anderson</td>\n",
       "      <td>1</td>\n",
       "      <td>Verified</td>\n",
       "      <td>one-time</td>\n",
       "      <td>0</td>\n",
       "      <td>Flashbay</td>\n",
       "      <td>I highly recommend using Flashbay. Immediately...</td>\n",
       "      <td>highly recommend using flashbay immediately or...</td>\n",
       "      <td>...</td>\n",
       "      <td>2024-10-16 19:34:05</td>\n",
       "      <td>2024-10-16</td>\n",
       "      <td>10</td>\n",
       "      <td>12</td>\n",
       "      <td>Business Hours</td>\n",
       "      <td>2</td>\n",
       "      <td>Business Day</td>\n",
       "      <td>0</td>\n",
       "      <td>quick_review</td>\n",
       "      <td>1</td>\n",
       "    </tr>\n",
       "    <tr>\n",
       "      <th>2</th>\n",
       "      <td>5</td>\n",
       "      <td>CZ</td>\n",
       "      <td>Margarita Orlova</td>\n",
       "      <td>1</td>\n",
       "      <td>Verified</td>\n",
       "      <td>one-time</td>\n",
       "      <td>0</td>\n",
       "      <td>Flashbay</td>\n",
       "      <td>I had the pleasure of working with Shelby Gibs...</td>\n",
       "      <td>pleasure working shelby gibson large order nee...</td>\n",
       "      <td>...</td>\n",
       "      <td>2024-10-17 10:27:44</td>\n",
       "      <td>2024-10-17</td>\n",
       "      <td>10</td>\n",
       "      <td>10</td>\n",
       "      <td>Business Hours</td>\n",
       "      <td>3</td>\n",
       "      <td>Business Day</td>\n",
       "      <td>7</td>\n",
       "      <td>late_review</td>\n",
       "      <td>0</td>\n",
       "    </tr>\n",
       "    <tr>\n",
       "      <th>3</th>\n",
       "      <td>5</td>\n",
       "      <td>US</td>\n",
       "      <td>Paola Rivas</td>\n",
       "      <td>1</td>\n",
       "      <td>Verified</td>\n",
       "      <td>one-time</td>\n",
       "      <td>0</td>\n",
       "      <td>Flashbay</td>\n",
       "      <td>I had a fantastic experience with Brian Truong...</td>\n",
       "      <td>fantastic experience brian truong attentive tr...</td>\n",
       "      <td>...</td>\n",
       "      <td>2024-10-21 22:38:50</td>\n",
       "      <td>2024-10-21</td>\n",
       "      <td>10</td>\n",
       "      <td>15</td>\n",
       "      <td>Business Hours</td>\n",
       "      <td>0</td>\n",
       "      <td>Business Day</td>\n",
       "      <td>0</td>\n",
       "      <td>quick_review</td>\n",
       "      <td>1</td>\n",
       "    </tr>\n",
       "    <tr>\n",
       "      <th>4</th>\n",
       "      <td>5</td>\n",
       "      <td>CA</td>\n",
       "      <td>Fiona Mckelvey Keenan</td>\n",
       "      <td>3</td>\n",
       "      <td>Not Verified</td>\n",
       "      <td>repeat</td>\n",
       "      <td>1</td>\n",
       "      <td>Flashbay</td>\n",
       "      <td>My number-one go-to for computer accessories. ...</td>\n",
       "      <td>numberone goto computer accessories rachel sup...</td>\n",
       "      <td>...</td>\n",
       "      <td>2024-10-23 04:09:05</td>\n",
       "      <td>2024-10-22</td>\n",
       "      <td>10</td>\n",
       "      <td>21</td>\n",
       "      <td>Evening</td>\n",
       "      <td>1</td>\n",
       "      <td>Business Day</td>\n",
       "      <td>103</td>\n",
       "      <td>late_review</td>\n",
       "      <td>0</td>\n",
       "    </tr>\n",
       "  </tbody>\n",
       "</table>\n",
       "<p>5 rows × 34 columns</p>\n",
       "</div>"
      ],
      "text/plain": [
       "   rating location               username  number_reviews  verification  \\\n",
       "0       5       CA              Rob Crane               2    Redirected   \n",
       "1       5       US           Pat Anderson               1      Verified   \n",
       "2       5       CZ       Margarita Orlova               1      Verified   \n",
       "3       5       US            Paola Rivas               1      Verified   \n",
       "4       5       CA  Fiona Mckelvey Keenan               3  Not Verified   \n",
       "\n",
       "  repeat_reviewer  repeat_reviewer_encoded   company  \\\n",
       "0          repeat                        1  Flashbay   \n",
       "1        one-time                        0  Flashbay   \n",
       "2        one-time                        0  Flashbay   \n",
       "3        one-time                        0  Flashbay   \n",
       "4          repeat                        1  Flashbay   \n",
       "\n",
       "                                                text  \\\n",
       "0  The company rep I worked with made my transact...   \n",
       "1  I highly recommend using Flashbay. Immediately...   \n",
       "2  I had the pleasure of working with Shelby Gibs...   \n",
       "3  I had a fantastic experience with Brian Truong...   \n",
       "4  My number-one go-to for computer accessories. ...   \n",
       "\n",
       "                                      text_processed  ...  \\\n",
       "0  company rep worked made transaction smooth qui...  ...   \n",
       "1  highly recommend using flashbay immediately or...  ...   \n",
       "2  pleasure working shelby gibson large order nee...  ...   \n",
       "3  fantastic experience brian truong attentive tr...  ...   \n",
       "4  numberone goto computer accessories rachel sup...  ...   \n",
       "\n",
       "           date_posted  local_date_posted  month_local  local_hour  \\\n",
       "0  2024-10-23 04:17:44         2024-10-22           10          21   \n",
       "1  2024-10-16 19:34:05         2024-10-16           10          12   \n",
       "2  2024-10-17 10:27:44         2024-10-17           10          10   \n",
       "3  2024-10-21 22:38:50         2024-10-21           10          15   \n",
       "4  2024-10-23 04:09:05         2024-10-22           10          21   \n",
       "\n",
       "      time_of_day  day_of_week_posted      day_type  \\\n",
       "0         Evening                   1  Business Day   \n",
       "1  Business Hours                   2  Business Day   \n",
       "2  Business Hours                   3  Business Day   \n",
       "3  Business Hours                   0  Business Day   \n",
       "4         Evening                   1  Business Day   \n",
       "\n",
       "  days_between_experience_and_post   review_time  review_time_encoded  \n",
       "0                              129   late_review                    0  \n",
       "1                                0  quick_review                    1  \n",
       "2                                7   late_review                    0  \n",
       "3                                0  quick_review                    1  \n",
       "4                              103   late_review                    0  \n",
       "\n",
       "[5 rows x 34 columns]"
      ]
     },
     "execution_count": 3,
     "metadata": {},
     "output_type": "execute_result"
    }
   ],
   "source": [
    "# Load dataset\n",
    "df = pd.read_csv(r\"data\\data_trustpilot.csv\") \n",
    "df.head()\n"
   ]
  },
  {
   "cell_type": "code",
   "execution_count": 4,
   "metadata": {},
   "outputs": [
    {
     "data": {
      "text/plain": [
       "rating\n",
       "5    31372\n",
       "1    16152\n",
       "4     6290\n",
       "3     6272\n",
       "2     4324\n",
       "Name: count, dtype: int64"
      ]
     },
     "execution_count": 4,
     "metadata": {},
     "output_type": "execute_result"
    }
   ],
   "source": [
    "df[\"rating\"].value_counts()"
   ]
  },
  {
   "cell_type": "code",
   "execution_count": null,
   "metadata": {},
   "outputs": [],
   "source": [
    "\n",
    "# Initialize the pre-trained sentence transformer model\n",
    "model = SentenceTransformer('all-mpnet-base-v2')\n",
    "\n",
    "# Extract the text data (preprocessed Text) and labels (ratings)\n",
    "X = df['text_processed'].tolist()\n",
    "y = df['rating'].tolist()\n",
    "\n",
    "# Encode the text data into sentence embeddings\n",
    "X_embeddings = model.encode(X)\n",
    "\n",
    "# Apply SMOTE to oversample minority classes\n",
    "smote = SMOTE()\n",
    "texts, ratings = smote.fit_resample(X_embeddings, y)\n",
    "\n",
    "# The result of resampling is now in `texts` and `rating`\n",
    "\n",
    "# new class distribution after resampling\n",
    "print(pd.Series(rating).value_counts())"
   ]
  },
  {
   "cell_type": "code",
   "execution_count": null,
   "metadata": {},
   "outputs": [
    {
     "name": "stdout",
     "output_type": "stream",
     "text": [
      "rating\n",
      "4    10000\n",
      "1    10000\n",
      "2    10000\n",
      "5    10000\n",
      "3    10000\n",
      "Name: count, dtype: int64\n"
     ]
    }
   ],
   "source": []
  },
  {
   "cell_type": "code",
   "execution_count": 9,
   "metadata": {},
   "outputs": [],
   "source": [
    "texts = df_balanced['text_processed'].astype(str).tolist()  \n",
    "ratings = df_balanced['rating'].astype(int).values  \n"
   ]
  },
  {
   "cell_type": "code",
   "execution_count": null,
   "metadata": {},
   "outputs": [
    {
     "name": "stderr",
     "output_type": "stream",
     "text": [
      "c:\\Users\\Admin\\.conda\\envs\\supply_chain\\Lib\\site-packages\\keras\\src\\layers\\core\\embedding.py:90: UserWarning: Argument `input_length` is deprecated. Just remove it.\n",
      "  warnings.warn(\n"
     ]
    },
    {
     "name": "stdout",
     "output_type": "stream",
     "text": [
      "Epoch 1/10\n",
      "\u001b[1m1250/1250\u001b[0m \u001b[32m━━━━━━━━━━━━━━━━━━━━\u001b[0m\u001b[37m\u001b[0m \u001b[1m71s\u001b[0m 54ms/step - accuracy: 0.3663 - loss: 1.4262 - val_accuracy: 0.4586 - val_loss: 1.3053\n",
      "Epoch 2/10\n",
      "\u001b[1m1250/1250\u001b[0m \u001b[32m━━━━━━━━━━━━━━━━━━━━\u001b[0m\u001b[37m\u001b[0m \u001b[1m71s\u001b[0m 56ms/step - accuracy: 0.4494 - loss: 1.2855 - val_accuracy: 0.5109 - val_loss: 1.1182\n",
      "Epoch 3/10\n",
      "\u001b[1m1250/1250\u001b[0m \u001b[32m━━━━━━━━━━━━━━━━━━━━\u001b[0m\u001b[37m\u001b[0m \u001b[1m67s\u001b[0m 54ms/step - accuracy: 0.5078 - loss: 1.1380 - val_accuracy: 0.5414 - val_loss: 1.0415\n",
      "Epoch 4/10\n",
      "\u001b[1m1250/1250\u001b[0m \u001b[32m━━━━━━━━━━━━━━━━━━━━\u001b[0m\u001b[37m\u001b[0m \u001b[1m64s\u001b[0m 51ms/step - accuracy: 0.5447 - loss: 1.0557 - val_accuracy: 0.5730 - val_loss: 1.0015\n",
      "Epoch 5/10\n",
      "\u001b[1m1250/1250\u001b[0m \u001b[32m━━━━━━━━━━━━━━━━━━━━\u001b[0m\u001b[37m\u001b[0m \u001b[1m66s\u001b[0m 53ms/step - accuracy: 0.5635 - loss: 1.0109 - val_accuracy: 0.5912 - val_loss: 0.9613\n",
      "Epoch 6/10\n",
      "\u001b[1m1250/1250\u001b[0m \u001b[32m━━━━━━━━━━━━━━━━━━━━\u001b[0m\u001b[37m\u001b[0m \u001b[1m70s\u001b[0m 56ms/step - accuracy: 0.5874 - loss: 0.9672 - val_accuracy: 0.5974 - val_loss: 0.9425\n",
      "Epoch 7/10\n",
      "\u001b[1m1250/1250\u001b[0m \u001b[32m━━━━━━━━━━━━━━━━━━━━\u001b[0m\u001b[37m\u001b[0m \u001b[1m76s\u001b[0m 61ms/step - accuracy: 0.6063 - loss: 0.9197 - val_accuracy: 0.6110 - val_loss: 0.9113\n",
      "Epoch 8/10\n",
      "\u001b[1m1250/1250\u001b[0m \u001b[32m━━━━━━━━━━━━━━━━━━━━\u001b[0m\u001b[37m\u001b[0m \u001b[1m74s\u001b[0m 60ms/step - accuracy: 0.6235 - loss: 0.8801 - val_accuracy: 0.6311 - val_loss: 0.8754\n",
      "Epoch 9/10\n",
      "\u001b[1m1250/1250\u001b[0m \u001b[32m━━━━━━━━━━━━━━━━━━━━\u001b[0m\u001b[37m\u001b[0m \u001b[1m69s\u001b[0m 55ms/step - accuracy: 0.6512 - loss: 0.8405 - val_accuracy: 0.6494 - val_loss: 0.8546\n",
      "Epoch 10/10\n",
      "\u001b[1m1250/1250\u001b[0m \u001b[32m━━━━━━━━━━━━━━━━━━━━\u001b[0m\u001b[37m\u001b[0m \u001b[1m67s\u001b[0m 54ms/step - accuracy: 0.6670 - loss: 0.8055 - val_accuracy: 0.6692 - val_loss: 0.8349\n",
      "\u001b[1m313/313\u001b[0m \u001b[32m━━━━━━━━━━━━━━━━━━━━\u001b[0m\u001b[37m\u001b[0m \u001b[1m7s\u001b[0m 22ms/step - accuracy: 0.6704 - loss: 0.8344\n",
      "Validation Accuracy:  66.92000031471252 %\n"
     ]
    }
   ],
   "source": [
    "# Tokenize and Convert Text to Sequences\n",
    "tokenizer = Tokenizer()\n",
    "tokenizer.fit_on_texts(texts)\n",
    "word_index = tokenizer.word_index\n",
    "vocab_size = len(word_index) + 1  \n",
    "\n",
    "X = tokenizer.texts_to_sequences(texts)\n",
    "\n",
    "# Pad sequences\n",
    "max_length = 60  \n",
    "X = pad_sequences(X, maxlen=max_length, padding='post')\n",
    "\n",
    "# Encode ratings\n",
    "label_encoder = LabelEncoder()\n",
    "y = label_encoder.fit_transform(ratings)\n",
    "\n",
    "# Train-test split\n",
    "X_train, X_test, y_train, y_test = train_test_split(X, y, test_size=0.2, random_state=42)\n",
    "\n",
    "# Load GloVe Embeddings\n",
    "embedding_dim = 300\n",
    "glove_file = \"glove.6B.300d.txt\"  \n",
    "\n",
    "embeddings_index = {}\n",
    "with open(glove_file, encoding=\"utf8\") as f:\n",
    "    for line in f:\n",
    "        values = line.split()\n",
    "        word = values[0]\n",
    "        vector = np.asarray(values[1:], dtype='float32')\n",
    "        embeddings_index[word] = vector\n",
    "\n",
    "# Create embedding matrix\n",
    "embedding_matrix = np.zeros((vocab_size, embedding_dim))\n",
    "for word, i in word_index.items():\n",
    "    embedding_vector = embeddings_index.get(word)\n",
    "    if embedding_vector is not None:\n",
    "        embedding_matrix[i] = embedding_vector\n",
    "\n",
    "# Build the RNN Model\n",
    "model = Sequential()\n",
    "model.add(Embedding(input_dim=vocab_size,\n",
    "                    output_dim=embedding_dim,\n",
    "                    weights=[embedding_matrix],\n",
    "                    input_length=max_length,\n",
    "                    trainable=False))  # Freeze GloVe embeddings\n",
    "model.add(LSTM(units=128, dropout=0.2, recurrent_dropout=0.2))  # LSTM layer\n",
    "model.add(Dense(units=64, activation='relu'))\n",
    "model.add(Dropout(0.3))\n",
    "model.add(Dense(units=5, activation='softmax'))  # 5 classes for 5-star ratings\n",
    "\n",
    "# Compile the model\n",
    "model.compile(optimizer='adam',\n",
    "              loss='sparse_categorical_crossentropy',\n",
    "              metrics=['accuracy'])\n",
    "\n",
    "# Train the Model\n",
    "history = model.fit(X_train, y_train, validation_data=(X_test, y_test), epochs=10, batch_size=32)\n",
    "\n",
    "# Evaluate the Model\n",
    "loss, accuracy = model.evaluate(X_test, y_test)\n",
    "print(\"Validation Accuracy: \", accuracy * 100, \"%\")\n",
    "\n",
    "# Save the model\n",
    "model.save(\"rnn_glove_rating_SMOTE.keras\")\n"
   ]
  },
  {
   "cell_type": "code",
   "execution_count": 11,
   "metadata": {},
   "outputs": [
    {
     "data": {
      "text/plain": [
       "[<matplotlib.lines.Line2D at 0x1cbeb803530>]"
      ]
     },
     "execution_count": 11,
     "metadata": {},
     "output_type": "execute_result"
    },
    {
     "data": {
      "image/png": "[encoded data removed]",
      "text/plain": [
       "<Figure size 640x480 with 1 Axes>"
      ]
     },
     "metadata": {},
     "output_type": "display_data"
    }
   ],
   "source": [
    "import matplotlib.pyplot as plt\n",
    "train_acc = history.history[\"accuracy\"]\n",
    "val_acc = history.history[\"val_accuracy\"]\n",
    "\n",
    "plt.plot(train_acc)\n",
    "plt.plot(val_acc)"
   ]
  },
  {
   "cell_type": "code",
   "execution_count": 12,
   "metadata": {},
   "outputs": [
    {
     "name": "stdout",
     "output_type": "stream",
     "text": [
      "\u001b[1m313/313\u001b[0m \u001b[32m━━━━━━━━━━━━━━━━━━━━\u001b[0m\u001b[37m\u001b[0m \u001b[1m7s\u001b[0m 21ms/step\n"
     ]
    }
   ],
   "source": [
    "y_pred = model.predict(X_test)"
   ]
  },
  {
   "cell_type": "code",
   "execution_count": 13,
   "metadata": {},
   "outputs": [],
   "source": [
    "import numpy as np\n",
    "test_pred_class= y_pred.argmax(axis = 1)\n",
    "y_test_class = y_test"
   ]
  },
  {
   "cell_type": "code",
   "execution_count": 14,
   "metadata": {},
   "outputs": [
    {
     "name": "stdout",
     "output_type": "stream",
     "text": [
      "              precision    recall  f1-score   support\n",
      "\n",
      "           0       0.80      0.71      0.76      2017\n",
      "           1       0.58      0.58      0.58      2020\n",
      "           2       0.55      0.60      0.57      1991\n",
      "           3       0.65      0.64      0.64      1983\n",
      "           4       0.80      0.82      0.81      1989\n",
      "\n",
      "    accuracy                           0.67     10000\n",
      "   macro avg       0.67      0.67      0.67     10000\n",
      "weighted avg       0.67      0.67      0.67     10000\n",
      "\n",
      "[[1439  357  142   58   21]\n",
      " [ 226 1167  553   65    9]\n",
      " [  65  411 1188  307   20]\n",
      " [  24   64  259 1265  371]\n",
      " [  39   19   33  265 1633]]\n"
     ]
    }
   ],
   "source": [
    "from sklearn.metrics import classification_report, confusion_matrix\n",
    "print(classification_report(y_test_class, test_pred_class))\n",
    "print(confusion_matrix(y_test_class, test_pred_class))"
   ]
  },
  {
   "cell_type": "code",
   "execution_count": null,
   "metadata": {},
   "outputs": [],
   "source": []
  }
 ],
 "metadata": {
  "kernelspec": {
   "display_name": "supply_chain",
   "language": "python",
   "name": "python3"
  },
  "language_info": {
   "codemirror_mode": {
    "name": "ipython",
    "version": 3
   },
   "file_extension": ".py",
   "mimetype": "text/x-python",
   "name": "python",
   "nbconvert_exporter": "python",
   "pygments_lexer": "ipython3",
   "version": "3.12.7"
  }
 },
 "nbformat": 4,
 "nbformat_minor": 2
}
