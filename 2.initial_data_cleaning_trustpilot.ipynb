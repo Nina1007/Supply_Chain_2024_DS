{
  "cells": [
    {
      "cell_type": "code",
      "execution_count": 22,
      "metadata": {
        "trusted": true
      },
      "outputs": [],
      "source": [
        "import pandas as pd\n",
        "import numpy as np\n",
        "from datetime import datetime\n",
        "import re\n",
        "import csv\n",
        "import seaborn as sns\n",
        "import matplotlib.pyplot as plt\n",
        "from IPython.display import display"
      ]
    },
    {
      "cell_type": "markdown",
      "metadata": {},
      "source": [
        "STAGE 1 - MERGING DATASETS"
      ]
    },
    {
      "cell_type": "code",
      "execution_count": 23,
      "metadata": {
        "trusted": true
      },
      "outputs": [],
      "source": [
        "#Preparing the dataset\n",
        "pd.set_option('display.max_rows', None) \n",
        "pd.set_option('display.max_columns', None)\n",
        "\n",
        "df_trustpilot = pd.read_csv('data/data_trustpilot_clean.csv', engine='python')\n"
      ]
    },
    {
      "cell_type": "code",
      "execution_count": 24,
      "metadata": {},
      "outputs": [
        {
          "data": {
            "text/html": [
              "<div>\n",
              "<style scoped>\n",
              "    .dataframe tbody tr th:only-of-type {\n",
              "        vertical-align: middle;\n",
              "    }\n",
              "\n",
              "    .dataframe tbody tr th {\n",
              "        vertical-align: top;\n",
              "    }\n",
              "\n",
              "    .dataframe thead th {\n",
              "        text-align: right;\n",
              "    }\n",
              "</style>\n",
              "<table border=\"1\" class=\"dataframe\">\n",
              "  <thead>\n",
              "    <tr style=\"text-align: right;\">\n",
              "      <th></th>\n",
              "      <th>username</th>\n",
              "      <th>number_reviews</th>\n",
              "      <th>location</th>\n",
              "      <th>rating</th>\n",
              "      <th>text</th>\n",
              "      <th>date_posted</th>\n",
              "      <th>date_of_experience</th>\n",
              "      <th>verification</th>\n",
              "      <th>subject</th>\n",
              "      <th>answer</th>\n",
              "      <th>page_number</th>\n",
              "      <th>company</th>\n",
              "    </tr>\n",
              "  </thead>\n",
              "  <tbody>\n",
              "    <tr>\n",
              "      <th>0</th>\n",
              "      <td>Dest Iny</td>\n",
              "      <td>7 reviews</td>\n",
              "      <td>GB</td>\n",
              "      <td>5</td>\n",
              "      <td>ST2 9AL Had an issue with the scan, an employe...</td>\n",
              "      <td>2024-11-15 11:42:09</td>\n",
              "      <td>November 11, 2024</td>\n",
              "      <td>NaN</td>\n",
              "      <td>ST2 9AL</td>\n",
              "      <td>NaN</td>\n",
              "      <td>1</td>\n",
              "      <td>Asda</td>\n",
              "    </tr>\n",
              "    <tr>\n",
              "      <th>1</th>\n",
              "      <td>Paula Gray</td>\n",
              "      <td>4 reviews</td>\n",
              "      <td>GB</td>\n",
              "      <td>1</td>\n",
              "      <td>Your call centre staff are not the most helpfu...</td>\n",
              "      <td>2024-11-13 18:26:52</td>\n",
              "      <td>November 13, 2024</td>\n",
              "      <td>NaN</td>\n",
              "      <td>Your call centre staff are not the most…</td>\n",
              "      <td>NaN</td>\n",
              "      <td>1</td>\n",
              "      <td>Asda</td>\n",
              "    </tr>\n",
              "    <tr>\n",
              "      <th>2</th>\n",
              "      <td>Neil Dodds</td>\n",
              "      <td>4 reviews</td>\n",
              "      <td>GB</td>\n",
              "      <td>1</td>\n",
              "      <td>Just received my order from asda accrington,  ...</td>\n",
              "      <td>2024-11-14 21:20:00</td>\n",
              "      <td>November 14, 2024</td>\n",
              "      <td>NaN</td>\n",
              "      <td>Just received my order from asda…</td>\n",
              "      <td>NaN</td>\n",
              "      <td>1</td>\n",
              "      <td>Asda</td>\n",
              "    </tr>\n",
              "    <tr>\n",
              "      <th>3</th>\n",
              "      <td>Julie Currey</td>\n",
              "      <td>5 reviews</td>\n",
              "      <td>GB</td>\n",
              "      <td>1</td>\n",
              "      <td>Just had an online home delivery dropped off, ...</td>\n",
              "      <td>2024-11-13 23:34:32</td>\n",
              "      <td>November 13, 2024</td>\n",
              "      <td>NaN</td>\n",
              "      <td>Asda, where did it all go wrong?</td>\n",
              "      <td>NaN</td>\n",
              "      <td>1</td>\n",
              "      <td>Asda</td>\n",
              "    </tr>\n",
              "    <tr>\n",
              "      <th>4</th>\n",
              "      <td>Jessiejames</td>\n",
              "      <td>3 reviews</td>\n",
              "      <td>GB</td>\n",
              "      <td>2</td>\n",
              "      <td>Used the Asda rewards app to save for Christma...</td>\n",
              "      <td>2024-11-10 22:10:35</td>\n",
              "      <td>October 01, 2024</td>\n",
              "      <td>NaN</td>\n",
              "      <td>Rewards not worth it</td>\n",
              "      <td>NaN</td>\n",
              "      <td>1</td>\n",
              "      <td>Asda</td>\n",
              "    </tr>\n",
              "  </tbody>\n",
              "</table>\n",
              "</div>"
            ],
            "text/plain": [
              "       username number_reviews location  rating  \\\n",
              "0      Dest Iny      7 reviews       GB       5   \n",
              "1    Paula Gray      4 reviews       GB       1   \n",
              "2    Neil Dodds      4 reviews       GB       1   \n",
              "3  Julie Currey      5 reviews       GB       1   \n",
              "4   Jessiejames      3 reviews       GB       2   \n",
              "\n",
              "                                                text          date_posted  \\\n",
              "0  ST2 9AL Had an issue with the scan, an employe...  2024-11-15 11:42:09   \n",
              "1  Your call centre staff are not the most helpfu...  2024-11-13 18:26:52   \n",
              "2  Just received my order from asda accrington,  ...  2024-11-14 21:20:00   \n",
              "3  Just had an online home delivery dropped off, ...  2024-11-13 23:34:32   \n",
              "4  Used the Asda rewards app to save for Christma...  2024-11-10 22:10:35   \n",
              "\n",
              "  date_of_experience verification                                   subject  \\\n",
              "0  November 11, 2024          NaN                                   ST2 9AL   \n",
              "1  November 13, 2024          NaN  Your call centre staff are not the most…   \n",
              "2  November 14, 2024          NaN         Just received my order from asda…   \n",
              "3  November 13, 2024          NaN          Asda, where did it all go wrong?   \n",
              "4   October 01, 2024          NaN                      Rewards not worth it   \n",
              "\n",
              "  answer  page_number company  \n",
              "0    NaN            1    Asda  \n",
              "1    NaN            1    Asda  \n",
              "2    NaN            1    Asda  \n",
              "3    NaN            1    Asda  \n",
              "4    NaN            1    Asda  "
            ]
          },
          "metadata": {},
          "output_type": "display_data"
        }
      ],
      "source": [
        "display(df_trustpilot.head())"
      ]
    },
    {
      "cell_type": "markdown",
      "metadata": {},
      "source": [
        "STAGE 2 - DATASET INSPECTIONS"
      ]
    },
    {
      "cell_type": "code",
      "execution_count": 25,
      "metadata": {
        "trusted": true
      },
      "outputs": [
        {
          "name": "stdout",
          "output_type": "stream",
          "text": [
            "These are the names of the columns present:  \n",
            " Index(['username', 'number_reviews', 'location', 'rating', 'text',\n",
            "       'date_posted', 'date_of_experience', 'verification', 'subject',\n",
            "       'answer', 'page_number', 'company'],\n",
            "      dtype='object')\n",
            "The dataset has  12 columns\n",
            "The dataset has  125362 rows\n"
          ]
        }
      ],
      "source": [
        "#Inspecting the full dataset\n",
        "\n",
        "print(\"These are the names of the columns present: \", \"\\n\", df_trustpilot.columns)\n",
        "print(\"The dataset has \", df_trustpilot.shape[1], \"columns\")\n",
        "print(\"The dataset has \", df_trustpilot.shape[0], \"rows\")"
      ]
    },
    {
      "cell_type": "code",
      "execution_count": 26,
      "metadata": {
        "trusted": true
      },
      "outputs": [
        {
          "name": "stdout",
          "output_type": "stream",
          "text": [
            "These are the names of the columns present:  \n",
            " Index(['username', 'number_reviews', 'location', 'rating', 'text',\n",
            "       'date_posted', 'date_of_experience', 'verification', 'subject',\n",
            "       'answer', 'company'],\n",
            "      dtype='object')\n",
            "The dataset has  11 columns\n",
            "The dataset has  125362 rows\n"
          ]
        }
      ],
      "source": [
        "#Deleting the page_number column as it is no longer needed or relevant\n",
        "\n",
        "df_trustpilot.drop(columns=['page_number'], inplace=True)\n",
        "\n",
        "#Verifying the output\n",
        "print(\"These are the names of the columns present: \", \"\\n\", df_trustpilot.columns)\n",
        "print(\"The dataset has \", df_trustpilot.shape[1], \"columns\")\n",
        "print(\"The dataset has \", df_trustpilot.shape[0], \"rows\")"
      ]
    },
    {
      "cell_type": "code",
      "execution_count": 27,
      "metadata": {
        "trusted": true
      },
      "outputs": [
        {
          "name": "stdout",
          "output_type": "stream",
          "text": [
            "Printing the relevant information from the file such as type per variable:  n\n",
            "<class 'pandas.core.frame.DataFrame'>\n",
            "RangeIndex: 125362 entries, 0 to 125361\n",
            "Data columns (total 11 columns):\n",
            " #   Column              Non-Null Count   Dtype \n",
            "---  ------              --------------   ----- \n",
            " 0   username            125343 non-null  object\n",
            " 1   number_reviews      125362 non-null  object\n",
            " 2   location            125360 non-null  object\n",
            " 3   rating              125362 non-null  int64 \n",
            " 4   text                125362 non-null  object\n",
            " 5   date_posted         125362 non-null  object\n",
            " 6   date_of_experience  125362 non-null  object\n",
            " 7   verification        94076 non-null   object\n",
            " 8   subject             125359 non-null  object\n",
            " 9   answer              32019 non-null   object\n",
            " 10  company             125362 non-null  object\n",
            "dtypes: int64(1), object(10)\n",
            "memory usage: 10.5+ MB\n",
            "None\n"
          ]
        }
      ],
      "source": [
        "print(\"Printing the relevant information from the file such as type per variable: \", \"n\")\n",
        "print(df_trustpilot.info())"
      ]
    },
    {
      "cell_type": "code",
      "execution_count": 28,
      "metadata": {},
      "outputs": [
        {
          "name": "stdout",
          "output_type": "stream",
          "text": [
            "[5 1 2 4 3]\n"
          ]
        }
      ],
      "source": [
        "#Converting rating to integer\n",
        "\n",
        "print(df_trustpilot['rating'].unique())\n",
        "\n",
        "df_trustpilot['rating'] = df_trustpilot['rating'].astype('int')\n"
      ]
    },
    {
      "cell_type": "code",
      "execution_count": 29,
      "metadata": {
        "trusted": true
      },
      "outputs": [
        {
          "name": "stdout",
          "output_type": "stream",
          "text": [
            "number_reviews\n",
            "1      68753\n",
            "2      23533\n",
            "3      10674\n",
            "4       5703\n",
            "5       3446\n",
            "6       2281\n",
            "7       1622\n",
            "8       1198\n",
            "9        937\n",
            "10       745\n",
            "11       658\n",
            "12       549\n",
            "13       448\n",
            "14       385\n",
            "15       346\n",
            "16       298\n",
            "18       237\n",
            "17       229\n",
            "19       216\n",
            "21       207\n",
            "23       183\n",
            "22       166\n",
            "20       164\n",
            "24       155\n",
            "26       135\n",
            "25       125\n",
            "27       107\n",
            "29        95\n",
            "28        94\n",
            "30        80\n",
            "33        77\n",
            "32        77\n",
            "31        76\n",
            "36        65\n",
            "35        63\n",
            "34        59\n",
            "39        58\n",
            "37        53\n",
            "41        49\n",
            "38        45\n",
            "42        42\n",
            "44        38\n",
            "40        37\n",
            "46        33\n",
            "47        33\n",
            "45        32\n",
            "43        30\n",
            "55        30\n",
            "48        28\n",
            "52        28\n",
            "50        28\n",
            "49        26\n",
            "56        23\n",
            "53        23\n",
            "51        22\n",
            "57        22\n",
            "62        20\n",
            "54        19\n",
            "69        19\n",
            "59        17\n",
            "67        17\n",
            "58        17\n",
            "60        17\n",
            "63        16\n",
            "68        15\n",
            "66        14\n",
            "64        12\n",
            "89        11\n",
            "70        10\n",
            "65        10\n",
            "79        10\n",
            "61        10\n",
            "78         9\n",
            "94         8\n",
            "77         8\n",
            "81         8\n",
            "90         7\n",
            "73         7\n",
            "71         7\n",
            "76         6\n",
            "95         6\n",
            "88         6\n",
            "72         6\n",
            "109        6\n",
            "83         6\n",
            "98         5\n",
            "103        5\n",
            "80         5\n",
            "75         5\n",
            "82         5\n",
            "97         5\n",
            "85         4\n",
            "86         4\n",
            "102        4\n",
            "84         4\n",
            "112        4\n",
            "91         4\n",
            "92         4\n",
            "121        3\n",
            "111        3\n",
            "93         3\n",
            "105        3\n",
            "113        3\n",
            "118        3\n",
            "123        3\n",
            "114        3\n",
            "100        3\n",
            "136        2\n",
            "74         2\n",
            "96         2\n",
            "142        2\n",
            "104        2\n",
            "87         2\n",
            "117        2\n",
            "177        2\n",
            "153        2\n",
            "137        2\n",
            "122        2\n",
            "140        2\n",
            "155        2\n",
            "145        2\n",
            "127        2\n",
            "99         2\n",
            "175        2\n",
            "159        2\n",
            "273        1\n",
            "259        1\n",
            "138        1\n",
            "164        1\n",
            "149        1\n",
            "234        1\n",
            "174        1\n",
            "154        1\n",
            "101        1\n",
            "120        1\n",
            "134        1\n",
            "276        1\n",
            "592        1\n",
            "209        1\n",
            "184        1\n",
            "271        1\n",
            "128        1\n",
            "147        1\n",
            "281        1\n",
            "228        1\n",
            "200        1\n",
            "173        1\n",
            "135        1\n",
            "191        1\n",
            "194        1\n",
            "192        1\n",
            "217        1\n",
            "270        1\n",
            "130        1\n",
            "119        1\n",
            "214        1\n",
            "158        1\n",
            "278        1\n",
            "163        1\n",
            "221        1\n",
            "132        1\n",
            "171        1\n",
            "493        1\n",
            "399        1\n",
            "335        1\n",
            "108        1\n",
            "386        1\n",
            "285        1\n",
            "125        1\n",
            "280        1\n",
            "172        1\n",
            "133        1\n",
            "215        1\n",
            "152        1\n",
            "363        1\n",
            "239        1\n",
            "Name: count, dtype: int64\n",
            "<class 'pandas.core.frame.DataFrame'>\n",
            "RangeIndex: 125362 entries, 0 to 125361\n",
            "Data columns (total 11 columns):\n",
            " #   Column              Non-Null Count   Dtype \n",
            "---  ------              --------------   ----- \n",
            " 0   username            125343 non-null  object\n",
            " 1   number_reviews      125362 non-null  int64 \n",
            " 2   location            125360 non-null  object\n",
            " 3   rating              125362 non-null  int64 \n",
            " 4   text                125362 non-null  object\n",
            " 5   date_posted         125362 non-null  object\n",
            " 6   date_of_experience  125362 non-null  object\n",
            " 7   verification        94076 non-null   object\n",
            " 8   subject             125359 non-null  object\n",
            " 9   answer              32019 non-null   object\n",
            " 10  company             125362 non-null  object\n",
            "dtypes: int64(2), object(9)\n",
            "memory usage: 10.5+ MB\n",
            "None\n",
            "       username  number_reviews location  rating  \\\n",
            "0      Dest Iny               7       GB       5   \n",
            "1    Paula Gray               4       GB       1   \n",
            "2    Neil Dodds               4       GB       1   \n",
            "3  Julie Currey               5       GB       1   \n",
            "4   Jessiejames               3       GB       2   \n",
            "\n",
            "                                                text          date_posted  \\\n",
            "0  ST2 9AL Had an issue with the scan, an employe...  2024-11-15 11:42:09   \n",
            "1  Your call centre staff are not the most helpfu...  2024-11-13 18:26:52   \n",
            "2  Just received my order from asda accrington,  ...  2024-11-14 21:20:00   \n",
            "3  Just had an online home delivery dropped off, ...  2024-11-13 23:34:32   \n",
            "4  Used the Asda rewards app to save for Christma...  2024-11-10 22:10:35   \n",
            "\n",
            "  date_of_experience verification                                   subject  \\\n",
            "0  November 11, 2024          NaN                                   ST2 9AL   \n",
            "1  November 13, 2024          NaN  Your call centre staff are not the most…   \n",
            "2  November 14, 2024          NaN         Just received my order from asda…   \n",
            "3  November 13, 2024          NaN          Asda, where did it all go wrong?   \n",
            "4   October 01, 2024          NaN                      Rewards not worth it   \n",
            "\n",
            "  answer company  \n",
            "0    NaN    Asda  \n",
            "1    NaN    Asda  \n",
            "2    NaN    Asda  \n",
            "3    NaN    Asda  \n",
            "4    NaN    Asda  \n"
          ]
        }
      ],
      "source": [
        "#Amending the dataset\n",
        "#number_reviews: Removing 'review(s)' from cell and converting to an integer\n",
        "df_trustpilot['number_reviews'] = df_trustpilot['number_reviews'].str.replace('(?i)reviews', '', regex=True).str.strip()\n",
        "df_trustpilot['number_reviews'] = df_trustpilot['number_reviews'].str.replace('(?i)review', '', regex=True).str.strip()\n",
        "print(df_trustpilot['number_reviews'].value_counts())\n",
        "df_trustpilot['number_reviews'] = df_trustpilot['number_reviews'].astype(int)\n",
        "\n",
        "#Verifying output\n",
        "print(df_trustpilot.info())\n",
        "print(df_trustpilot.head())"
      ]
    },
    {
      "cell_type": "code",
      "execution_count": 30,
      "metadata": {
        "trusted": true
      },
      "outputs": [
        {
          "name": "stdout",
          "output_type": "stream",
          "text": [
            "<class 'pandas.core.frame.DataFrame'>\n",
            "RangeIndex: 125362 entries, 0 to 125361\n",
            "Data columns (total 11 columns):\n",
            " #   Column              Non-Null Count   Dtype         \n",
            "---  ------              --------------   -----         \n",
            " 0   username            125343 non-null  object        \n",
            " 1   number_reviews      125362 non-null  int64         \n",
            " 2   location            125360 non-null  object        \n",
            " 3   rating              125362 non-null  int64         \n",
            " 4   text                125362 non-null  object        \n",
            " 5   date_posted         125362 non-null  datetime64[ns]\n",
            " 6   date_of_experience  125362 non-null  datetime64[ns]\n",
            " 7   verification        94076 non-null   object        \n",
            " 8   subject             125359 non-null  object        \n",
            " 9   answer              32019 non-null   object        \n",
            " 10  company             125362 non-null  object        \n",
            "dtypes: datetime64[ns](2), int64(2), object(7)\n",
            "memory usage: 10.5+ MB\n",
            "None\n",
            "       username  number_reviews location  rating  \\\n",
            "0      Dest Iny               7       GB       5   \n",
            "1    Paula Gray               4       GB       1   \n",
            "2    Neil Dodds               4       GB       1   \n",
            "3  Julie Currey               5       GB       1   \n",
            "4   Jessiejames               3       GB       2   \n",
            "\n",
            "                                                text         date_posted  \\\n",
            "0  ST2 9AL Had an issue with the scan, an employe... 2024-11-15 11:42:09   \n",
            "1  Your call centre staff are not the most helpfu... 2024-11-13 18:26:52   \n",
            "2  Just received my order from asda accrington,  ... 2024-11-14 21:20:00   \n",
            "3  Just had an online home delivery dropped off, ... 2024-11-13 23:34:32   \n",
            "4  Used the Asda rewards app to save for Christma... 2024-11-10 22:10:35   \n",
            "\n",
            "  date_of_experience verification                                   subject  \\\n",
            "0         2024-11-11          NaN                                   ST2 9AL   \n",
            "1         2024-11-13          NaN  Your call centre staff are not the most…   \n",
            "2         2024-11-14          NaN         Just received my order from asda…   \n",
            "3         2024-11-13          NaN          Asda, where did it all go wrong?   \n",
            "4         2024-10-01          NaN                      Rewards not worth it   \n",
            "\n",
            "  answer company  \n",
            "0    NaN    Asda  \n",
            "1    NaN    Asda  \n",
            "2    NaN    Asda  \n",
            "3    NaN    Asda  \n",
            "4    NaN    Asda  \n"
          ]
        }
      ],
      "source": [
        "#date_of_experience: Converting to datetime format\n",
        "df_trustpilot['date_of_experience'] = pd.to_datetime(df_trustpilot['date_of_experience'], errors='coerce')\n",
        "\n",
        "#date_posted: convert to datetime format\n",
        "df_trustpilot['date_posted'] = pd.to_datetime(df_trustpilot['date_posted'])\n",
        "\n",
        "print(df_trustpilot.info())\n",
        "print(df_trustpilot.head())"
      ]
    },
    {
      "cell_type": "markdown",
      "metadata": {},
      "source": [
        "STAGE 3 - DUPLICATES AND MISSING VALUES"
      ]
    },
    {
      "cell_type": "code",
      "execution_count": 31,
      "metadata": {
        "trusted": true
      },
      "outputs": [
        {
          "name": "stdout",
          "output_type": "stream",
          "text": [
            "Duplicate rows before:\n"
          ]
        },
        {
          "name": "stdout",
          "output_type": "stream",
          "text": [
            "11\n",
            "Duplicate rows after:\n",
            "0\n"
          ]
        }
      ],
      "source": [
        "#Identifying and handling duplicates in the dataset\n",
        "\n",
        "print(\"Duplicate rows before:\")\n",
        "print(df_trustpilot.duplicated().sum())\n",
        "\n",
        "df_trustpilot = df_trustpilot.drop_duplicates()\n",
        "\n",
        "print(\"Duplicate rows after:\")\n",
        "print(df_trustpilot.duplicated().sum())"
      ]
    },
    {
      "cell_type": "code",
      "execution_count": 32,
      "metadata": {
        "trusted": true
      },
      "outputs": [
        {
          "name": "stdout",
          "output_type": "stream",
          "text": [
            "Missing values:\n",
            "username                 19\n",
            "number_reviews            0\n",
            "location                  2\n",
            "rating                    0\n",
            "text                      0\n",
            "date_posted               0\n",
            "date_of_experience        0\n",
            "verification          31285\n",
            "subject                   3\n",
            "answer                93333\n",
            "company                   0\n",
            "dtype: int64\n"
          ]
        }
      ],
      "source": [
        "#Identifying missing values in the dataset\n",
        "\n",
        "print(\"Missing values:\")\n",
        "print(df_trustpilot.isnull().sum())"
      ]
    },
    {
      "cell_type": "markdown",
      "metadata": {},
      "source": [
        "There are five columns with missing values: username, text, verification, subject, and answer\n",
        "username only has 17 missing values and the username column is not critical so we can override that with the most frequently used value from other columns\n",
        "verification has 17,053 missing values - if verification is missing that means the user didnt verify themselves. Based on this, we should inspect the different options for this column and fill it with the value most likely representing 'Not verified'. \n",
        "text has 5683 missing values and is our biggest challenge. Based on the text we predict the rating. Determine what % of our entries has no text and then most likely proceed with deleting those rows.\n",
        "subject has 3 missing values. Based on the low number, we will remove these rows.\n",
        "answer has 63,735 missing values. We will fill those rows with 0s."
      ]
    },
    {
      "cell_type": "code",
      "execution_count": 33,
      "metadata": {
        "trusted": true
      },
      "outputs": [
        {
          "name": "stdout",
          "output_type": "stream",
          "text": [
            "This is the distribution of the types of username in the dataset:  \n",
            " username\n",
            "John        809\n",
            "customer    760\n",
            "Robert      652\n",
            "David       642\n",
            "James       569\n",
            "Name: count, dtype: int64\n",
            "This is the distribution of the types of verifications in the dataset:  \n",
            " verification\n",
            "Verified      76868\n",
            "Invited       17147\n",
            "Redirected       50\n",
            "Merged            1\n",
            "Name: count, dtype: int64\n",
            "The percentage of n/a values in the text column compared to the full dataset is: \n",
            "\n",
            "0.0\n",
            "Missing values:\n",
            "username              0\n",
            "number_reviews        0\n",
            "location              0\n",
            "rating                0\n",
            "text                  0\n",
            "date_posted           0\n",
            "date_of_experience    0\n",
            "verification          0\n",
            "subject               0\n",
            "answer                0\n",
            "company               0\n",
            "dtype: int64\n",
            "The dataset has  11 columns\n",
            "The dataset has  125346 rows\n"
          ]
        }
      ],
      "source": [
        "#Handling missing values\n",
        "\n",
        "#Username missing value\n",
        "print(\"This is the distribution of the types of username in the dataset: \", \"\\n\", df_trustpilot['username'].value_counts().head())\n",
        "\n",
        "#The username with the highest number in the dataset is 'Customer'. As this is a non-descript name for a username, we will apply it to the missing username.\n",
        "df_trustpilot['username'] = df_trustpilot['username'].fillna('Customer')\n",
        "\n",
        "#Verification missing value\n",
        "print(\"This is the distribution of the types of verifications in the dataset: \", \"\\n\", df_trustpilot['verification'].value_counts().head())\n",
        "\n",
        "#Inspection indicates that there is no value under verification specifically indicating that a user is not verified. We will hence create a new variable named 'Not Verified' and fill the n/a values with it. \n",
        "df_trustpilot['verification'] = df_trustpilot['verification'].fillna('Not Verified')\n",
        "\n",
        "#Text and subject missing value\n",
        "na_percentage = (df_trustpilot['text'].isna().sum() / len(df_trustpilot)) * 100\n",
        "print(\"The percentage of n/a values in the text column compared to the full dataset is:\", \"\\n\")\n",
        "print(na_percentage)\n",
        "\n",
        "#The text cells with missing values for text represent 6.6% of the full dataset. Due to the criticality of this column and the size of the dataset, the decision has been made to remove rows with n/a values for text.\n",
        "#Subject with missing values will also be dropped due to the low number\n",
        "df_trustpilot = df_trustpilot.dropna(axis=0, how='any', subset=['text', 'subject'])\n",
        "\n",
        "# Answer has a large number of empty values, which is to be expected.\n",
        "# We will fill those values with 0\n",
        "df_trustpilot['answer'] = df_trustpilot['answer'].fillna(0)\n",
        "\n",
        "df_trustpilot.dropna(inplace=True)\n",
        "\n",
        "print(\"Missing values:\")\n",
        "print(df_trustpilot.isnull().sum())\n",
        "\n",
        "print(\"The dataset has \", df_trustpilot.shape[1], \"columns\")\n",
        "print(\"The dataset has \", df_trustpilot.shape[0], \"rows\")\n"
      ]
    },
    {
      "cell_type": "code",
      "execution_count": 34,
      "metadata": {},
      "outputs": [
        {
          "name": "stdout",
          "output_type": "stream",
          "text": [
            "Checking dtypes are correct:\n",
            "<class 'pandas.core.frame.DataFrame'>\n",
            "Index: 125346 entries, 0 to 125361\n",
            "Data columns (total 11 columns):\n",
            " #   Column              Non-Null Count   Dtype         \n",
            "---  ------              --------------   -----         \n",
            " 0   username            125346 non-null  object        \n",
            " 1   number_reviews      125346 non-null  int64         \n",
            " 2   location            125346 non-null  object        \n",
            " 3   rating              125346 non-null  int64         \n",
            " 4   text                125346 non-null  object        \n",
            " 5   date_posted         125346 non-null  datetime64[ns]\n",
            " 6   date_of_experience  125346 non-null  datetime64[ns]\n",
            " 7   verification        125346 non-null  object        \n",
            " 8   subject             125346 non-null  object        \n",
            " 9   answer              125346 non-null  object        \n",
            " 10  company             125346 non-null  object        \n",
            "dtypes: datetime64[ns](2), int64(2), object(7)\n",
            "memory usage: 11.5+ MB\n",
            "None\n",
            "Verifying there are no more missing values:\n",
            "0\n",
            "Verifying there are no more duplicates:\n",
            "0\n"
          ]
        }
      ],
      "source": [
        "print(\"Checking dtypes are correct:\")\n",
        "print(df_trustpilot.info())\n",
        "\n",
        "print(\"Verifying there are no more missing values:\")\n",
        "print(df_trustpilot.isnull().sum().sum())\n",
        "\n",
        "print(\"Verifying there are no more duplicates:\")\n",
        "print(df_trustpilot.duplicated().sum())\n"
      ]
    },
    {
      "cell_type": "code",
      "execution_count": 35,
      "metadata": {},
      "outputs": [
        {
          "name": "stdout",
          "output_type": "stream",
          "text": [
            "Index(['username', 'number_reviews', 'location', 'rating', 'text',\n",
            "       'date_posted', 'date_of_experience', 'verification', 'subject',\n",
            "       'answer', 'company'],\n",
            "      dtype='object')\n"
          ]
        },
        {
          "data": {
            "text/plain": [
              "username\n",
              "John        809\n",
              "customer    760\n",
              "Robert      652\n",
              "David       642\n",
              "James       569\n",
              "Michael     498\n",
              "Richard     448\n",
              "William     368\n",
              "Paul        331\n",
              "Customer    331\n",
              "Name: count, dtype: int64"
            ]
          },
          "metadata": {},
          "output_type": "display_data"
        },
        {
          "data": {
            "text/plain": [
              "username\n",
              "Customer    1436\n",
              "John         975\n",
              "Robert       777\n",
              "David        744\n",
              "James        687\n",
              "Michael      592\n",
              "Richard      514\n",
              "William      476\n",
              "Paul         377\n",
              "Mark         308\n",
              "Name: count, dtype: int64"
            ]
          },
          "metadata": {},
          "output_type": "display_data"
        }
      ],
      "source": [
        "#Fix content standardization\n",
        "print(df_trustpilot.columns)\n",
        "\n",
        "#username\n",
        "display(df_trustpilot['username'].value_counts().head(10))\n",
        "#Standardizing 'customer' and 'Customer'\n",
        "df_trustpilot['username'] = df_trustpilot['username'].str.title()\n",
        "\n",
        "#There are additional entries that are not of value to us in this column. 'Quicken Member' and 'Anonymous' should also be converted to 'Customer' as all of these entries are people who did not provide their real name.\n",
        "replacements = {'Quicken Member': 'Customer','Anonymous': 'Customer', 'Anounymous': 'Customer'}\n",
        "df_trustpilot['username'] = df_trustpilot['username'].replace(replacements)\n",
        "display(df_trustpilot['username'].value_counts().head(10))"
      ]
    },
    {
      "cell_type": "markdown",
      "metadata": {},
      "source": [
        "STAGE 3 - TARGET VARIABLE INSPECTION"
      ]
    },
    {
      "cell_type": "code",
      "execution_count": 36,
      "metadata": {
        "trusted": true
      },
      "outputs": [
        {
          "name": "stdout",
          "output_type": "stream",
          "text": [
            "These are the statistical distributions of the target variable present in the dataset:  \n",
            "\n",
            "count    125346.000000\n",
            "mean          3.534951\n",
            "std           1.666003\n",
            "min           1.000000\n",
            "25%           2.000000\n",
            "50%           4.000000\n",
            "75%           5.000000\n",
            "max           5.000000\n",
            "Name: rating, dtype: float64\n",
            "The most common rating is 5, appearing 60111 times\n",
            "The median rating is: 4.00\n"
          ]
        }
      ],
      "source": [
        "#Inspecting statistical distributions of target variable 'rating'\n",
        "print(\"These are the statistical distributions of the target variable present in the dataset: \", \"\\n\")\n",
        "print(df_trustpilot['rating'].describe())\n",
        "\n",
        "#Calculating mode, mean and median for each numeric variable\n",
        "\n",
        "mode_value = df_trustpilot['rating'].mode()[0]\n",
        "mode_count = df_trustpilot['rating'].value_counts().iloc[0]\n",
        "    \n",
        "median_value = df_trustpilot['rating'].median()\n",
        "    \n",
        "\n",
        "print(f\"The most common rating is {mode_value}, appearing {mode_count} times\")\n",
        "print(f\"The median rating is: {median_value:.2f}\")"
      ]
    },
    {
      "cell_type": "code",
      "execution_count": 37,
      "metadata": {},
      "outputs": [
        {
          "data": {
            "image/png": "[encoded data removed]",
            "text/plain": [
              "<Figure size 400x400 with 1 Axes>"
            ]
          },
          "metadata": {},
          "output_type": "display_data"
        }
      ],
      "source": [
        "#Shows the distribution of rating\n",
        "plt.figure(figsize=(4, 4))\n",
        "sns.countplot(data=df_trustpilot, x='rating')\n",
        "plt.title('Distribution of Ratings')\n",
        "plt.xlabel('Rating')\n",
        "plt.ylabel('Count')\n",
        "plt.show()\n",
        "\n",
        "#Distribution shows a class imbalance"
      ]
    },
    {
      "cell_type": "code",
      "execution_count": 38,
      "metadata": {
        "trusted": true
      },
      "outputs": [
        {
          "name": "stdout",
          "output_type": "stream",
          "text": [
            "Index(['username', 'number_reviews', 'location', 'rating', 'text',\n",
            "       'date_posted', 'date_of_experience', 'verification', 'subject',\n",
            "       'answer', 'company'],\n",
            "      dtype='object')\n"
          ]
        },
        {
          "name": "stdout",
          "output_type": "stream",
          "text": [
            "<class 'pandas.core.frame.DataFrame'>\n",
            "Index: 125346 entries, 0 to 125361\n",
            "Data columns (total 11 columns):\n",
            " #   Column              Non-Null Count   Dtype         \n",
            "---  ------              --------------   -----         \n",
            " 0   username            125346 non-null  object        \n",
            " 1   number_reviews      125346 non-null  int64         \n",
            " 2   location            125346 non-null  object        \n",
            " 3   rating              125346 non-null  int64         \n",
            " 4   text                125346 non-null  object        \n",
            " 5   date_posted         125346 non-null  datetime64[ns]\n",
            " 6   date_of_experience  125346 non-null  datetime64[ns]\n",
            " 7   verification        125346 non-null  object        \n",
            " 8   subject             125346 non-null  object        \n",
            " 9   answer              125346 non-null  object        \n",
            " 10  company             125346 non-null  object        \n",
            "dtypes: datetime64[ns](2), int64(2), object(7)\n",
            "memory usage: 11.5+ MB\n",
            "None\n",
            "The Trustpilot dataset has  11 columns\n",
            "The Trustpilot dataset has  125346 rows\n"
          ]
        },
        {
          "data": {
            "text/html": [
              "<div>\n",
              "<style scoped>\n",
              "    .dataframe tbody tr th:only-of-type {\n",
              "        vertical-align: middle;\n",
              "    }\n",
              "\n",
              "    .dataframe tbody tr th {\n",
              "        vertical-align: top;\n",
              "    }\n",
              "\n",
              "    .dataframe thead th {\n",
              "        text-align: right;\n",
              "    }\n",
              "</style>\n",
              "<table border=\"1\" class=\"dataframe\">\n",
              "  <thead>\n",
              "    <tr style=\"text-align: right;\">\n",
              "      <th></th>\n",
              "      <th>username</th>\n",
              "      <th>number_reviews</th>\n",
              "      <th>location</th>\n",
              "      <th>rating</th>\n",
              "      <th>text</th>\n",
              "      <th>date_posted</th>\n",
              "      <th>date_of_experience</th>\n",
              "      <th>verification</th>\n",
              "      <th>subject</th>\n",
              "      <th>answer</th>\n",
              "      <th>company</th>\n",
              "    </tr>\n",
              "  </thead>\n",
              "  <tbody>\n",
              "    <tr>\n",
              "      <th>0</th>\n",
              "      <td>Dest Iny</td>\n",
              "      <td>7</td>\n",
              "      <td>GB</td>\n",
              "      <td>5</td>\n",
              "      <td>ST2 9AL Had an issue with the scan, an employe...</td>\n",
              "      <td>2024-11-15 11:42:09</td>\n",
              "      <td>2024-11-11</td>\n",
              "      <td>Not Verified</td>\n",
              "      <td>ST2 9AL</td>\n",
              "      <td>0</td>\n",
              "      <td>Asda</td>\n",
              "    </tr>\n",
              "    <tr>\n",
              "      <th>1</th>\n",
              "      <td>Paula Gray</td>\n",
              "      <td>4</td>\n",
              "      <td>GB</td>\n",
              "      <td>1</td>\n",
              "      <td>Your call centre staff are not the most helpfu...</td>\n",
              "      <td>2024-11-13 18:26:52</td>\n",
              "      <td>2024-11-13</td>\n",
              "      <td>Not Verified</td>\n",
              "      <td>Your call centre staff are not the most…</td>\n",
              "      <td>0</td>\n",
              "      <td>Asda</td>\n",
              "    </tr>\n",
              "    <tr>\n",
              "      <th>2</th>\n",
              "      <td>Neil Dodds</td>\n",
              "      <td>4</td>\n",
              "      <td>GB</td>\n",
              "      <td>1</td>\n",
              "      <td>Just received my order from asda accrington,  ...</td>\n",
              "      <td>2024-11-14 21:20:00</td>\n",
              "      <td>2024-11-14</td>\n",
              "      <td>Not Verified</td>\n",
              "      <td>Just received my order from asda…</td>\n",
              "      <td>0</td>\n",
              "      <td>Asda</td>\n",
              "    </tr>\n",
              "    <tr>\n",
              "      <th>3</th>\n",
              "      <td>Julie Currey</td>\n",
              "      <td>5</td>\n",
              "      <td>GB</td>\n",
              "      <td>1</td>\n",
              "      <td>Just had an online home delivery dropped off, ...</td>\n",
              "      <td>2024-11-13 23:34:32</td>\n",
              "      <td>2024-11-13</td>\n",
              "      <td>Not Verified</td>\n",
              "      <td>Asda, where did it all go wrong?</td>\n",
              "      <td>0</td>\n",
              "      <td>Asda</td>\n",
              "    </tr>\n",
              "    <tr>\n",
              "      <th>4</th>\n",
              "      <td>Jessiejames</td>\n",
              "      <td>3</td>\n",
              "      <td>GB</td>\n",
              "      <td>2</td>\n",
              "      <td>Used the Asda rewards app to save for Christma...</td>\n",
              "      <td>2024-11-10 22:10:35</td>\n",
              "      <td>2024-10-01</td>\n",
              "      <td>Not Verified</td>\n",
              "      <td>Rewards not worth it</td>\n",
              "      <td>0</td>\n",
              "      <td>Asda</td>\n",
              "    </tr>\n",
              "  </tbody>\n",
              "</table>\n",
              "</div>"
            ],
            "text/plain": [
              "       username  number_reviews location  rating  \\\n",
              "0      Dest Iny               7       GB       5   \n",
              "1    Paula Gray               4       GB       1   \n",
              "2    Neil Dodds               4       GB       1   \n",
              "3  Julie Currey               5       GB       1   \n",
              "4   Jessiejames               3       GB       2   \n",
              "\n",
              "                                                text         date_posted  \\\n",
              "0  ST2 9AL Had an issue with the scan, an employe... 2024-11-15 11:42:09   \n",
              "1  Your call centre staff are not the most helpfu... 2024-11-13 18:26:52   \n",
              "2  Just received my order from asda accrington,  ... 2024-11-14 21:20:00   \n",
              "3  Just had an online home delivery dropped off, ... 2024-11-13 23:34:32   \n",
              "4  Used the Asda rewards app to save for Christma... 2024-11-10 22:10:35   \n",
              "\n",
              "  date_of_experience  verification                                   subject  \\\n",
              "0         2024-11-11  Not Verified                                   ST2 9AL   \n",
              "1         2024-11-13  Not Verified  Your call centre staff are not the most…   \n",
              "2         2024-11-14  Not Verified         Just received my order from asda…   \n",
              "3         2024-11-13  Not Verified          Asda, where did it all go wrong?   \n",
              "4         2024-10-01  Not Verified                      Rewards not worth it   \n",
              "\n",
              "  answer company  \n",
              "0      0    Asda  \n",
              "1      0    Asda  \n",
              "2      0    Asda  \n",
              "3      0    Asda  \n",
              "4      0    Asda  "
            ]
          },
          "metadata": {},
          "output_type": "display_data"
        }
      ],
      "source": [
        "#Inspecting final output \n",
        "\n",
        "print(df_trustpilot.columns)\n",
        "print(df_trustpilot.info())\n",
        "print(\"The Trustpilot dataset has \", df_trustpilot.shape[1], \"columns\")\n",
        "print(\"The Trustpilot dataset has \", df_trustpilot.shape[0], \"rows\")\n",
        "display(df_trustpilot.head())"
      ]
    },
    {
      "cell_type": "code",
      "execution_count": 39,
      "metadata": {},
      "outputs": [
        {
          "name": "stdout",
          "output_type": "stream",
          "text": [
            "DataFrame exported to data/data_trustpilot_first.csv\n"
          ]
        }
      ],
      "source": [
        "import os\n",
        "\n",
        "os.makedirs('data', exist_ok=True)\n",
        "\n",
        "csv_path = 'data/data_trustpilot_first.csv'\n",
        "df_trustpilot.to_csv(csv_path, index=False)\n",
        "print(f\"DataFrame exported to {csv_path}\")"
      ]
    },
    {
      "cell_type": "markdown",
      "metadata": {},
      "source": []
    }
  ],
  "metadata": {
    "kernelspec": {
      "display_name": "Python 3",
      "language": "python",
      "name": "python3"
    },
    "language_info": {
      "codemirror_mode": {
        "name": "ipython",
        "version": 3
      },
      "file_extension": ".py",
      "mimetype": "text/x-python",
      "name": "python",
      "nbconvert_exporter": "python",
      "pygments_lexer": "ipython3",
      "version": "3.13.0"
    }
  },
  "nbformat": 4,
  "nbformat_minor": 4
}
