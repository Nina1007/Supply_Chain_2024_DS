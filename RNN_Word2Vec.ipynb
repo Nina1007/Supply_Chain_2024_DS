{
 "cells": [
  {
   "cell_type": "code",
   "execution_count": 15,
   "metadata": {},
   "outputs": [],
   "source": [
    "import pandas as pd\n",
    "import numpy as np\n",
    "from sklearn.model_selection import train_test_split\n",
    "from gensim.models import Word2Vec\n",
    "from tensorflow.keras.preprocessing.text import Tokenizer\n",
    "from tensorflow.keras.preprocessing.sequence import pad_sequences\n",
    "from tensorflow.keras.models import Sequential\n",
    "from tensorflow.keras.layers import Embedding, SimpleRNN, Dense, Dropout, LSTM\n",
    "from sklearn.preprocessing import LabelEncoder\n"
   ]
  },
  {
   "cell_type": "code",
   "execution_count": 2,
   "metadata": {},
   "outputs": [
    {
     "data": {
      "text/html": [
       "<div>\n",
       "<style scoped>\n",
       "    .dataframe tbody tr th:only-of-type {\n",
       "        vertical-align: middle;\n",
       "    }\n",
       "\n",
       "    .dataframe tbody tr th {\n",
       "        vertical-align: top;\n",
       "    }\n",
       "\n",
       "    .dataframe thead th {\n",
       "        text-align: right;\n",
       "    }\n",
       "</style>\n",
       "<table border=\"1\" class=\"dataframe\">\n",
       "  <thead>\n",
       "    <tr style=\"text-align: right;\">\n",
       "      <th></th>\n",
       "      <th>rating</th>\n",
       "      <th>location</th>\n",
       "      <th>username</th>\n",
       "      <th>number_reviews</th>\n",
       "      <th>verification</th>\n",
       "      <th>repeat_reviewer</th>\n",
       "      <th>repeat_reviewer_encoded</th>\n",
       "      <th>company</th>\n",
       "      <th>text</th>\n",
       "      <th>text_processed</th>\n",
       "      <th>...</th>\n",
       "      <th>date_posted</th>\n",
       "      <th>local_date_posted</th>\n",
       "      <th>month_local</th>\n",
       "      <th>local_hour</th>\n",
       "      <th>time_of_day</th>\n",
       "      <th>day_of_week_posted</th>\n",
       "      <th>day_type</th>\n",
       "      <th>days_between_experience_and_post</th>\n",
       "      <th>review_time</th>\n",
       "      <th>review_time_encoded</th>\n",
       "    </tr>\n",
       "  </thead>\n",
       "  <tbody>\n",
       "    <tr>\n",
       "      <th>0</th>\n",
       "      <td>5</td>\n",
       "      <td>CA</td>\n",
       "      <td>Rob Crane</td>\n",
       "      <td>2</td>\n",
       "      <td>Redirected</td>\n",
       "      <td>repeat</td>\n",
       "      <td>1</td>\n",
       "      <td>Flashbay</td>\n",
       "      <td>The company rep I worked with made my transact...</td>\n",
       "      <td>company rep worked made transaction smooth qui...</td>\n",
       "      <td>...</td>\n",
       "      <td>2024-10-23 04:17:44</td>\n",
       "      <td>2024-10-22</td>\n",
       "      <td>10</td>\n",
       "      <td>21</td>\n",
       "      <td>Evening</td>\n",
       "      <td>1</td>\n",
       "      <td>Business Day</td>\n",
       "      <td>129</td>\n",
       "      <td>late_review</td>\n",
       "      <td>0</td>\n",
       "    </tr>\n",
       "    <tr>\n",
       "      <th>1</th>\n",
       "      <td>5</td>\n",
       "      <td>US</td>\n",
       "      <td>Pat Anderson</td>\n",
       "      <td>1</td>\n",
       "      <td>Verified</td>\n",
       "      <td>one-time</td>\n",
       "      <td>0</td>\n",
       "      <td>Flashbay</td>\n",
       "      <td>I highly recommend using Flashbay. Immediately...</td>\n",
       "      <td>highly recommend using flashbay immediately or...</td>\n",
       "      <td>...</td>\n",
       "      <td>2024-10-16 19:34:05</td>\n",
       "      <td>2024-10-16</td>\n",
       "      <td>10</td>\n",
       "      <td>12</td>\n",
       "      <td>Business Hours</td>\n",
       "      <td>2</td>\n",
       "      <td>Business Day</td>\n",
       "      <td>0</td>\n",
       "      <td>quick_review</td>\n",
       "      <td>1</td>\n",
       "    </tr>\n",
       "    <tr>\n",
       "      <th>2</th>\n",
       "      <td>5</td>\n",
       "      <td>CZ</td>\n",
       "      <td>Margarita Orlova</td>\n",
       "      <td>1</td>\n",
       "      <td>Verified</td>\n",
       "      <td>one-time</td>\n",
       "      <td>0</td>\n",
       "      <td>Flashbay</td>\n",
       "      <td>I had the pleasure of working with Shelby Gibs...</td>\n",
       "      <td>pleasure working shelby gibson large order nee...</td>\n",
       "      <td>...</td>\n",
       "      <td>2024-10-17 10:27:44</td>\n",
       "      <td>2024-10-17</td>\n",
       "      <td>10</td>\n",
       "      <td>10</td>\n",
       "      <td>Business Hours</td>\n",
       "      <td>3</td>\n",
       "      <td>Business Day</td>\n",
       "      <td>7</td>\n",
       "      <td>late_review</td>\n",
       "      <td>0</td>\n",
       "    </tr>\n",
       "    <tr>\n",
       "      <th>3</th>\n",
       "      <td>5</td>\n",
       "      <td>US</td>\n",
       "      <td>Paola Rivas</td>\n",
       "      <td>1</td>\n",
       "      <td>Verified</td>\n",
       "      <td>one-time</td>\n",
       "      <td>0</td>\n",
       "      <td>Flashbay</td>\n",
       "      <td>I had a fantastic experience with Brian Truong...</td>\n",
       "      <td>fantastic experience brian truong attentive tr...</td>\n",
       "      <td>...</td>\n",
       "      <td>2024-10-21 22:38:50</td>\n",
       "      <td>2024-10-21</td>\n",
       "      <td>10</td>\n",
       "      <td>15</td>\n",
       "      <td>Business Hours</td>\n",
       "      <td>0</td>\n",
       "      <td>Business Day</td>\n",
       "      <td>0</td>\n",
       "      <td>quick_review</td>\n",
       "      <td>1</td>\n",
       "    </tr>\n",
       "    <tr>\n",
       "      <th>4</th>\n",
       "      <td>5</td>\n",
       "      <td>CA</td>\n",
       "      <td>Fiona Mckelvey Keenan</td>\n",
       "      <td>3</td>\n",
       "      <td>Not Verified</td>\n",
       "      <td>repeat</td>\n",
       "      <td>1</td>\n",
       "      <td>Flashbay</td>\n",
       "      <td>My number-one go-to for computer accessories. ...</td>\n",
       "      <td>numberone goto computer accessories rachel sup...</td>\n",
       "      <td>...</td>\n",
       "      <td>2024-10-23 04:09:05</td>\n",
       "      <td>2024-10-22</td>\n",
       "      <td>10</td>\n",
       "      <td>21</td>\n",
       "      <td>Evening</td>\n",
       "      <td>1</td>\n",
       "      <td>Business Day</td>\n",
       "      <td>103</td>\n",
       "      <td>late_review</td>\n",
       "      <td>0</td>\n",
       "    </tr>\n",
       "  </tbody>\n",
       "</table>\n",
       "<p>5 rows × 34 columns</p>\n",
       "</div>"
      ],
      "text/plain": [
       "   rating location               username  number_reviews  verification  \\\n",
       "0       5       CA              Rob Crane               2    Redirected   \n",
       "1       5       US           Pat Anderson               1      Verified   \n",
       "2       5       CZ       Margarita Orlova               1      Verified   \n",
       "3       5       US            Paola Rivas               1      Verified   \n",
       "4       5       CA  Fiona Mckelvey Keenan               3  Not Verified   \n",
       "\n",
       "  repeat_reviewer  repeat_reviewer_encoded   company  \\\n",
       "0          repeat                        1  Flashbay   \n",
       "1        one-time                        0  Flashbay   \n",
       "2        one-time                        0  Flashbay   \n",
       "3        one-time                        0  Flashbay   \n",
       "4          repeat                        1  Flashbay   \n",
       "\n",
       "                                                text  \\\n",
       "0  The company rep I worked with made my transact...   \n",
       "1  I highly recommend using Flashbay. Immediately...   \n",
       "2  I had the pleasure of working with Shelby Gibs...   \n",
       "3  I had a fantastic experience with Brian Truong...   \n",
       "4  My number-one go-to for computer accessories. ...   \n",
       "\n",
       "                                      text_processed  ...  \\\n",
       "0  company rep worked made transaction smooth qui...  ...   \n",
       "1  highly recommend using flashbay immediately or...  ...   \n",
       "2  pleasure working shelby gibson large order nee...  ...   \n",
       "3  fantastic experience brian truong attentive tr...  ...   \n",
       "4  numberone goto computer accessories rachel sup...  ...   \n",
       "\n",
       "           date_posted  local_date_posted  month_local  local_hour  \\\n",
       "0  2024-10-23 04:17:44         2024-10-22           10          21   \n",
       "1  2024-10-16 19:34:05         2024-10-16           10          12   \n",
       "2  2024-10-17 10:27:44         2024-10-17           10          10   \n",
       "3  2024-10-21 22:38:50         2024-10-21           10          15   \n",
       "4  2024-10-23 04:09:05         2024-10-22           10          21   \n",
       "\n",
       "      time_of_day  day_of_week_posted      day_type  \\\n",
       "0         Evening                   1  Business Day   \n",
       "1  Business Hours                   2  Business Day   \n",
       "2  Business Hours                   3  Business Day   \n",
       "3  Business Hours                   0  Business Day   \n",
       "4         Evening                   1  Business Day   \n",
       "\n",
       "  days_between_experience_and_post   review_time  review_time_encoded  \n",
       "0                              129   late_review                    0  \n",
       "1                                0  quick_review                    1  \n",
       "2                                7   late_review                    0  \n",
       "3                                0  quick_review                    1  \n",
       "4                              103   late_review                    0  \n",
       "\n",
       "[5 rows x 34 columns]"
      ]
     },
     "execution_count": 2,
     "metadata": {},
     "output_type": "execute_result"
    }
   ],
   "source": [
    "# Load dataset\n",
    "df = pd.read_csv(r\"data\\data_trustpilot.csv\") \n",
    "df.head()"
   ]
  },
  {
   "cell_type": "code",
   "execution_count": null,
   "metadata": {},
   "outputs": [],
   "source": [
    "# Split into training and test sets\n",
    "X = df['text_processed'].values\n",
    "y = df['rating'].values\n",
    "\n",
    "# Convert labels to categorical \n",
    "label_encoder = LabelEncoder()\n",
    "y = label_encoder.fit_transform(y)\n",
    "\n",
    "X_train, X_test, y_train, y_test = train_test_split(X, y, test_size=0.2, random_state=42)\n",
    "\n",
    "# Tokenize the text \n",
    "tokenizer = Tokenizer()\n",
    "tokenizer.fit_on_texts(X_train)\n",
    "X_train_seq = tokenizer.texts_to_sequences(X_train)\n",
    "X_test_seq = tokenizer.texts_to_sequences(X_test)\n",
    "\n",
    "# Pad sequences to have uniform length\n",
    "max_length = max([len(x) for x in X_train_seq]) \n",
    "X_train_pad = pad_sequences(X_train_seq, maxlen=max_length, padding='post')\n",
    "X_test_pad = pad_sequences(X_test_seq, maxlen=max_length, padding='post')\n",
    "\n"
   ]
  },
  {
   "cell_type": "code",
   "execution_count": 18,
   "metadata": {},
   "outputs": [],
   "source": [
    "# Preprocessing the text for Word2Vec\n",
    "sentences = [text.split() for text in df['text_processed']]\n",
    "\n",
    "# Train the Word2Vec model\n",
    "word2vec_model = Word2Vec(sentences, vector_size=100, window=5, min_count=1, workers=4)\n",
    "word2vec_model.save(\"word2vec.model\")\n",
    "\n",
    "# Extract word vectors for each word in the vocabulary\n",
    "embedding_index = {word: word2vec_model.wv[word] for word in word2vec_model.wv.index_to_key}"
   ]
  },
  {
   "cell_type": "code",
   "execution_count": 19,
   "metadata": {},
   "outputs": [],
   "source": [
    "# Create embedding matrix\n",
    "embedding_dim = 100  # Dimension of Word2Vec embeddings\n",
    "vocab_size = len(tokenizer.word_index) + 1  # Adding 1 for the padding token\n",
    "\n",
    "embedding_matrix = np.zeros((vocab_size, embedding_dim))\n",
    "for word, i in tokenizer.word_index.items():\n",
    "    if word in embedding_index:\n",
    "        embedding_matrix[i] = embedding_index[word]"
   ]
  },
  {
   "cell_type": "code",
   "execution_count": 20,
   "metadata": {},
   "outputs": [
    {
     "data": {
      "text/html": [
       "<pre style=\"white-space:pre;overflow-x:auto;line-height:normal;font-family:Menlo,'DejaVu Sans Mono',consolas,'Courier New',monospace\"><span style=\"font-weight: bold\">Model: \"sequential_5\"</span>\n",
       "</pre>\n"
      ],
      "text/plain": [
       "\u001b[1mModel: \"sequential_5\"\u001b[0m\n"
      ]
     },
     "metadata": {},
     "output_type": "display_data"
    },
    {
     "data": {
      "text/html": [
       "<pre style=\"white-space:pre;overflow-x:auto;line-height:normal;font-family:Menlo,'DejaVu Sans Mono',consolas,'Courier New',monospace\">┏━━━━━━━━━━━━━━━━━━━━━━━━━━━━━━━━━┳━━━━━━━━━━━━━━━━━━━━━━━━┳━━━━━━━━━━━━━━━┓\n",
       "┃<span style=\"font-weight: bold\"> Layer (type)                    </span>┃<span style=\"font-weight: bold\"> Output Shape           </span>┃<span style=\"font-weight: bold\">       Param # </span>┃\n",
       "┡━━━━━━━━━━━━━━━━━━━━━━━━━━━━━━━━━╇━━━━━━━━━━━━━━━━━━━━━━━━╇━━━━━━━━━━━━━━━┩\n",
       "│ embedding_4 (<span style=\"color: #0087ff; text-decoration-color: #0087ff\">Embedding</span>)         │ ?                      │     <span style=\"color: #00af00; text-decoration-color: #00af00\">4,788,600</span> │\n",
       "├─────────────────────────────────┼────────────────────────┼───────────────┤\n",
       "│ lstm_2 (<span style=\"color: #0087ff; text-decoration-color: #0087ff\">LSTM</span>)                   │ ?                      │   <span style=\"color: #00af00; text-decoration-color: #00af00\">0</span> (unbuilt) │\n",
       "├─────────────────────────────────┼────────────────────────┼───────────────┤\n",
       "│ dense_8 (<span style=\"color: #0087ff; text-decoration-color: #0087ff\">Dense</span>)                 │ ?                      │   <span style=\"color: #00af00; text-decoration-color: #00af00\">0</span> (unbuilt) │\n",
       "├─────────────────────────────────┼────────────────────────┼───────────────┤\n",
       "│ dropout_4 (<span style=\"color: #0087ff; text-decoration-color: #0087ff\">Dropout</span>)             │ ?                      │             <span style=\"color: #00af00; text-decoration-color: #00af00\">0</span> │\n",
       "├─────────────────────────────────┼────────────────────────┼───────────────┤\n",
       "│ dense_9 (<span style=\"color: #0087ff; text-decoration-color: #0087ff\">Dense</span>)                 │ ?                      │   <span style=\"color: #00af00; text-decoration-color: #00af00\">0</span> (unbuilt) │\n",
       "└─────────────────────────────────┴────────────────────────┴───────────────┘\n",
       "</pre>\n"
      ],
      "text/plain": [
       "┏━━━━━━━━━━━━━━━━━━━━━━━━━━━━━━━━━┳━━━━━━━━━━━━━━━━━━━━━━━━┳━━━━━━━━━━━━━━━┓\n",
       "┃\u001b[1m \u001b[0m\u001b[1mLayer (type)                   \u001b[0m\u001b[1m \u001b[0m┃\u001b[1m \u001b[0m\u001b[1mOutput Shape          \u001b[0m\u001b[1m \u001b[0m┃\u001b[1m \u001b[0m\u001b[1m      Param #\u001b[0m\u001b[1m \u001b[0m┃\n",
       "┡━━━━━━━━━━━━━━━━━━━━━━━━━━━━━━━━━╇━━━━━━━━━━━━━━━━━━━━━━━━╇━━━━━━━━━━━━━━━┩\n",
       "│ embedding_4 (\u001b[38;5;33mEmbedding\u001b[0m)         │ ?                      │     \u001b[38;5;34m4,788,600\u001b[0m │\n",
       "├─────────────────────────────────┼────────────────────────┼───────────────┤\n",
       "│ lstm_2 (\u001b[38;5;33mLSTM\u001b[0m)                   │ ?                      │   \u001b[38;5;34m0\u001b[0m (unbuilt) │\n",
       "├─────────────────────────────────┼────────────────────────┼───────────────┤\n",
       "│ dense_8 (\u001b[38;5;33mDense\u001b[0m)                 │ ?                      │   \u001b[38;5;34m0\u001b[0m (unbuilt) │\n",
       "├─────────────────────────────────┼────────────────────────┼───────────────┤\n",
       "│ dropout_4 (\u001b[38;5;33mDropout\u001b[0m)             │ ?                      │             \u001b[38;5;34m0\u001b[0m │\n",
       "├─────────────────────────────────┼────────────────────────┼───────────────┤\n",
       "│ dense_9 (\u001b[38;5;33mDense\u001b[0m)                 │ ?                      │   \u001b[38;5;34m0\u001b[0m (unbuilt) │\n",
       "└─────────────────────────────────┴────────────────────────┴───────────────┘\n"
      ]
     },
     "metadata": {},
     "output_type": "display_data"
    },
    {
     "data": {
      "text/html": [
       "<pre style=\"white-space:pre;overflow-x:auto;line-height:normal;font-family:Menlo,'DejaVu Sans Mono',consolas,'Courier New',monospace\"><span style=\"font-weight: bold\"> Total params: </span><span style=\"color: #00af00; text-decoration-color: #00af00\">4,788,600</span> (18.27 MB)\n",
       "</pre>\n"
      ],
      "text/plain": [
       "\u001b[1m Total params: \u001b[0m\u001b[38;5;34m4,788,600\u001b[0m (18.27 MB)\n"
      ]
     },
     "metadata": {},
     "output_type": "display_data"
    },
    {
     "data": {
      "text/html": [
       "<pre style=\"white-space:pre;overflow-x:auto;line-height:normal;font-family:Menlo,'DejaVu Sans Mono',consolas,'Courier New',monospace\"><span style=\"font-weight: bold\"> Trainable params: </span><span style=\"color: #00af00; text-decoration-color: #00af00\">0</span> (0.00 B)\n",
       "</pre>\n"
      ],
      "text/plain": [
       "\u001b[1m Trainable params: \u001b[0m\u001b[38;5;34m0\u001b[0m (0.00 B)\n"
      ]
     },
     "metadata": {},
     "output_type": "display_data"
    },
    {
     "data": {
      "text/html": [
       "<pre style=\"white-space:pre;overflow-x:auto;line-height:normal;font-family:Menlo,'DejaVu Sans Mono',consolas,'Courier New',monospace\"><span style=\"font-weight: bold\"> Non-trainable params: </span><span style=\"color: #00af00; text-decoration-color: #00af00\">4,788,600</span> (18.27 MB)\n",
       "</pre>\n"
      ],
      "text/plain": [
       "\u001b[1m Non-trainable params: \u001b[0m\u001b[38;5;34m4,788,600\u001b[0m (18.27 MB)\n"
      ]
     },
     "metadata": {},
     "output_type": "display_data"
    }
   ],
   "source": [
    "# Build the RNN model\n",
    "model = Sequential()\n",
    "model.add(Embedding(input_dim=vocab_size, output_dim=embedding_dim, \n",
    "                    weights=[embedding_matrix], trainable=False))\n",
    "model.add(LSTM(units=128, dropout=0.2, recurrent_dropout=0.2))  # LSTM layer\n",
    "model.add(Dense(units=64, activation='relu'))\n",
    "model.add(Dropout(0.3))\n",
    "model.add(Dense(units=5, activation='softmax'))  # 5 classes for 5-star ratings\n",
    "\n",
    "# Compile the model\n",
    "model.compile(optimizer='adam', loss='sparse_categorical_crossentropy', metrics=['accuracy'])\n",
    "\n",
    "# Summary of the model\n",
    "model.summary()"
   ]
  },
  {
   "cell_type": "code",
   "execution_count": 21,
   "metadata": {},
   "outputs": [
    {
     "name": "stdout",
     "output_type": "stream",
     "text": [
      "Epoch 1/10\n",
      "\u001b[1m1611/1611\u001b[0m \u001b[32m━━━━━━━━━━━━━━━━━━━━\u001b[0m\u001b[37m\u001b[0m \u001b[1m863s\u001b[0m 534ms/step - accuracy: 0.4847 - loss: 1.3636 - val_accuracy: 0.4823 - val_loss: 1.3391\n",
      "Epoch 2/10\n",
      "\u001b[1m1611/1611\u001b[0m \u001b[32m━━━━━━━━━━━━━━━━━━━━\u001b[0m\u001b[37m\u001b[0m \u001b[1m848s\u001b[0m 526ms/step - accuracy: 0.4865 - loss: 1.3391 - val_accuracy: 0.4824 - val_loss: 1.3395\n",
      "Epoch 3/10\n",
      "\u001b[1m1611/1611\u001b[0m \u001b[32m━━━━━━━━━━━━━━━━━━━━\u001b[0m\u001b[37m\u001b[0m \u001b[1m852s\u001b[0m 529ms/step - accuracy: 0.4873 - loss: 1.3331 - val_accuracy: 0.4824 - val_loss: 1.3386\n",
      "Epoch 4/10\n",
      "\u001b[1m1611/1611\u001b[0m \u001b[32m━━━━━━━━━━━━━━━━━━━━\u001b[0m\u001b[37m\u001b[0m \u001b[1m858s\u001b[0m 533ms/step - accuracy: 0.4879 - loss: 1.3345 - val_accuracy: 0.4824 - val_loss: 1.3381\n",
      "Epoch 5/10\n",
      "\u001b[1m1611/1611\u001b[0m \u001b[32m━━━━━━━━━━━━━━━━━━━━\u001b[0m\u001b[37m\u001b[0m \u001b[1m908s\u001b[0m 564ms/step - accuracy: 0.4878 - loss: 1.3369 - val_accuracy: 0.4824 - val_loss: 1.3384\n",
      "Epoch 6/10\n",
      "\u001b[1m1611/1611\u001b[0m \u001b[32m━━━━━━━━━━━━━━━━━━━━\u001b[0m\u001b[37m\u001b[0m \u001b[1m934s\u001b[0m 580ms/step - accuracy: 0.4908 - loss: 1.3308 - val_accuracy: 0.4824 - val_loss: 1.3381\n",
      "Epoch 7/10\n",
      "\u001b[1m1611/1611\u001b[0m \u001b[32m━━━━━━━━━━━━━━━━━━━━\u001b[0m\u001b[37m\u001b[0m \u001b[1m865s\u001b[0m 537ms/step - accuracy: 0.4901 - loss: 1.3263 - val_accuracy: 0.4824 - val_loss: 1.3380\n",
      "Epoch 8/10\n",
      "\u001b[1m1611/1611\u001b[0m \u001b[32m━━━━━━━━━━━━━━━━━━━━\u001b[0m\u001b[37m\u001b[0m \u001b[1m825s\u001b[0m 512ms/step - accuracy: 0.4842 - loss: 1.3347 - val_accuracy: 0.4824 - val_loss: 1.3391\n",
      "Epoch 9/10\n",
      "\u001b[1m1611/1611\u001b[0m \u001b[32m━━━━━━━━━━━━━━━━━━━━\u001b[0m\u001b[37m\u001b[0m \u001b[1m822s\u001b[0m 510ms/step - accuracy: 0.4890 - loss: 1.3292 - val_accuracy: 0.4824 - val_loss: 1.3381\n",
      "Epoch 10/10\n",
      "\u001b[1m1611/1611\u001b[0m \u001b[32m━━━━━━━━━━━━━━━━━━━━\u001b[0m\u001b[37m\u001b[0m \u001b[1m5437s\u001b[0m 3s/step - accuracy: 0.4895 - loss: 1.3305 - val_accuracy: 0.4824 - val_loss: 1.3378\n"
     ]
    }
   ],
   "source": [
    "# Train the model\n",
    "history = model.fit(X_train_pad, y_train, epochs=10, batch_size=32, validation_data=(X_test_pad, y_test))\n",
    "\n",
    "# Save the model\n",
    "model.save(\"rnn_Word2Vec_rating.keras\")"
   ]
  },
  {
   "cell_type": "code",
   "execution_count": 24,
   "metadata": {},
   "outputs": [
    {
     "name": "stdout",
     "output_type": "stream",
     "text": [
      "\u001b[1m403/403\u001b[0m \u001b[32m━━━━━━━━━━━━━━━━━━━━\u001b[0m\u001b[37m\u001b[0m \u001b[1m75s\u001b[0m 186ms/step - accuracy: 0.4783 - loss: 1.3387\n",
      "Test Accuracy:  48.23785126209259 %\n"
     ]
    }
   ],
   "source": [
    "# Evaluate the model\n",
    "loss, accuracy = model.evaluate(X_test_pad, y_test)\n",
    "print(\"Test Accuracy: \", accuracy*100, \"%\")"
   ]
  },
  {
   "cell_type": "code",
   "execution_count": null,
   "metadata": {},
   "outputs": [],
   "source": []
  }
 ],
 "metadata": {
  "kernelspec": {
   "display_name": "supply_chain",
   "language": "python",
   "name": "python3"
  },
  "language_info": {
   "codemirror_mode": {
    "name": "ipython",
    "version": 3
   },
   "file_extension": ".py",
   "mimetype": "text/x-python",
   "name": "python",
   "nbconvert_exporter": "python",
   "pygments_lexer": "ipython3",
   "version": "3.12.7"
  }
 },
 "nbformat": 4,
 "nbformat_minor": 2
}
